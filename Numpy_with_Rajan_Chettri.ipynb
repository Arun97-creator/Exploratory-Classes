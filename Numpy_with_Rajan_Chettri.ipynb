{
  "nbformat": 4,
  "nbformat_minor": 0,
  "metadata": {
    "colab": {
      "provenance": []
    },
    "kernelspec": {
      "name": "python3",
      "display_name": "Python 3"
    },
    "language_info": {
      "name": "python"
    }
  },
  "cells": [
    {
      "cell_type": "markdown",
      "source": [
        "## Numpy\n",
        "---\n",
        "Numpy is an easy to use and scientific library primarily provides us with Built in Functions that help us Deal with\n",
        "<pre>\n",
        "1.\n",
        "Mathematics eg. algebra / trignometry / logarithms\n",
        "\n",
        "2.\n",
        "Creating & Manipulate Matrix\n"
      ],
      "metadata": {
        "id": "Wm9Hx2MQ44sY"
      }
    },
    {
      "cell_type": "markdown",
      "source": [
        "<pre>\n",
        "In Order to Access the Numpy Functionality we are suppose to use Numpy's Own Data Structure i.e ND Arrray\n",
        "\n",
        "We must convert regular data eg. list /tuple to ND Array to store , process data  and to access Numpy Functionality."
      ],
      "metadata": {
        "id": "g7vY0lc15YFA"
      }
    },
    {
      "cell_type": "code",
      "execution_count": null,
      "metadata": {
        "id": "VZXThq7P4zmu"
      },
      "outputs": [],
      "source": [
        "# first we must import numpy\n",
        "\n",
        "\n",
        "import numpy as np          # here np is called Alias or sort of nickname (can be any)"
      ]
    },
    {
      "cell_type": "code",
      "source": [
        "# we are provided with data of distance traveled by 5 Bike 🚲  Riders\n",
        "\n",
        "distance_traveled = [ 110 , 150 , 220 , 250 , 188 ]"
      ],
      "metadata": {
        "id": "sGX2j2n-5FMh"
      },
      "execution_count": null,
      "outputs": []
    },
    {
      "cell_type": "code",
      "source": [
        "# objective: we are asked to analyse the data by extracting Mathematical Facts."
      ],
      "metadata": {
        "id": "FTlT6YUE6IgW"
      },
      "execution_count": null,
      "outputs": []
    },
    {
      "cell_type": "code",
      "source": [
        "# to extract mathematical facts we must convert             LIST -> ND Array"
      ],
      "metadata": {
        "id": "pc8E5KZX6TIO"
      },
      "execution_count": null,
      "outputs": []
    },
    {
      "cell_type": "code",
      "source": [
        "d_arr =     np.array( distance_traveled )         # np.array() converts List into ND Array"
      ],
      "metadata": {
        "id": "CEGBiYmJ6Zob"
      },
      "execution_count": null,
      "outputs": []
    },
    {
      "cell_type": "code",
      "source": [
        "# what is d_arr ?\n",
        "type(d_arr)"
      ],
      "metadata": {
        "colab": {
          "base_uri": "https://localhost:8080/"
        },
        "id": "2JoDy-N-6gdm",
        "outputId": "4c195eb7-c3ff-4e89-b325-53c8d5cd8916"
      },
      "execution_count": null,
      "outputs": [
        {
          "output_type": "execute_result",
          "data": {
            "text/plain": [
              "numpy.ndarray"
            ]
          },
          "metadata": {},
          "execution_count": 6
        }
      ]
    },
    {
      "cell_type": "code",
      "source": [
        "# what does it contains ?\n",
        "d_arr"
      ],
      "metadata": {
        "colab": {
          "base_uri": "https://localhost:8080/"
        },
        "id": "Vv0ZUGWM6it8",
        "outputId": "9c207d99-a02c-4e51-f20d-d14056cf6f52"
      },
      "execution_count": null,
      "outputs": [
        {
          "output_type": "execute_result",
          "data": {
            "text/plain": [
              "array([110, 150, 220, 250, 188])"
            ]
          },
          "metadata": {},
          "execution_count": 7
        }
      ]
    },
    {
      "cell_type": "code",
      "source": [],
      "metadata": {
        "id": "j27ayxnV6kf4"
      },
      "execution_count": null,
      "outputs": []
    },
    {
      "cell_type": "code",
      "source": [
        "# let us realise the benefit of converting a Python List into ND Array"
      ],
      "metadata": {
        "id": "btYaFewj7jrI"
      },
      "execution_count": null,
      "outputs": []
    },
    {
      "cell_type": "code",
      "source": [
        "print(\"Here is the Data \")\n",
        "print(d_arr)"
      ],
      "metadata": {
        "colab": {
          "base_uri": "https://localhost:8080/"
        },
        "id": "aTESzd2d7l_j",
        "outputId": "03d282df-a5d1-44d7-9fb3-734d2a3d3aa3"
      },
      "execution_count": null,
      "outputs": [
        {
          "output_type": "stream",
          "name": "stdout",
          "text": [
            "Here is the Data \n",
            "[110 150 220 250 188]\n"
          ]
        }
      ]
    },
    {
      "cell_type": "code",
      "source": [
        "print('Longest Distance Traveled ', d_arr.max())"
      ],
      "metadata": {
        "colab": {
          "base_uri": "https://localhost:8080/"
        },
        "id": "VQadiMy_7sAc",
        "outputId": "0f590838-96ad-4fe8-b58a-c553844ff90c"
      },
      "execution_count": null,
      "outputs": [
        {
          "output_type": "stream",
          "name": "stdout",
          "text": [
            "Longest Distance Traveled  250\n"
          ]
        }
      ]
    },
    {
      "cell_type": "code",
      "source": [
        "print('Shortest Distance Traveled ', d_arr.min())"
      ],
      "metadata": {
        "colab": {
          "base_uri": "https://localhost:8080/"
        },
        "id": "C9n8yq3p7woH",
        "outputId": "bba71469-076e-4cd5-ba54-a6dcd99c0957"
      },
      "execution_count": null,
      "outputs": [
        {
          "output_type": "stream",
          "name": "stdout",
          "text": [
            "Shortest Distance Traveled  110\n"
          ]
        }
      ]
    },
    {
      "cell_type": "code",
      "source": [
        "print('Total Distance Traveled ', d_arr.sum())"
      ],
      "metadata": {
        "colab": {
          "base_uri": "https://localhost:8080/"
        },
        "id": "XDBC4Kep71cJ",
        "outputId": "3b61bada-40dc-470c-9ed6-a41fb6a6089a"
      },
      "execution_count": null,
      "outputs": [
        {
          "output_type": "stream",
          "name": "stdout",
          "text": [
            "Total Distance Traveled  918\n"
          ]
        }
      ]
    },
    {
      "cell_type": "code",
      "source": [
        "print('Average Distance Traveled ', d_arr.mean())"
      ],
      "metadata": {
        "colab": {
          "base_uri": "https://localhost:8080/"
        },
        "id": "iDFudRXn76s0",
        "outputId": "f76abc2d-f04d-413e-bbe6-61bffbe0e338"
      },
      "execution_count": null,
      "outputs": [
        {
          "output_type": "stream",
          "name": "stdout",
          "text": [
            "Average Distance Traveled  183.6\n"
          ]
        }
      ]
    },
    {
      "cell_type": "code",
      "source": [
        "print('Median ' , np.median( d_arr ))   # this has slight different syntax"
      ],
      "metadata": {
        "colab": {
          "base_uri": "https://localhost:8080/"
        },
        "id": "xM9QbISC8AGu",
        "outputId": "4beb0f6b-9876-4337-a1e6-66daa8db9449"
      },
      "execution_count": null,
      "outputs": [
        {
          "output_type": "stream",
          "name": "stdout",
          "text": [
            "Median  188.0\n"
          ]
        }
      ]
    },
    {
      "cell_type": "code",
      "source": [
        "print('Standard Deviation ',  d_arr.std())"
      ],
      "metadata": {
        "colab": {
          "base_uri": "https://localhost:8080/"
        },
        "id": "n61C1Bt48GLt",
        "outputId": "87757f84-7c7b-43f9-e632-c5304e738db9"
      },
      "execution_count": null,
      "outputs": [
        {
          "output_type": "stream",
          "name": "stdout",
          "text": [
            "Standard Deviation  49.59677408864411\n"
          ]
        }
      ]
    },
    {
      "cell_type": "code",
      "source": [],
      "metadata": {
        "id": "128Cxdad8NnV"
      },
      "execution_count": null,
      "outputs": []
    },
    {
      "cell_type": "code",
      "source": [
        "print('Count of Elements ', d_arr.size)"
      ],
      "metadata": {
        "colab": {
          "base_uri": "https://localhost:8080/"
        },
        "id": "Q6BMDIXt83lc",
        "outputId": "4200e31b-f2a3-4eff-f62e-f436605ee8df"
      },
      "execution_count": null,
      "outputs": [
        {
          "output_type": "stream",
          "name": "stdout",
          "text": [
            "Count of Elements  5\n"
          ]
        }
      ]
    },
    {
      "cell_type": "code",
      "source": [],
      "metadata": {
        "id": "3rdsnIWf88S3"
      },
      "execution_count": null,
      "outputs": []
    },
    {
      "cell_type": "code",
      "source": [
        "## Reason : 1  : Vectorization"
      ],
      "metadata": {
        "id": "mGUNeYwY9PA9"
      },
      "execution_count": null,
      "outputs": []
    },
    {
      "cell_type": "code",
      "source": [
        "distance_traveled # list"
      ],
      "metadata": {
        "colab": {
          "base_uri": "https://localhost:8080/"
        },
        "id": "EqpcWmxn9Vi9",
        "outputId": "5694e516-ed32-4d9c-bbdd-1a9bc334eeeb"
      },
      "execution_count": null,
      "outputs": [
        {
          "output_type": "execute_result",
          "data": {
            "text/plain": [
              "[110, 150, 220, 250, 188]"
            ]
          },
          "metadata": {},
          "execution_count": 20
        }
      ]
    },
    {
      "cell_type": "code",
      "source": [
        "d_arr # nd array"
      ],
      "metadata": {
        "colab": {
          "base_uri": "https://localhost:8080/"
        },
        "id": "AloG7C309XY1",
        "outputId": "a55b1620-ff55-4864-c606-8cf4a4165472"
      },
      "execution_count": null,
      "outputs": [
        {
          "output_type": "execute_result",
          "data": {
            "text/plain": [
              "array([110, 150, 220, 250, 188])"
            ]
          },
          "metadata": {},
          "execution_count": 21
        }
      ]
    },
    {
      "cell_type": "code",
      "source": [
        "# task : you are asked to increment each element by 1"
      ],
      "metadata": {
        "id": "6TzGbJMP9YQ4"
      },
      "execution_count": null,
      "outputs": []
    },
    {
      "cell_type": "code",
      "source": [
        "d_arr + 1 # this expression works because of Vectorization feature.\n",
        "# vectorization enables us to compute each element of given ND Array without Requiring a LOOP"
      ],
      "metadata": {
        "colab": {
          "base_uri": "https://localhost:8080/"
        },
        "id": "pyCEh8nL9mCB",
        "outputId": "623d0b26-a152-4700-a4f1-a3d504d9a147"
      },
      "execution_count": null,
      "outputs": [
        {
          "output_type": "execute_result",
          "data": {
            "text/plain": [
              "array([111, 151, 221, 251, 189])"
            ]
          },
          "metadata": {},
          "execution_count": 24
        }
      ]
    },
    {
      "cell_type": "code",
      "source": [
        "distance_traveled + 1"
      ],
      "metadata": {
        "colab": {
          "base_uri": "https://localhost:8080/",
          "height": 176
        },
        "id": "weZar17B9f29",
        "outputId": "abe2ff8b-cff7-498d-f190-b8bb4d306aeb"
      },
      "execution_count": null,
      "outputs": [
        {
          "output_type": "error",
          "ename": "TypeError",
          "evalue": "ignored",
          "traceback": [
            "\u001b[0;31m---------------------------------------------------------------------------\u001b[0m",
            "\u001b[0;31mTypeError\u001b[0m                                 Traceback (most recent call last)",
            "\u001b[0;32m<ipython-input-23-e995b692308c>\u001b[0m in \u001b[0;36m<cell line: 1>\u001b[0;34m()\u001b[0m\n\u001b[0;32m----> 1\u001b[0;31m \u001b[0mdistance_traveled\u001b[0m \u001b[0;34m+\u001b[0m \u001b[0;36m1\u001b[0m\u001b[0;34m\u001b[0m\u001b[0;34m\u001b[0m\u001b[0m\n\u001b[0m",
            "\u001b[0;31mTypeError\u001b[0m: can only concatenate list (not \"int\") to list"
          ]
        }
      ]
    },
    {
      "cell_type": "code",
      "source": [],
      "metadata": {
        "id": "uaRuZqdG9ips"
      },
      "execution_count": null,
      "outputs": []
    },
    {
      "cell_type": "code",
      "source": [
        "# Reason 2 : ND Arrays are Memory Efficient"
      ],
      "metadata": {
        "id": "gIptzuj8-Fap"
      },
      "execution_count": null,
      "outputs": []
    },
    {
      "cell_type": "code",
      "source": [
        "# Task : You are asked to find how much memory 1 Integer Occupies in RAM in case of Python vs Numpy"
      ],
      "metadata": {
        "id": "qcJPMMYk-QdZ"
      },
      "execution_count": null,
      "outputs": []
    },
    {
      "cell_type": "code",
      "source": [
        "# python test\n",
        "\n",
        "import sys\n",
        "\n",
        "print(sys.getsizeof(5),' bytes ')"
      ],
      "metadata": {
        "colab": {
          "base_uri": "https://localhost:8080/"
        },
        "id": "Hj2MUAMi-kIp",
        "outputId": "9c5a66d0-3458-4f85-d959-b656b95b76f8"
      },
      "execution_count": null,
      "outputs": [
        {
          "output_type": "stream",
          "name": "stdout",
          "text": [
            "28  bytes \n"
          ]
        }
      ]
    },
    {
      "cell_type": "code",
      "source": [],
      "metadata": {
        "id": "d6HBhSl0-tqQ"
      },
      "execution_count": null,
      "outputs": []
    },
    {
      "cell_type": "code",
      "source": [
        "#numpy test\n",
        "\n",
        "import numpy as np\n",
        "\n",
        "print(np.array([1,2,3]).itemsize, ' bytes')\n",
        "\n",
        "# .itemsize property returns the size of single element from given array"
      ],
      "metadata": {
        "colab": {
          "base_uri": "https://localhost:8080/"
        },
        "id": "U5L9Q1cN-8IU",
        "outputId": "1699f1f8-1eff-41ae-eb4b-f0eebf37df30"
      },
      "execution_count": null,
      "outputs": [
        {
          "output_type": "stream",
          "name": "stdout",
          "text": [
            "8  bytes\n"
          ]
        }
      ]
    },
    {
      "cell_type": "code",
      "source": [],
      "metadata": {
        "id": "_oOkxI-s_I24"
      },
      "execution_count": null,
      "outputs": []
    },
    {
      "cell_type": "code",
      "source": [
        "# Reason : 3  Performance"
      ],
      "metadata": {
        "id": "dc6QqWc0_d0t"
      },
      "execution_count": null,
      "outputs": []
    },
    {
      "cell_type": "code",
      "source": [
        "# task : you are asked to find how much is taken for adding 1 million numbers using python vs numpy"
      ],
      "metadata": {
        "id": "UKfP5063_l0B"
      },
      "execution_count": null,
      "outputs": []
    },
    {
      "cell_type": "code",
      "source": [
        "import time\n",
        "\n",
        "SIZE = 1000000\n",
        "\n",
        "A1 = range( SIZE )\n",
        "A2 = range( SIZE )\n",
        "\n",
        "L1 = np.arange( SIZE )\n",
        "L2 = np.arange( SIZE )\n",
        "\n",
        "start = time.time()\n",
        "result = [x+y for x,y in zip(A1,A2)]\n",
        "stop = time.time()\n",
        "\n",
        "print('Python took ', (stop-start) * 1000 ,' ms')\n",
        "\n",
        "start = time.time()\n",
        "result = L1 + L2\n",
        "stop = time.time()\n",
        "\n",
        "print('Numpy took ' , ( stop-start) * 1000 ,' ms')"
      ],
      "metadata": {
        "colab": {
          "base_uri": "https://localhost:8080/"
        },
        "id": "W6TvqZFL_qKC",
        "outputId": "b8ce76c3-bd3c-4759-beda-bef37db7cc2e"
      },
      "execution_count": null,
      "outputs": [
        {
          "output_type": "stream",
          "name": "stdout",
          "text": [
            "Python took  121.07062339782715  ms\n",
            "Numpy took  19.78898048400879  ms\n"
          ]
        }
      ]
    },
    {
      "cell_type": "code",
      "source": [],
      "metadata": {
        "id": "ODdgTjikAwvF"
      },
      "execution_count": null,
      "outputs": []
    },
    {
      "cell_type": "markdown",
      "source": [
        "# Creating / Inspecting  2D Array in Numpy\n",
        "---"
      ],
      "metadata": {
        "id": "2Y3kx5A3A_Zh"
      }
    },
    {
      "cell_type": "code",
      "source": [
        "# Context :  you are provided with weather information\n",
        "\n",
        "# Columns represent Year i.e 1990 , 1991 , 1992\n",
        "# rows represent Months i.e Jan / Feb / Mar / Apr\n",
        "\n",
        "weather_info = [\n",
        "\n",
        "                [ 14 , 18 , 16 ],\n",
        "                [ 18 , 15 , 17 ],\n",
        "                [ 21 , 18 , 16 ],\n",
        "                [ 19 , 17 , 21 ]\n",
        "]\n",
        "\n",
        "# technically above  is a nested list, lets convert nestedlist -> ND Array\n",
        "\n",
        "w_arr = np.array ( weather_info )"
      ],
      "metadata": {
        "id": "udR_aiAHA6gC"
      },
      "execution_count": null,
      "outputs": []
    },
    {
      "cell_type": "code",
      "source": [
        "w_arr                         # what is the temprature in Mar 1992 ? 16"
      ],
      "metadata": {
        "colab": {
          "base_uri": "https://localhost:8080/"
        },
        "id": "zlB1htZTA6m7",
        "outputId": "f34966df-e445-45b2-bc20-eec08567e58d"
      },
      "execution_count": null,
      "outputs": [
        {
          "output_type": "execute_result",
          "data": {
            "text/plain": [
              "array([[14, 18, 16],\n",
              "       [18, 15, 17],\n",
              "       [21, 18, 16],\n",
              "       [19, 17, 21]])"
            ]
          },
          "metadata": {},
          "execution_count": 38
        }
      ]
    },
    {
      "cell_type": "markdown",
      "source": [
        "## Matrix Inspection\n",
        "---"
      ],
      "metadata": {
        "id": "I8gn4KG8CXdb"
      }
    },
    {
      "cell_type": "code",
      "source": [
        "print('Here is the Array/Matrix')\n",
        "print(w_arr)"
      ],
      "metadata": {
        "colab": {
          "base_uri": "https://localhost:8080/"
        },
        "id": "bu89JfGgA6sP",
        "outputId": "a171117a-0210-49dc-db87-85afc01fe39d"
      },
      "execution_count": null,
      "outputs": [
        {
          "output_type": "stream",
          "name": "stdout",
          "text": [
            "Here is the Array/Matrix\n",
            "[[14 18 16]\n",
            " [18 15 17]\n",
            " [21 18 16]\n",
            " [19 17 21]]\n"
          ]
        }
      ]
    },
    {
      "cell_type": "code",
      "source": [
        "print('Rows X Cols ')\n",
        "print( w_arr.shape )"
      ],
      "metadata": {
        "colab": {
          "base_uri": "https://localhost:8080/"
        },
        "id": "m6Ik0hxVA6xV",
        "outputId": "8d512907-0ccc-477e-c468-2f5ddc64eb3e"
      },
      "execution_count": null,
      "outputs": [
        {
          "output_type": "stream",
          "name": "stdout",
          "text": [
            "Rows X Cols \n",
            "(4, 3)\n"
          ]
        }
      ]
    },
    {
      "cell_type": "code",
      "source": [
        "print('DataType ', w_arr.dtype)"
      ],
      "metadata": {
        "colab": {
          "base_uri": "https://localhost:8080/"
        },
        "id": "Ru0OpOJeA62s",
        "outputId": "3f1e0462-abcd-4d6e-9be2-09f644090035"
      },
      "execution_count": null,
      "outputs": [
        {
          "output_type": "stream",
          "name": "stdout",
          "text": [
            "DataType  int64\n"
          ]
        }
      ]
    },
    {
      "cell_type": "code",
      "source": [
        "print('Memory Occupied by 1 Element in Array ', w_arr.itemsize,' bytes')"
      ],
      "metadata": {
        "colab": {
          "base_uri": "https://localhost:8080/"
        },
        "id": "DKK2DwSBA68q",
        "outputId": "59eb9705-e71a-4ada-df22-f318ee2be24a"
      },
      "execution_count": null,
      "outputs": [
        {
          "output_type": "stream",
          "name": "stdout",
          "text": [
            "Memory Occupied by 1 Element in Array  8  bytes\n"
          ]
        }
      ]
    },
    {
      "cell_type": "code",
      "source": [
        "print('Memory occupied by whole Array ' , w_arr.nbytes,' bytes')"
      ],
      "metadata": {
        "colab": {
          "base_uri": "https://localhost:8080/"
        },
        "id": "85TuM1pAA7Bv",
        "outputId": "7aa87982-67c8-43e4-fd2a-ab185deb4b17"
      },
      "execution_count": null,
      "outputs": [
        {
          "output_type": "stream",
          "name": "stdout",
          "text": [
            "Memory occupied by whole Array  96  bytes\n"
          ]
        }
      ]
    },
    {
      "cell_type": "code",
      "source": [
        "print('Count of Elements ', w_arr.size)"
      ],
      "metadata": {
        "colab": {
          "base_uri": "https://localhost:8080/"
        },
        "id": "MsCEi5UPA7Gl",
        "outputId": "bcf0a02a-07ea-40f1-fac7-2a4a4136b3d9"
      },
      "execution_count": null,
      "outputs": [
        {
          "output_type": "stream",
          "name": "stdout",
          "text": [
            "Count of Elements  12\n"
          ]
        }
      ]
    },
    {
      "cell_type": "code",
      "source": [
        "print('Number of Dimension ', w_arr.ndim)"
      ],
      "metadata": {
        "colab": {
          "base_uri": "https://localhost:8080/"
        },
        "id": "PjFcJUl1DRBn",
        "outputId": "7c5fb745-b20f-44e8-93b1-fdea583c4a36"
      },
      "execution_count": null,
      "outputs": [
        {
          "output_type": "stream",
          "name": "stdout",
          "text": [
            "Number of Dimension  2\n"
          ]
        }
      ]
    },
    {
      "cell_type": "code",
      "source": [],
      "metadata": {
        "id": "hwO7fwXaDTRZ"
      },
      "execution_count": null,
      "outputs": []
    },
    {
      "cell_type": "markdown",
      "source": [
        "# Indexing in Matrix\n",
        "---"
      ],
      "metadata": {
        "id": "xvAc85CTD8UC"
      }
    },
    {
      "cell_type": "markdown",
      "source": [
        "![image.png](data:image/png;base64,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)"
      ],
      "metadata": {
        "id": "wfxWyAAKEDX4"
      }
    },
    {
      "cell_type": "code",
      "source": [
        "# Syntax\n",
        "\n",
        "# array [ rowIndex , ColIndex ]"
      ],
      "metadata": {
        "id": "zATa4YkeD9fb"
      },
      "execution_count": null,
      "outputs": []
    },
    {
      "cell_type": "code",
      "source": [
        "w_arr"
      ],
      "metadata": {
        "colab": {
          "base_uri": "https://localhost:8080/"
        },
        "id": "VXp4OlSFElc6",
        "outputId": "4f40d8da-f69c-415f-b798-4a790454dd34"
      },
      "execution_count": null,
      "outputs": [
        {
          "output_type": "execute_result",
          "data": {
            "text/plain": [
              "array([[14, 18, 16],\n",
              "       [18, 15, 17],\n",
              "       [21, 18, 16],\n",
              "       [19, 17, 21]])"
            ]
          },
          "metadata": {},
          "execution_count": 47
        }
      ]
    },
    {
      "cell_type": "code",
      "source": [
        "# temprature in year 1990 March\n",
        "\n",
        "w_arr[ 2 , 0 ]"
      ],
      "metadata": {
        "colab": {
          "base_uri": "https://localhost:8080/"
        },
        "id": "oaXLJxPiEl-q",
        "outputId": "18778240-aff4-4c2d-b572-1dc13736bf1c"
      },
      "execution_count": null,
      "outputs": [
        {
          "output_type": "execute_result",
          "data": {
            "text/plain": [
              "21"
            ]
          },
          "metadata": {},
          "execution_count": 48
        }
      ]
    },
    {
      "cell_type": "code",
      "source": [
        "# find temprature in year 1991 , feb"
      ],
      "metadata": {
        "id": "zkiEN_18ErHc"
      },
      "execution_count": null,
      "outputs": []
    },
    {
      "cell_type": "code",
      "source": [
        "w_arr[ 1 , 1 ]"
      ],
      "metadata": {
        "colab": {
          "base_uri": "https://localhost:8080/"
        },
        "id": "Upw2VLItEywq",
        "outputId": "4fccebb2-0af1-44da-a422-066cf7685b24"
      },
      "execution_count": null,
      "outputs": [
        {
          "output_type": "execute_result",
          "data": {
            "text/plain": [
              "15"
            ]
          },
          "metadata": {},
          "execution_count": 50
        }
      ]
    },
    {
      "cell_type": "markdown",
      "source": [
        "# Matrix Slicing\n",
        "---"
      ],
      "metadata": {
        "id": "p7ls2VKEFGa5"
      }
    },
    {
      "cell_type": "markdown",
      "source": [
        "## Here is a Quick Revision\n",
        "---\n",
        "<pre>\n",
        "[ : ]       Includes all Index(s)\n",
        "\n",
        "[ M : N ]  From M Index till N - 1 Index\n",
        "\n",
        "[ : N ]    From 0 Index till N - 1 Index\n",
        "\n",
        "[ M : ]    From M INdex till Length - 1 Index"
      ],
      "metadata": {
        "id": "x1bOQjUtFJUK"
      }
    },
    {
      "cell_type": "code",
      "source": [
        "# here i generated a 1D array of 30 Elements\n",
        "\n",
        "one_arr = np.arange(1, 31)\n",
        "one_arr"
      ],
      "metadata": {
        "colab": {
          "base_uri": "https://localhost:8080/"
        },
        "id": "X1KI3tqrFDiU",
        "outputId": "f5023aa4-1ee8-4ab3-d352-789180f477ff"
      },
      "execution_count": null,
      "outputs": [
        {
          "output_type": "execute_result",
          "data": {
            "text/plain": [
              "array([ 1,  2,  3,  4,  5,  6,  7,  8,  9, 10, 11, 12, 13, 14, 15, 16, 17,\n",
              "       18, 19, 20, 21, 22, 23, 24, 25, 26, 27, 28, 29, 30])"
            ]
          },
          "metadata": {},
          "execution_count": 51
        }
      ]
    },
    {
      "cell_type": "code",
      "source": [
        "# here i restructured / reshaped 1D Array to 2D Array of shape 6 Rows 5 Cols\n",
        "\n",
        "two_arr = one_arr.reshape ( 6 , 5 )\n",
        "\n",
        "two_arr"
      ],
      "metadata": {
        "colab": {
          "base_uri": "https://localhost:8080/"
        },
        "id": "dBqlfq49Fv5L",
        "outputId": "df63abef-9699-488e-d4ec-4c5ff0dadab7"
      },
      "execution_count": null,
      "outputs": [
        {
          "output_type": "execute_result",
          "data": {
            "text/plain": [
              "array([[ 1,  2,  3,  4,  5],\n",
              "       [ 6,  7,  8,  9, 10],\n",
              "       [11, 12, 13, 14, 15],\n",
              "       [16, 17, 18, 19, 20],\n",
              "       [21, 22, 23, 24, 25],\n",
              "       [26, 27, 28, 29, 30]])"
            ]
          },
          "metadata": {},
          "execution_count": 52
        }
      ]
    },
    {
      "cell_type": "markdown",
      "source": [
        "# Here is the Targted SubMatrix\n",
        "\n",
        "![image.png](data:image/png;base64,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)"
      ],
      "metadata": {
        "id": "evw6rAJjGPI-"
      }
    },
    {
      "cell_type": "code",
      "source": [
        "# Row Index : 0 , 1 , 2      i.e [ : 3]\n",
        "# Col Index : 0 and 1        i.e [ : 2]"
      ],
      "metadata": {
        "id": "LaBAsw1dF5Yl"
      },
      "execution_count": null,
      "outputs": []
    },
    {
      "cell_type": "code",
      "source": [
        "two_arr[ : 3 , : 2 ]"
      ],
      "metadata": {
        "colab": {
          "base_uri": "https://localhost:8080/"
        },
        "id": "b6lABrabGfnB",
        "outputId": "95413df1-1fc5-4f89-8542-04287cf6e822"
      },
      "execution_count": null,
      "outputs": [
        {
          "output_type": "execute_result",
          "data": {
            "text/plain": [
              "array([[ 1,  2],\n",
              "       [ 6,  7],\n",
              "       [11, 12]])"
            ]
          },
          "metadata": {},
          "execution_count": 54
        }
      ]
    },
    {
      "cell_type": "code",
      "source": [
        "two_arr"
      ],
      "metadata": {
        "colab": {
          "base_uri": "https://localhost:8080/"
        },
        "id": "5zEDJPc3GiiJ",
        "outputId": "1be1eada-911a-4601-b7c4-677da6c9c556"
      },
      "execution_count": null,
      "outputs": [
        {
          "output_type": "execute_result",
          "data": {
            "text/plain": [
              "array([[ 1,  2,  3,  4,  5],\n",
              "       [ 6,  7,  8,  9, 10],\n",
              "       [11, 12, 13, 14, 15],\n",
              "       [16, 17, 18, 19, 20],\n",
              "       [21, 22, 23, 24, 25],\n",
              "       [26, 27, 28, 29, 30]])"
            ]
          },
          "metadata": {},
          "execution_count": 55
        }
      ]
    },
    {
      "cell_type": "markdown",
      "source": [
        "### Targeted Submatrix\n",
        "---\n",
        "![image.png](data:image/png;base64,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)"
      ],
      "metadata": {
        "id": "z8MHd0S8Hpih"
      }
    },
    {
      "cell_type": "code",
      "source": [
        "# Row Index : 2 , 3 and 4     i.e. [ 2 : 5  ]\n",
        "# Col Index : 2 , 3 and 4     i.e  [ 2 : 5  ] OR         [ 2 : ]\n",
        "\n",
        "two_arr[ 2: 5, 2 : ]"
      ],
      "metadata": {
        "colab": {
          "base_uri": "https://localhost:8080/"
        },
        "id": "53wPJJOjHoHf",
        "outputId": "88dc9c66-9062-4214-9afa-49c0991a354c"
      },
      "execution_count": null,
      "outputs": [
        {
          "output_type": "execute_result",
          "data": {
            "text/plain": [
              "array([[13, 14, 15],\n",
              "       [18, 19, 20],\n",
              "       [23, 24, 25]])"
            ]
          },
          "metadata": {},
          "execution_count": 56
        }
      ]
    },
    {
      "cell_type": "code",
      "source": [
        "two_arr"
      ],
      "metadata": {
        "colab": {
          "base_uri": "https://localhost:8080/"
        },
        "id": "STsbaCdQILoa",
        "outputId": "c32088ca-da70-4e1f-98ff-93b63c09c96e"
      },
      "execution_count": null,
      "outputs": [
        {
          "output_type": "execute_result",
          "data": {
            "text/plain": [
              "array([[ 1,  2,  3,  4,  5],\n",
              "       [ 6,  7,  8,  9, 10],\n",
              "       [11, 12, 13, 14, 15],\n",
              "       [16, 17, 18, 19, 20],\n",
              "       [21, 22, 23, 24, 25],\n",
              "       [26, 27, 28, 29, 30]])"
            ]
          },
          "metadata": {},
          "execution_count": 57
        }
      ]
    },
    {
      "cell_type": "markdown",
      "source": [
        "## Targeted Sub Matrix\n",
        "---\n",
        "![image.png](data:image/png;base64,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)"
      ],
      "metadata": {
        "id": "uU39tnwmIkrH"
      }
    },
    {
      "cell_type": "code",
      "source": [
        "two_arr[ 1:5 , 1:4 ]"
      ],
      "metadata": {
        "colab": {
          "base_uri": "https://localhost:8080/"
        },
        "id": "08aYyRa6IjAX",
        "outputId": "20885a55-4f58-4917-bde7-d56a986b5838"
      },
      "execution_count": null,
      "outputs": [
        {
          "output_type": "execute_result",
          "data": {
            "text/plain": [
              "array([[ 7,  8,  9],\n",
              "       [12, 13, 14],\n",
              "       [17, 18, 19],\n",
              "       [22, 23, 24]])"
            ]
          },
          "metadata": {},
          "execution_count": 58
        }
      ]
    },
    {
      "cell_type": "code",
      "source": [],
      "metadata": {
        "id": "Bhnh-2MHJO6B"
      },
      "execution_count": null,
      "outputs": []
    },
    {
      "cell_type": "markdown",
      "source": [
        "# Various builtin Functions used in Numpy\n",
        "---"
      ],
      "metadata": {
        "id": "5gVyYXTZOQQF"
      }
    },
    {
      "cell_type": "code",
      "source": [
        "# .arange() : used to generate 1D Array\n",
        "\n",
        "np.arange(1,11)"
      ],
      "metadata": {
        "colab": {
          "base_uri": "https://localhost:8080/"
        },
        "id": "V0CT4sIkOOZm",
        "outputId": "2e0d5617-9ec2-41dd-9a36-3ee1a60e82de"
      },
      "execution_count": null,
      "outputs": [
        {
          "output_type": "execute_result",
          "data": {
            "text/plain": [
              "array([ 1,  2,  3,  4,  5,  6,  7,  8,  9, 10])"
            ]
          },
          "metadata": {},
          "execution_count": 59
        }
      ]
    },
    {
      "cell_type": "code",
      "source": [
        "# .reshape : used to reshape 1D Array\n",
        "\n",
        "sample = np.arange(1,11)\n",
        "\n",
        "sample.reshape(2,5)"
      ],
      "metadata": {
        "colab": {
          "base_uri": "https://localhost:8080/"
        },
        "id": "RMJZHdApOWYS",
        "outputId": "b92c553b-26c9-41d2-bbe2-8db34f018cdb"
      },
      "execution_count": null,
      "outputs": [
        {
          "output_type": "execute_result",
          "data": {
            "text/plain": [
              "array([[ 1,  2,  3,  4,  5],\n",
              "       [ 6,  7,  8,  9, 10]])"
            ]
          },
          "metadata": {},
          "execution_count": 60
        }
      ]
    },
    {
      "cell_type": "code",
      "source": [
        "# np.zeros() : used to generate matrix containing 0s\n",
        "np.zeros((6, 6))"
      ],
      "metadata": {
        "colab": {
          "base_uri": "https://localhost:8080/"
        },
        "id": "bCIz3LibOf91",
        "outputId": "53f512d6-6a29-4789-d3ba-1efae9e65241"
      },
      "execution_count": null,
      "outputs": [
        {
          "output_type": "execute_result",
          "data": {
            "text/plain": [
              "array([[0., 0., 0., 0., 0., 0.],\n",
              "       [0., 0., 0., 0., 0., 0.],\n",
              "       [0., 0., 0., 0., 0., 0.],\n",
              "       [0., 0., 0., 0., 0., 0.],\n",
              "       [0., 0., 0., 0., 0., 0.],\n",
              "       [0., 0., 0., 0., 0., 0.]])"
            ]
          },
          "metadata": {},
          "execution_count": 63
        }
      ]
    },
    {
      "cell_type": "code",
      "source": [
        "#np.ones() : used to generate matrix containing 1s\n",
        "np.ones((6,6))"
      ],
      "metadata": {
        "colab": {
          "base_uri": "https://localhost:8080/"
        },
        "id": "cusA_szqOm5w",
        "outputId": "dc26e01f-a7c0-4431-fcb4-a6e178b04e19"
      },
      "execution_count": null,
      "outputs": [
        {
          "output_type": "execute_result",
          "data": {
            "text/plain": [
              "array([[1., 1., 1., 1., 1., 1.],\n",
              "       [1., 1., 1., 1., 1., 1.],\n",
              "       [1., 1., 1., 1., 1., 1.],\n",
              "       [1., 1., 1., 1., 1., 1.],\n",
              "       [1., 1., 1., 1., 1., 1.],\n",
              "       [1., 1., 1., 1., 1., 1.]])"
            ]
          },
          "metadata": {},
          "execution_count": 64
        }
      ]
    },
    {
      "cell_type": "code",
      "source": [
        "#np.full() : used to generate matrix contaning choice of element\n",
        "\n",
        "np.full((6,6), 8 )"
      ],
      "metadata": {
        "colab": {
          "base_uri": "https://localhost:8080/"
        },
        "id": "s__qUUC1OumM",
        "outputId": "f679d291-ebe1-4a9a-ddf0-36633a174380"
      },
      "execution_count": null,
      "outputs": [
        {
          "output_type": "execute_result",
          "data": {
            "text/plain": [
              "array([[8, 8, 8, 8, 8, 8],\n",
              "       [8, 8, 8, 8, 8, 8],\n",
              "       [8, 8, 8, 8, 8, 8],\n",
              "       [8, 8, 8, 8, 8, 8],\n",
              "       [8, 8, 8, 8, 8, 8],\n",
              "       [8, 8, 8, 8, 8, 8]])"
            ]
          },
          "metadata": {},
          "execution_count": 65
        }
      ]
    },
    {
      "cell_type": "code",
      "source": [
        "# np.eye() : used to generate Identity Matrix : in this matrix you will 1 Diagonally\n",
        "np.eye(6,6)"
      ],
      "metadata": {
        "colab": {
          "base_uri": "https://localhost:8080/"
        },
        "id": "cpcmrVe6O0e-",
        "outputId": "895cd386-7452-44d8-c138-cf12b0f5ce19"
      },
      "execution_count": null,
      "outputs": [
        {
          "output_type": "execute_result",
          "data": {
            "text/plain": [
              "array([[1., 0., 0., 0., 0., 0.],\n",
              "       [0., 1., 0., 0., 0., 0.],\n",
              "       [0., 0., 1., 0., 0., 0.],\n",
              "       [0., 0., 0., 1., 0., 0.],\n",
              "       [0., 0., 0., 0., 1., 0.],\n",
              "       [0., 0., 0., 0., 0., 1.]])"
            ]
          },
          "metadata": {},
          "execution_count": 66
        }
      ]
    },
    {
      "cell_type": "code",
      "source": [],
      "metadata": {
        "id": "u00LFg3eO-Eg"
      },
      "execution_count": null,
      "outputs": []
    },
    {
      "cell_type": "code",
      "source": [
        "# here are 2 Sample Matrix\n",
        "\n",
        "x = np.array([[1,2],[3,4]])\n",
        "x"
      ],
      "metadata": {
        "colab": {
          "base_uri": "https://localhost:8080/"
        },
        "id": "WHJfNe11PI54",
        "outputId": "83b11b36-9632-42d5-f909-cb421529292b"
      },
      "execution_count": null,
      "outputs": [
        {
          "output_type": "execute_result",
          "data": {
            "text/plain": [
              "array([[1, 2],\n",
              "       [3, 4]])"
            ]
          },
          "metadata": {},
          "execution_count": 67
        }
      ]
    },
    {
      "cell_type": "code",
      "source": [
        "y = np.array([[ 5,6],[7,8]])\n",
        "y"
      ],
      "metadata": {
        "colab": {
          "base_uri": "https://localhost:8080/"
        },
        "id": "aOJxklH1POag",
        "outputId": "80b99a9c-8216-43a3-b1e7-4a4612edc1a9"
      },
      "execution_count": null,
      "outputs": [
        {
          "output_type": "execute_result",
          "data": {
            "text/plain": [
              "array([[5, 6],\n",
              "       [7, 8]])"
            ]
          },
          "metadata": {},
          "execution_count": 68
        }
      ]
    },
    {
      "cell_type": "code",
      "source": [
        "# np.vstack() : this is used to concatenate matrix vertically\n",
        "\n",
        "np.vstack(( x,y ))"
      ],
      "metadata": {
        "colab": {
          "base_uri": "https://localhost:8080/"
        },
        "id": "Fwgpsv7APSMD",
        "outputId": "5e7c119c-b847-4a50-d26e-7cd145abb1d8"
      },
      "execution_count": null,
      "outputs": [
        {
          "output_type": "execute_result",
          "data": {
            "text/plain": [
              "array([[1, 2],\n",
              "       [3, 4],\n",
              "       [5, 6],\n",
              "       [7, 8]])"
            ]
          },
          "metadata": {},
          "execution_count": 70
        }
      ]
    },
    {
      "cell_type": "code",
      "source": [
        "# np.hstack() : this is used to concatenate Matrix Horizontally"
      ],
      "metadata": {
        "id": "IW1GmTBlPZ34"
      },
      "execution_count": null,
      "outputs": []
    },
    {
      "cell_type": "code",
      "source": [
        "np.hstack((x,y))"
      ],
      "metadata": {
        "colab": {
          "base_uri": "https://localhost:8080/"
        },
        "id": "_nQDwiMTPmZp",
        "outputId": "4f27b32c-b702-477e-f1e0-12ad5ea7cba4"
      },
      "execution_count": null,
      "outputs": [
        {
          "output_type": "execute_result",
          "data": {
            "text/plain": [
              "array([[1, 2, 5, 6],\n",
              "       [3, 4, 7, 8]])"
            ]
          },
          "metadata": {},
          "execution_count": 72
        }
      ]
    },
    {
      "cell_type": "code",
      "source": [
        "# .flatten() : this is used to convert 2D Array into 1D Array\n",
        "two_arr"
      ],
      "metadata": {
        "colab": {
          "base_uri": "https://localhost:8080/"
        },
        "id": "ODt8-qvrPoIW",
        "outputId": "dba97d24-0ecd-4978-ffcd-153b7df0f6b2"
      },
      "execution_count": null,
      "outputs": [
        {
          "output_type": "execute_result",
          "data": {
            "text/plain": [
              "array([[ 1,  2,  3,  4,  5],\n",
              "       [ 6,  7,  8,  9, 10],\n",
              "       [11, 12, 13, 14, 15],\n",
              "       [16, 17, 18, 19, 20],\n",
              "       [21, 22, 23, 24, 25],\n",
              "       [26, 27, 28, 29, 30]])"
            ]
          },
          "metadata": {},
          "execution_count": 73
        }
      ]
    },
    {
      "cell_type": "code",
      "source": [
        "flat_arr = two_arr.flatten()\n",
        "\n",
        "flat_arr"
      ],
      "metadata": {
        "colab": {
          "base_uri": "https://localhost:8080/"
        },
        "id": "UlQTDi07P1rg",
        "outputId": "40ec3100-ffc1-4437-ebfa-3b225965241d"
      },
      "execution_count": null,
      "outputs": [
        {
          "output_type": "execute_result",
          "data": {
            "text/plain": [
              "array([ 1,  2,  3,  4,  5,  6,  7,  8,  9, 10, 11, 12, 13, 14, 15, 16, 17,\n",
              "       18, 19, 20, 21, 22, 23, 24, 25, 26, 27, 28, 29, 30])"
            ]
          },
          "metadata": {},
          "execution_count": 74
        }
      ]
    },
    {
      "cell_type": "code",
      "source": [],
      "metadata": {
        "id": "CEvMNTQcP8BF"
      },
      "execution_count": null,
      "outputs": []
    },
    {
      "cell_type": "code",
      "source": [],
      "metadata": {
        "id": "1f1hQ5giQLy1"
      },
      "execution_count": null,
      "outputs": []
    },
    {
      "cell_type": "markdown",
      "source": [
        "# Filtering Elements in Matrix\n",
        "---"
      ],
      "metadata": {
        "id": "lcIYlG7mQXV7"
      }
    },
    {
      "cell_type": "code",
      "source": [
        "sample = np.arange(1,11)"
      ],
      "metadata": {
        "id": "PYcKTu7XQZHH"
      },
      "execution_count": null,
      "outputs": []
    },
    {
      "cell_type": "code",
      "source": [
        "sample"
      ],
      "metadata": {
        "colab": {
          "base_uri": "https://localhost:8080/"
        },
        "id": "yPgi1spdQat7",
        "outputId": "30fc45ec-dc84-4b9c-a7d4-557c2bd35a48"
      },
      "execution_count": null,
      "outputs": [
        {
          "output_type": "execute_result",
          "data": {
            "text/plain": [
              "array([ 1,  2,  3,  4,  5,  6,  7,  8,  9, 10])"
            ]
          },
          "metadata": {},
          "execution_count": 76
        }
      ]
    },
    {
      "cell_type": "code",
      "source": [
        "sample < 5"
      ],
      "metadata": {
        "colab": {
          "base_uri": "https://localhost:8080/"
        },
        "id": "Dy-b9ARmQbF4",
        "outputId": "840e5482-a5dc-43a7-fad1-b6f55877b3cf"
      },
      "execution_count": null,
      "outputs": [
        {
          "output_type": "execute_result",
          "data": {
            "text/plain": [
              "array([ True,  True,  True,  True, False, False, False, False, False,\n",
              "       False])"
            ]
          },
          "metadata": {},
          "execution_count": 77
        }
      ]
    },
    {
      "cell_type": "code",
      "source": [
        "sample[ sample < 5  ]"
      ],
      "metadata": {
        "colab": {
          "base_uri": "https://localhost:8080/"
        },
        "id": "sToowVwmR6Ag",
        "outputId": "9f7b282e-929f-4142-a52b-9f8bf8acc17b"
      },
      "execution_count": null,
      "outputs": [
        {
          "output_type": "execute_result",
          "data": {
            "text/plain": [
              "array([1, 2, 3, 4])"
            ]
          },
          "metadata": {},
          "execution_count": 78
        }
      ]
    },
    {
      "cell_type": "code",
      "source": [
        "# finding even elements\n",
        "\n",
        "sample[ sample%2== 0 ]"
      ],
      "metadata": {
        "colab": {
          "base_uri": "https://localhost:8080/"
        },
        "id": "7fApeYqYSIcN",
        "outputId": "6467bb3e-7f3a-4e67-ae3b-4550f45ec5e0"
      },
      "execution_count": null,
      "outputs": [
        {
          "output_type": "execute_result",
          "data": {
            "text/plain": [
              "array([ 2,  4,  6,  8, 10])"
            ]
          },
          "metadata": {},
          "execution_count": 79
        }
      ]
    },
    {
      "cell_type": "code",
      "source": [
        "# finding odd elements\n",
        "\n",
        "sample[ sample%2 != 0 ]"
      ],
      "metadata": {
        "colab": {
          "base_uri": "https://localhost:8080/"
        },
        "id": "DbYWqXddSNRP",
        "outputId": "ee0edfaf-f3e1-4629-8ab2-c18e2e671163"
      },
      "execution_count": null,
      "outputs": [
        {
          "output_type": "execute_result",
          "data": {
            "text/plain": [
              "array([1, 3, 5, 7, 9])"
            ]
          },
          "metadata": {},
          "execution_count": 80
        }
      ]
    },
    {
      "cell_type": "code",
      "source": [
        "# handling multiple conditions : elements from 3 to 7\n",
        "\n",
        "sample [   (sample>=3) & ( sample<=7) ]\n",
        "\n",
        "# it is mandatory to keep conditions in bracket."
      ],
      "metadata": {
        "colab": {
          "base_uri": "https://localhost:8080/"
        },
        "id": "0hgJ6SuKSP86",
        "outputId": "f7741b66-dbbe-4c30-d122-32e18648fb37"
      },
      "execution_count": null,
      "outputs": [
        {
          "output_type": "execute_result",
          "data": {
            "text/plain": [
              "array([3, 4, 5, 6, 7])"
            ]
          },
          "metadata": {},
          "execution_count": 81
        }
      ]
    },
    {
      "cell_type": "code",
      "source": [],
      "metadata": {
        "id": "73CXZKlFSYSS"
      },
      "execution_count": null,
      "outputs": []
    },
    {
      "cell_type": "markdown",
      "source": [
        "# Arithmetic Operations using Numpy\n",
        "---"
      ],
      "metadata": {
        "id": "XDCVcsWeTGUD"
      }
    },
    {
      "cell_type": "code",
      "source": [
        "x"
      ],
      "metadata": {
        "colab": {
          "base_uri": "https://localhost:8080/"
        },
        "id": "E7Wz-2JFTIQJ",
        "outputId": "1d7f9da0-fd64-4a7b-a78e-76e30d4bdfd4"
      },
      "execution_count": null,
      "outputs": [
        {
          "output_type": "execute_result",
          "data": {
            "text/plain": [
              "array([[1, 2],\n",
              "       [3, 4]])"
            ]
          },
          "metadata": {},
          "execution_count": 82
        }
      ]
    },
    {
      "cell_type": "code",
      "source": [
        "y"
      ],
      "metadata": {
        "colab": {
          "base_uri": "https://localhost:8080/"
        },
        "id": "thnnifdKTI5O",
        "outputId": "298b8dfd-4292-477b-d6d2-920c8b592025"
      },
      "execution_count": null,
      "outputs": [
        {
          "output_type": "execute_result",
          "data": {
            "text/plain": [
              "array([[5, 6],\n",
              "       [7, 8]])"
            ]
          },
          "metadata": {},
          "execution_count": 83
        }
      ]
    },
    {
      "cell_type": "code",
      "source": [
        "x + y"
      ],
      "metadata": {
        "colab": {
          "base_uri": "https://localhost:8080/"
        },
        "id": "IKIdMHl8TJMs",
        "outputId": "11e52ba9-a294-4540-c0e1-5040ecb969a9"
      },
      "execution_count": null,
      "outputs": [
        {
          "output_type": "execute_result",
          "data": {
            "text/plain": [
              "array([[ 6,  8],\n",
              "       [10, 12]])"
            ]
          },
          "metadata": {},
          "execution_count": 84
        }
      ]
    },
    {
      "cell_type": "code",
      "source": [
        "# x[ i, j ] + y [ i, j]"
      ],
      "metadata": {
        "id": "xECgdQOYTLYG"
      },
      "execution_count": null,
      "outputs": []
    },
    {
      "cell_type": "code",
      "source": [
        "x - y"
      ],
      "metadata": {
        "colab": {
          "base_uri": "https://localhost:8080/"
        },
        "id": "dH87TKJjTd9q",
        "outputId": "4ea1d3f4-05fe-41d2-dbd6-3e79bcaccbc1"
      },
      "execution_count": null,
      "outputs": [
        {
          "output_type": "execute_result",
          "data": {
            "text/plain": [
              "array([[-4, -4],\n",
              "       [-4, -4]])"
            ]
          },
          "metadata": {},
          "execution_count": 86
        }
      ]
    },
    {
      "cell_type": "code",
      "source": [
        "x / y"
      ],
      "metadata": {
        "colab": {
          "base_uri": "https://localhost:8080/"
        },
        "id": "M6oxokt2TiHS",
        "outputId": "818ecefb-01f3-4051-a30b-df6a733e35f0"
      },
      "execution_count": null,
      "outputs": [
        {
          "output_type": "execute_result",
          "data": {
            "text/plain": [
              "array([[0.2       , 0.33333333],\n",
              "       [0.42857143, 0.5       ]])"
            ]
          },
          "metadata": {},
          "execution_count": 87
        }
      ]
    },
    {
      "cell_type": "code",
      "source": [
        "x % y"
      ],
      "metadata": {
        "colab": {
          "base_uri": "https://localhost:8080/"
        },
        "id": "lOlS3GORTjst",
        "outputId": "66b6b8d9-ccb2-4430-e4cc-880d1456c622"
      },
      "execution_count": null,
      "outputs": [
        {
          "output_type": "execute_result",
          "data": {
            "text/plain": [
              "array([[1, 2],\n",
              "       [3, 4]])"
            ]
          },
          "metadata": {},
          "execution_count": 88
        }
      ]
    },
    {
      "cell_type": "code",
      "source": [
        "x * y"
      ],
      "metadata": {
        "colab": {
          "base_uri": "https://localhost:8080/"
        },
        "id": "CZLNXKdSTkUS",
        "outputId": "457c70e9-6358-48d7-e166-57981356d356"
      },
      "execution_count": null,
      "outputs": [
        {
          "output_type": "execute_result",
          "data": {
            "text/plain": [
              "array([[ 5, 12],\n",
              "       [21, 32]])"
            ]
          },
          "metadata": {},
          "execution_count": 90
        }
      ]
    },
    {
      "cell_type": "code",
      "source": [],
      "metadata": {
        "id": "TnMF5yFwTk5d"
      },
      "execution_count": null,
      "outputs": []
    },
    {
      "cell_type": "markdown",
      "source": [
        "# Solving Linear Equations using Numpy\n",
        "---\n",
        "np.linalg.solve()"
      ],
      "metadata": {
        "id": "2ZEgHCAMUTX0"
      }
    },
    {
      "cell_type": "code",
      "source": [
        "# here is an example\n",
        "\n",
        "#  on Day 1 you bought 1 Type A Mango and 1 Type B Mango for Rs 35\n",
        "#  on Day 2 you bought 2 Type A Mangos and 4 Type B Mangoes for Rs 94\n",
        "\n",
        "\n",
        "# you are asked to find Price of Each Type A and Type B Mango\n",
        "\n"
      ],
      "metadata": {
        "id": "qiUYn3z4UWfV"
      },
      "execution_count": null,
      "outputs": []
    },
    {
      "cell_type": "code",
      "source": [
        "# 1x + 1y = 35\n",
        "# 2x + 4y = 94"
      ],
      "metadata": {
        "id": "R44iARV9Uvsn"
      },
      "execution_count": null,
      "outputs": []
    },
    {
      "cell_type": "code",
      "source": [
        "# first we will create coefficient matrix\n",
        "\n",
        "coeff = np.array( [[ 1, 1], [ 2, 4 ]])\n",
        "\n",
        "# then will create constant matrix\n",
        "\n",
        "const = np.array( [35 , 94 ])\n",
        "\n"
      ],
      "metadata": {
        "id": "sqKu5ckTVLTz"
      },
      "execution_count": null,
      "outputs": []
    },
    {
      "cell_type": "code",
      "source": [
        "result = np.linalg.solve( coeff , const )"
      ],
      "metadata": {
        "id": "NnO6EmGOVfD2"
      },
      "execution_count": null,
      "outputs": []
    },
    {
      "cell_type": "code",
      "source": [
        "result"
      ],
      "metadata": {
        "colab": {
          "base_uri": "https://localhost:8080/"
        },
        "id": "6LTIb926VpOn",
        "outputId": "155be176-a9af-4b43-e585-6e1f9ae7cc3a"
      },
      "execution_count": null,
      "outputs": [
        {
          "output_type": "execute_result",
          "data": {
            "text/plain": [
              "array([23., 12.])"
            ]
          },
          "metadata": {},
          "execution_count": 96
        }
      ]
    },
    {
      "cell_type": "code",
      "source": [
        "# 1x + 1y = 35\n",
        "# 2x + 4y = 94"
      ],
      "metadata": {
        "id": "gxO2OxL6Vqo-"
      },
      "execution_count": null,
      "outputs": []
    },
    {
      "cell_type": "code",
      "source": [
        "(1 * 23 ) + (1 * 12 )"
      ],
      "metadata": {
        "colab": {
          "base_uri": "https://localhost:8080/"
        },
        "id": "VN753id3VsUn",
        "outputId": "395b5b6c-ff8f-4bba-fd6e-139a65eeb8cd"
      },
      "execution_count": null,
      "outputs": [
        {
          "output_type": "execute_result",
          "data": {
            "text/plain": [
              "35"
            ]
          },
          "metadata": {},
          "execution_count": 98
        }
      ]
    },
    {
      "cell_type": "code",
      "source": [
        "(2 * 23 ) + ( 4 * 12)"
      ],
      "metadata": {
        "colab": {
          "base_uri": "https://localhost:8080/"
        },
        "id": "J0mVWB3EV1Zi",
        "outputId": "93a2f192-5c8f-4a05-a8bf-a9235f036951"
      },
      "execution_count": null,
      "outputs": [
        {
          "output_type": "execute_result",
          "data": {
            "text/plain": [
              "94"
            ]
          },
          "metadata": {},
          "execution_count": 99
        }
      ]
    },
    {
      "cell_type": "code",
      "source": [
        "# Try solving the Equation Below"
      ],
      "metadata": {
        "id": "wAzuoGdwV4SP"
      },
      "execution_count": null,
      "outputs": []
    },
    {
      "cell_type": "code",
      "source": [
        "#  2x + 4y + 6z = 18\n",
        "#  4x + 5y + 6z = 24\n",
        "#  3x + 1y - 2z = 4\n",
        "\n",
        "# find the values of x , y and z"
      ],
      "metadata": {
        "id": "Naxp9--wWSL8"
      },
      "execution_count": null,
      "outputs": []
    },
    {
      "cell_type": "markdown",
      "source": [
        "# Google Stocks Dataset\n",
        "---\n",
        "\n",
        "\n",
        "https://drive.google.com/file/d/1D3UKCfDheTjFcPiY91MPmSnkGu7q3KND/view?usp=sharing\n",
        "\n",
        "\n",
        "using numpy you are asked to find\n",
        "\n",
        "# Max Stock / Min Stock / Mean Stock / Median / Standard Deviation"
      ],
      "metadata": {
        "id": "n2lzshj0XpZr"
      }
    },
    {
      "cell_type": "code",
      "source": [
        "google = open('google_stock_price.csv').readlines()"
      ],
      "metadata": {
        "id": "T6VhqoSrWeEt"
      },
      "execution_count": null,
      "outputs": []
    },
    {
      "cell_type": "code",
      "source": [
        "# delete the header\n",
        "del google[0]"
      ],
      "metadata": {
        "id": "sYR6NTcmZF4D"
      },
      "execution_count": null,
      "outputs": []
    },
    {
      "cell_type": "code",
      "source": [
        "google[:5]  # this is python list containing string"
      ],
      "metadata": {
        "colab": {
          "base_uri": "https://localhost:8080/"
        },
        "id": "pXMDWp_1ZHfv",
        "outputId": "11dbf579-70f0-4d1f-bddb-0e7dec8ee21b"
      },
      "execution_count": null,
      "outputs": [
        {
          "output_type": "execute_result",
          "data": {
            "text/plain": [
              "['50.12\\n', '54.1\\n', '54.65\\n', '52.38\\n', '52.95\\n']"
            ]
          },
          "metadata": {},
          "execution_count": 105
        }
      ]
    },
    {
      "cell_type": "code",
      "source": [
        "# we will use comprehension to convert list elements from string to float\n",
        "\n",
        "gstock = [ float(stock)      for stock in google ]\n",
        "\n",
        "gstock[:5]"
      ],
      "metadata": {
        "colab": {
          "base_uri": "https://localhost:8080/"
        },
        "id": "g61zIh50ZIO1",
        "outputId": "5dfc5c11-57c6-4f0b-b005-b298b62ec278"
      },
      "execution_count": null,
      "outputs": [
        {
          "output_type": "execute_result",
          "data": {
            "text/plain": [
              "[50.12, 54.1, 54.65, 52.38, 52.95]"
            ]
          },
          "metadata": {},
          "execution_count": 106
        }
      ]
    },
    {
      "cell_type": "code",
      "source": [
        "# now we will convert gstock into nd array\n",
        "\n",
        "g_arr = np.array( gstock )"
      ],
      "metadata": {
        "id": "Oxl0Gdjua0r-"
      },
      "execution_count": null,
      "outputs": []
    },
    {
      "cell_type": "code",
      "source": [
        "g_arr[:5]"
      ],
      "metadata": {
        "colab": {
          "base_uri": "https://localhost:8080/"
        },
        "id": "0vxWjivIa4gd",
        "outputId": "764c4846-8c8f-4647-db4e-9fefab7cddd8"
      },
      "execution_count": null,
      "outputs": [
        {
          "output_type": "execute_result",
          "data": {
            "text/plain": [
              "array([50.12, 54.1 , 54.65, 52.38, 52.95])"
            ]
          },
          "metadata": {},
          "execution_count": 108
        }
      ]
    },
    {
      "cell_type": "code",
      "source": [
        "g_arr.max()"
      ],
      "metadata": {
        "colab": {
          "base_uri": "https://localhost:8080/"
        },
        "id": "R8hFb6VRa6A4",
        "outputId": "c4b80543-3a4a-4e89-c6c2-7f71052d048d"
      },
      "execution_count": null,
      "outputs": [
        {
          "output_type": "execute_result",
          "data": {
            "text/plain": [
              "782.22"
            ]
          },
          "metadata": {},
          "execution_count": 109
        }
      ]
    },
    {
      "cell_type": "code",
      "source": [
        "g_arr.min()"
      ],
      "metadata": {
        "colab": {
          "base_uri": "https://localhost:8080/"
        },
        "id": "X_37s8uua7On",
        "outputId": "a742ca46-8f8f-4423-9914-1ce2a7bfac5f"
      },
      "execution_count": null,
      "outputs": [
        {
          "output_type": "execute_result",
          "data": {
            "text/plain": [
              "49.95"
            ]
          },
          "metadata": {},
          "execution_count": 110
        }
      ]
    },
    {
      "cell_type": "code",
      "source": [
        "g_arr.sum()"
      ],
      "metadata": {
        "colab": {
          "base_uri": "https://localhost:8080/"
        },
        "id": "TUmNsX1Ya79G",
        "outputId": "0ca465ca-1e24-47e2-d8c1-c58646b097c6"
      },
      "execution_count": null,
      "outputs": [
        {
          "output_type": "execute_result",
          "data": {
            "text/plain": [
              "1006942.0"
            ]
          },
          "metadata": {},
          "execution_count": 111
        }
      ]
    },
    {
      "cell_type": "code",
      "source": [
        "g_arr.mean()"
      ],
      "metadata": {
        "colab": {
          "base_uri": "https://localhost:8080/"
        },
        "id": "uRxwyLooa8ou",
        "outputId": "5f0da705-f05c-4eeb-aa7d-de2d125df789"
      },
      "execution_count": null,
      "outputs": [
        {
          "output_type": "execute_result",
          "data": {
            "text/plain": [
              "334.3100929614874"
            ]
          },
          "metadata": {},
          "execution_count": 112
        }
      ]
    },
    {
      "cell_type": "code",
      "source": [
        "g_arr.std()"
      ],
      "metadata": {
        "colab": {
          "base_uri": "https://localhost:8080/"
        },
        "id": "nQX26P0ja-rH",
        "outputId": "a94b7b8d-9bbe-4e69-a52e-b45ce54eea41"
      },
      "execution_count": null,
      "outputs": [
        {
          "output_type": "execute_result",
          "data": {
            "text/plain": [
              "173.1584528485007"
            ]
          },
          "metadata": {},
          "execution_count": 113
        }
      ]
    },
    {
      "cell_type": "code",
      "source": [
        "np.median(g_arr)"
      ],
      "metadata": {
        "id": "pY9wSJeOa_Xg",
        "outputId": "825bd3c3-ec69-4749-b68c-73f0c1ad8d1a",
        "colab": {
          "base_uri": "https://localhost:8080/"
        }
      },
      "execution_count": null,
      "outputs": [
        {
          "output_type": "execute_result",
          "data": {
            "text/plain": [
              "283.315"
            ]
          },
          "metadata": {},
          "execution_count": 114
        }
      ]
    },
    {
      "cell_type": "code",
      "source": [],
      "metadata": {
        "id": "FD8RIVSPbAcM"
      },
      "execution_count": null,
      "outputs": []
    }
  ]
}