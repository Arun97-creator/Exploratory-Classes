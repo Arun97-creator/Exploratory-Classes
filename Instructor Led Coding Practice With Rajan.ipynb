{
 "cells": [
  {
   "cell_type": "markdown",
   "id": "d2dc727e",
   "metadata": {},
   "source": [
    "## Topic : Basic Input / Output \n",
    "---\n"
   ]
  },
  {
   "cell_type": "markdown",
   "id": "30fbb775",
   "metadata": {},
   "source": [
    "Objective: Pound to KG Conversion"
   ]
  },
  {
   "cell_type": "code",
   "execution_count": 2,
   "id": "39da0985",
   "metadata": {},
   "outputs": [
    {
     "name": "stdout",
     "output_type": "stream",
     "text": [
      "enter weight in Pounds110\n",
      "110 Pounds will be 49.5 Kilograms \n"
     ]
    }
   ],
   "source": [
    "lbs = int ( input ('enter weight in Pounds'))\n",
    "\n",
    "kg = lbs * 0.45\n",
    "\n",
    "print(f'{lbs} Pounds will be {kg} Kilograms ')"
   ]
  },
  {
   "cell_type": "code",
   "execution_count": null,
   "id": "0e10bd4b",
   "metadata": {},
   "outputs": [],
   "source": []
  },
  {
   "cell_type": "markdown",
   "id": "a2723b3d",
   "metadata": {},
   "source": [
    "## F String - it is for formatting String"
   ]
  },
  {
   "cell_type": "code",
   "execution_count": 3,
   "id": "9295aa55",
   "metadata": {},
   "outputs": [],
   "source": [
    "planet ='earth'\n",
    "diameter = 12734"
   ]
  },
  {
   "cell_type": "code",
   "execution_count": 4,
   "id": "9d605fdf",
   "metadata": {},
   "outputs": [
    {
     "name": "stdout",
     "output_type": "stream",
     "text": [
      "The Diameter of  earth  is  12734\n"
     ]
    }
   ],
   "source": [
    "# poor approach\n",
    "\n",
    "print('The Diameter of ', planet , ' is ', diameter)"
   ]
  },
  {
   "cell_type": "code",
   "execution_count": 5,
   "id": "53e78e15",
   "metadata": {},
   "outputs": [
    {
     "name": "stdout",
     "output_type": "stream",
     "text": [
      "The Diameter of earth is 12734\n"
     ]
    }
   ],
   "source": [
    "# Good Approach\n",
    "\n",
    "print( f'The Diameter of {planet} is {diameter}')"
   ]
  },
  {
   "cell_type": "code",
   "execution_count": 6,
   "id": "f03d364c",
   "metadata": {},
   "outputs": [],
   "source": [
    "# in fstring the variables needs to be enclosed in {}\n",
    "# the sentence must be prefixed with letter 'f'"
   ]
  },
  {
   "cell_type": "code",
   "execution_count": null,
   "id": "59b5d756",
   "metadata": {},
   "outputs": [],
   "source": []
  },
  {
   "cell_type": "markdown",
   "id": "7f46a5ca",
   "metadata": {},
   "source": [
    "# Topic : Decision Making in Python\n",
    "---"
   ]
  },
  {
   "cell_type": "markdown",
   "id": "c995f23b",
   "metadata": {},
   "source": [
    "Scenario : Assuming a police Office Caught a Bike Rider.\n",
    "<pre>\n",
    "Bike Rider is Asked\n",
    "\n",
    "    1. At what speed he/she was riding.\n",
    "    2. Is it Bike Rider's Birthday ?\n",
    "    \n",
    "You are asked to Calculate the Ticket as per the parameters Below\n",
    "\n",
    "1. If the Speed > 80 print 'BigTicket'\n",
    "2. If the Speed is between 60 and 80 Print 'Normal Ticket'\n",
    "3. If the Speed is < 60 print 'NO Ticket'\n",
    "\n",
    "Note: if it is Rider's Birthday 5 Miles/Hr Will be Exempted from Speed before\n",
    "the Ticket is Calculated."
   ]
  },
  {
   "cell_type": "code",
   "execution_count": 13,
   "id": "90bf5f31",
   "metadata": {},
   "outputs": [
    {
     "name": "stdout",
     "output_type": "stream",
     "text": [
      "Enter Rider's Speed 81\n",
      " True / False False\n",
      "speed is  81 <class 'str'>\n",
      "Big Ticket 🎟️ \n"
     ]
    }
   ],
   "source": [
    "# here is the Solution : \n",
    "\n",
    "speed = int ( input('Enter Rider\\'s Speed '))\n",
    "\n",
    "isBirthday = ( input(' True / False '))\n",
    "\n",
    "if isBirthday == 'True':     \n",
    "    \n",
    "    speed = speed - 5\n",
    "    \n",
    "if speed > 80 :\n",
    "    \n",
    "    print('Big Ticket 🎟️ ')\n",
    "    \n",
    "elif speed >= 60 :\n",
    "    \n",
    "    print('Normal Ticket 🎫 ')\n",
    "    \n",
    "else:\n",
    "    \n",
    "    print('No Ticket ✅ ')"
   ]
  },
  {
   "cell_type": "code",
   "execution_count": null,
   "id": "ba7ae8f4",
   "metadata": {},
   "outputs": [],
   "source": []
  },
  {
   "cell_type": "markdown",
   "id": "0888ce75",
   "metadata": {},
   "source": [
    "# Topic : Looping in Python\n",
    "---"
   ]
  },
  {
   "cell_type": "markdown",
   "id": "567c1af6",
   "metadata": {},
   "source": [
    "### Guess the Number ( Game )\n",
    "---\n",
    "<pre>\n",
    "Assuming That there are two players in the Game.\n",
    "\n",
    "Step 1 : Generate a random number between 1 and 20  and store in a variable say\n",
    "'computerChoice'\n",
    "\n",
    "Step 2 : Ask the user to enter a Random Number between 1 and 20 and store\n",
    "in a variable say 'userChoice'\n",
    "\n",
    "Step 3 : Do the Comparision \n",
    "\n",
    "    if userChoice > computerChoice print 'Your Guess is too High'\n",
    "    if userChoice < computerChoice print 'Your Guess is too Low'\n",
    "    if userChoice matches with computerChoice print 'Gotcha! you guessed it Right'\n",
    "    \n",
    "Note : A User can take 6 wrong Attempts , after 6 Failed Attempts\n",
    "print ' Oops! YOu have Ran Out of Attempts'\n",
    "\n"
   ]
  },
  {
   "cell_type": "code",
   "execution_count": null,
   "id": "af1869df",
   "metadata": {},
   "outputs": [],
   "source": []
  },
  {
   "cell_type": "code",
   "execution_count": 14,
   "id": "ca0857f5",
   "metadata": {},
   "outputs": [],
   "source": [
    "# Here is the Solution"
   ]
  },
  {
   "cell_type": "code",
   "execution_count": 15,
   "id": "63379602",
   "metadata": {},
   "outputs": [
    {
     "data": {
      "text/plain": [
       "8"
      ]
     },
     "execution_count": 15,
     "metadata": {},
     "output_type": "execute_result"
    }
   ],
   "source": [
    "# Generating a Random number between 1 and 20\n",
    "\n",
    "import random\n",
    "computerChoice = random.randint( 1, 20 )\n",
    "computerChoice"
   ]
  },
  {
   "cell_type": "code",
   "execution_count": 16,
   "id": "396a6dfc",
   "metadata": {},
   "outputs": [
    {
     "name": "stdout",
     "output_type": "stream",
     "text": [
      "Guess a Number between 1 and 20 1\n",
      "Your Guess is too Low\n",
      "Guess a Number between 1 and 20 2\n",
      "Your Guess is too Low\n",
      "Guess a Number between 1 and 20 3\n",
      "Your Guess is too Low\n",
      "Guess a Number between 1 and 20 4\n",
      "Your Guess is too Low\n",
      "Guess a Number between 1 and 20 5\n",
      "Your Guess is too Low\n",
      "Guess a Number between 1 and 20 6\n",
      "Your Guess is too Low\n",
      "Out of Attempts 😢 \n"
     ]
    }
   ],
   "source": [
    "# asking the user to guess number\n",
    "\n",
    "for _ in range( 6 ) :  # this loop ensures that user is able to enter 6 inputs\n",
    "    \n",
    "    userChoice = int( input('Guess a Number between 1 and 20 '))\n",
    "    \n",
    "    # now lets do the comparision\n",
    "    \n",
    "    if userChoice > computerChoice : \n",
    "        print('Your Guess is too High')\n",
    "    \n",
    "    elif userChoice < computerChoice :\n",
    "        print('Your Guess is too Low')\n",
    "        \n",
    "    else:\n",
    "        print('Gotcha ! you guessed it Right')\n",
    "        # when the guess is correct we will break the loop \n",
    "        break\n",
    "        \n",
    "else: # this else belongs to For LOOP\n",
    "    # else in for loop executes ONLY when Loop Completes all Iterations without\n",
    "    # any termination.(using break keyword)\n",
    "    \n",
    "    print('Out of Attempts 😢 ')\n",
    "    \n",
    "    "
   ]
  },
  {
   "cell_type": "code",
   "execution_count": null,
   "id": "12066ffa",
   "metadata": {},
   "outputs": [],
   "source": []
  },
  {
   "cell_type": "markdown",
   "id": "ad9abbb3",
   "metadata": {},
   "source": [
    "# Activity That Builds Confidence\n",
    "---"
   ]
  },
  {
   "cell_type": "markdown",
   "id": "e5192391",
   "metadata": {},
   "source": [
    "# Targets: Looping\n",
    "Hailstone Sequence Algorithm\n",
    "\n",
    "    - 1. Take a number (Say n) as n input\n",
    "    - 2. Print the value of n\n",
    "    - 3. while n!=1\n",
    "        - 3.1 Print the value of n\n",
    "        - 3.2 if n is odd, calculate the next number as n*3+1\n",
    "        - 3.3 if n is even, calculate the next number as n/2\n",
    "Test Cases\n",
    "\n",
    "Input: 10  \n",
    "Output(Hailstone Sequence) : 10-5-16-8-4-2-1\n",
    "    \n",
    "Input : 17\n",
    "Output(Hailstone Sequence) : 17-52-26-13-40-20-10-5-16-8-4-2-1\n",
    "        \n",
    "\n",
    "#objective is to convert algorithm into CODE.\n"
   ]
  },
  {
   "cell_type": "code",
   "execution_count": null,
   "id": "e5c6366d",
   "metadata": {},
   "outputs": [],
   "source": []
  },
  {
   "cell_type": "code",
   "execution_count": 19,
   "id": "b2ecf023",
   "metadata": {},
   "outputs": [
    {
     "name": "stdout",
     "output_type": "stream",
     "text": [
      "enter the value of n 17\n",
      "17 52-26-13-40-20-10-5-16-8-4-2-1 "
     ]
    }
   ],
   "source": [
    "n = int ( input('enter the value of n '))\n",
    "\n",
    "print(n , end =' ')   # here end parameter is used for horizontal printing.\n",
    "\n",
    "# here is loop\n",
    "\n",
    "while n != 1 :\n",
    "    \n",
    "    if n % 2 == 0 :       # if even\n",
    "        \n",
    "        n = n // 2                # here // is floor division\n",
    "        \n",
    "    else:\n",
    "        \n",
    "        # if odd\n",
    "        \n",
    "        n = n * 3 + 1 \n",
    "        \n",
    "    if n==1:\n",
    "        print(n,end=' ')\n",
    "        break\n",
    "    print(n, end= '-') # 🥎 "
   ]
  },
  {
   "cell_type": "code",
   "execution_count": null,
   "id": "243e087e",
   "metadata": {},
   "outputs": [],
   "source": []
  },
  {
   "cell_type": "code",
   "execution_count": null,
   "id": "99f313c2",
   "metadata": {},
   "outputs": [],
   "source": []
  },
  {
   "cell_type": "markdown",
   "id": "e1888669",
   "metadata": {},
   "source": [
    "# Practicing Data Structures"
   ]
  },
  {
   "cell_type": "markdown",
   "id": "d8c998b5",
   "metadata": {},
   "source": [
    "## List\n",
    "---"
   ]
  },
  {
   "cell_type": "markdown",
   "id": "c50022bd",
   "metadata": {},
   "source": [
    "Scenario : \n",
    "    \n",
    "    Assumming there is a Birthday 🎂 , you are provided with candle Heights\n",
    "    \n",
    "    eg.\n",
    "    \n",
    "    [ 4 , 4 , 1, 3 ]\n",
    "    \n",
    "    You are asked to find the Count of Tallest Candle.\n",
    "    "
   ]
  },
  {
   "cell_type": "markdown",
   "id": "5b66c25d",
   "metadata": {},
   "source": [
    "please note: please avoid using max() to solve this questions."
   ]
  },
  {
   "cell_type": "code",
   "execution_count": 22,
   "id": "366f1396",
   "metadata": {},
   "outputs": [],
   "source": []
  },
  {
   "cell_type": "code",
   "execution_count": 23,
   "id": "66374839",
   "metadata": {},
   "outputs": [],
   "source": [
    "# here is the explanation"
   ]
  },
  {
   "cell_type": "code",
   "execution_count": 24,
   "id": "0189fc6b",
   "metadata": {},
   "outputs": [],
   "source": [
    "candles = [ 4 , 4 , 1 , 3 ]"
   ]
  },
  {
   "cell_type": "code",
   "execution_count": 25,
   "id": "654a20e6",
   "metadata": {},
   "outputs": [],
   "source": [
    "candles.sort()"
   ]
  },
  {
   "cell_type": "code",
   "execution_count": 26,
   "id": "e926aa30",
   "metadata": {},
   "outputs": [
    {
     "data": {
      "text/plain": [
       "[1, 3, 4, 4]"
      ]
     },
     "execution_count": 26,
     "metadata": {},
     "output_type": "execute_result"
    }
   ],
   "source": [
    "candles"
   ]
  },
  {
   "cell_type": "code",
   "execution_count": 27,
   "id": "89d4e70f",
   "metadata": {},
   "outputs": [
    {
     "data": {
      "text/plain": [
       "4"
      ]
     },
     "execution_count": 27,
     "metadata": {},
     "output_type": "execute_result"
    }
   ],
   "source": [
    "candles[-1]"
   ]
  },
  {
   "cell_type": "code",
   "execution_count": 28,
   "id": "0c2865f6",
   "metadata": {},
   "outputs": [
    {
     "data": {
      "text/plain": [
       "2"
      ]
     },
     "execution_count": 28,
     "metadata": {},
     "output_type": "execute_result"
    }
   ],
   "source": [
    "candles.count( candles[-1] )"
   ]
  },
  {
   "cell_type": "code",
   "execution_count": 29,
   "id": "cb099273",
   "metadata": {},
   "outputs": [
    {
     "data": {
      "text/plain": [
       "2"
      ]
     },
     "execution_count": 29,
     "metadata": {},
     "output_type": "execute_result"
    }
   ],
   "source": [
    "candles.count(4 )"
   ]
  },
  {
   "cell_type": "code",
   "execution_count": null,
   "id": "7c139791",
   "metadata": {},
   "outputs": [],
   "source": []
  },
  {
   "cell_type": "code",
   "execution_count": 30,
   "id": "022a8a99",
   "metadata": {},
   "outputs": [],
   "source": [
    "# Method 2 : using loop"
   ]
  },
  {
   "cell_type": "code",
   "execution_count": 31,
   "id": "c12f35b6",
   "metadata": {},
   "outputs": [],
   "source": [
    "candles= [ 2,  4 , 4 , 1 , 3 ]"
   ]
  },
  {
   "cell_type": "code",
   "execution_count": 32,
   "id": "084ef023",
   "metadata": {},
   "outputs": [],
   "source": [
    "# here we are assuming [0] element is tallest\n",
    "\n",
    "tallest = candles[0]"
   ]
  },
  {
   "cell_type": "code",
   "execution_count": 33,
   "id": "028e16a2",
   "metadata": {},
   "outputs": [
    {
     "data": {
      "text/plain": [
       "4"
      ]
     },
     "execution_count": 33,
     "metadata": {},
     "output_type": "execute_result"
    }
   ],
   "source": [
    "\n",
    "for current in candles[1:] :    # skip [0] index as we assumed it tallest in prv. step.\n",
    "    \n",
    "    if current > tallest :\n",
    "        \n",
    "        tallest = current     # current will replace Tallest whenever current is \n",
    "                              # found bigger\n",
    "            \n",
    "tallest"
   ]
  },
  {
   "cell_type": "code",
   "execution_count": 34,
   "id": "1c26917c",
   "metadata": {},
   "outputs": [
    {
     "name": "stdout",
     "output_type": "stream",
     "text": [
      "2\n"
     ]
    }
   ],
   "source": [
    "print( candles.count( tallest ))"
   ]
  },
  {
   "cell_type": "code",
   "execution_count": null,
   "id": "0e718d49",
   "metadata": {},
   "outputs": [],
   "source": [
    "tallest      current       if \n",
    "\n",
    "   2           4           if current > tallest: True\n",
    "   4           4           False\n",
    "   4           1           False\n",
    "   4           3           False\n",
    "\n",
    "tallest: 4"
   ]
  },
  {
   "cell_type": "code",
   "execution_count": null,
   "id": "abbefbf4",
   "metadata": {},
   "outputs": [],
   "source": [
    "[1:] to skip 0 index element as we assumed it to be tallest in first step."
   ]
  },
  {
   "cell_type": "code",
   "execution_count": null,
   "id": "76caf880",
   "metadata": {},
   "outputs": [],
   "source": [
    "1,2,3,4,5\n",
    "\n",
    "[0] will give you smallest number"
   ]
  },
  {
   "cell_type": "code",
   "execution_count": null,
   "id": "2847bbdb",
   "metadata": {},
   "outputs": [],
   "source": []
  },
  {
   "cell_type": "code",
   "execution_count": null,
   "id": "4ba21134",
   "metadata": {},
   "outputs": [],
   "source": [
    "# without count"
   ]
  },
  {
   "cell_type": "code",
   "execution_count": 35,
   "id": "ea2c6a1a",
   "metadata": {},
   "outputs": [],
   "source": [
    "candles= [ 2,  4 , 4 , 1 , 3 ]"
   ]
  },
  {
   "cell_type": "code",
   "execution_count": 37,
   "id": "7fd2eec1",
   "metadata": {},
   "outputs": [],
   "source": [
    "tallest= 4"
   ]
  },
  {
   "cell_type": "code",
   "execution_count": 38,
   "id": "cdadaaad",
   "metadata": {},
   "outputs": [
    {
     "name": "stdout",
     "output_type": "stream",
     "text": [
      "2\n"
     ]
    }
   ],
   "source": [
    "count=0\n",
    "for current in candles :\n",
    "    \n",
    "    if tallest == current :\n",
    "        \n",
    "        count+=1\n",
    "        \n",
    "print(count)"
   ]
  },
  {
   "cell_type": "code",
   "execution_count": null,
   "id": "610c2e69",
   "metadata": {},
   "outputs": [],
   "source": []
  },
  {
   "cell_type": "code",
   "execution_count": null,
   "id": "6c0ecf65",
   "metadata": {},
   "outputs": [],
   "source": []
  },
  {
   "cell_type": "code",
   "execution_count": null,
   "id": "24817287",
   "metadata": {},
   "outputs": [],
   "source": []
  },
  {
   "cell_type": "code",
   "execution_count": null,
   "id": "b1635f68",
   "metadata": {},
   "outputs": [],
   "source": [
    "-1 indicates last element"
   ]
  },
  {
   "cell_type": "code",
   "execution_count": null,
   "id": "dc85d5f6",
   "metadata": {},
   "outputs": [],
   "source": [
    "i have Salary of N Employees in Sorted Ascending ORDER"
   ]
  },
  {
   "cell_type": "code",
   "execution_count": null,
   "id": "517be852",
   "metadata": {},
   "outputs": [],
   "source": [
    "if the Data is SORTED is ascending order \n",
    "\n",
    "where is the largest value \n",
    "\n",
    "\n",
    "first, second last or last ?"
   ]
  },
  {
   "cell_type": "code",
   "execution_count": null,
   "id": "234b7039",
   "metadata": {},
   "outputs": [],
   "source": [
    "what is represented last in python using index ? -1"
   ]
  },
  {
   "cell_type": "code",
   "execution_count": 39,
   "id": "5047d96d",
   "metadata": {},
   "outputs": [],
   "source": [
    "candles= [ 2,  4 , 4 , 1 , 3 ]"
   ]
  },
  {
   "cell_type": "code",
   "execution_count": 40,
   "id": "a7a7f66f",
   "metadata": {},
   "outputs": [],
   "source": [
    "candles.sort()"
   ]
  },
  {
   "cell_type": "code",
   "execution_count": 41,
   "id": "e88c223a",
   "metadata": {},
   "outputs": [
    {
     "data": {
      "text/plain": [
       "[1, 2, 3, 4, 4]"
      ]
     },
     "execution_count": 41,
     "metadata": {},
     "output_type": "execute_result"
    }
   ],
   "source": [
    "candles"
   ]
  },
  {
   "cell_type": "code",
   "execution_count": null,
   "id": "be8524bf",
   "metadata": {},
   "outputs": [],
   "source": []
  },
  {
   "cell_type": "markdown",
   "id": "4a16682a",
   "metadata": {},
   "source": [
    "## Topic : Data Structures\n",
    "---\n",
    "List"
   ]
  },
  {
   "cell_type": "markdown",
   "id": "97905ad0",
   "metadata": {},
   "source": [
    "Scenario :\n",
    "    ---\n",
    "    \n",
    "    You are provided with the Data of Votes from Recent Elections.\n",
    "    \n",
    "    votes= ['A','B','A','B','B','C','B']\n",
    "    \n",
    "    You are asked to find What All Parties Participated (unique values)\n",
    "    \n",
    "    You are asked to find Count of Votes Recieved by Each Party !\n",
    "    \n",
    "\n",
    "    "
   ]
  },
  {
   "cell_type": "code",
   "execution_count": null,
   "id": "8bc6f4c0",
   "metadata": {},
   "outputs": [],
   "source": []
  },
  {
   "cell_type": "code",
   "execution_count": 42,
   "id": "cae60c16",
   "metadata": {},
   "outputs": [],
   "source": [
    "# here is the explanation\n",
    "\n",
    "votes= ['A','B','A','B','B','C','B']"
   ]
  },
  {
   "cell_type": "code",
   "execution_count": 43,
   "id": "96057192",
   "metadata": {},
   "outputs": [
    {
     "name": "stdout",
     "output_type": "stream",
     "text": [
      "Here are the Unique Parties  ['A', 'B', 'C']\n"
     ]
    }
   ],
   "source": [
    "\n",
    "parties = []       # this is an empty List\n",
    "\n",
    "for v in votes :    \n",
    "    \n",
    "    if   v    not    in     parties :\n",
    "        \n",
    "        parties.append( v  ) #<---------------\n",
    "        \n",
    "print('Here are the Unique Parties ' , parties )"
   ]
  },
  {
   "cell_type": "code",
   "execution_count": 44,
   "id": "33883670",
   "metadata": {},
   "outputs": [],
   "source": [
    "# V      if   v    not    in     parties :           parties= []\n",
    "# ----------------------------------------------------------------\n",
    "# A       if 'A' Not in [] :  True                    ['A'] \n",
    "# B       if 'B' Not in ['A'] :  True                 ['A','B']\n",
    "# A       if 'A' Not in ['A','B'] : False             ['A','B']\n",
    "# B       if 'B' Not in ['A','B'] : False             ['A','B']\n",
    "# B       if 'B' Not in ['A','B'] : False             ['A','B']\n",
    "# C       if 'C' Not in ['A','B'] : True              ['A','B','C']\n",
    "# B       if 'B' Not in ['A','B','C'] : False         ['A','B','C']\n",
    "\n",
    "# this is parties ['A','B','C']"
   ]
  },
  {
   "cell_type": "code",
   "execution_count": null,
   "id": "df92b75b",
   "metadata": {},
   "outputs": [],
   "source": []
  },
  {
   "cell_type": "code",
   "execution_count": 45,
   "id": "b003d949",
   "metadata": {},
   "outputs": [
    {
     "data": {
      "text/plain": [
       "['A', 'B', 'A', 'B', 'B', 'C', 'B']"
      ]
     },
     "execution_count": 45,
     "metadata": {},
     "output_type": "execute_result"
    }
   ],
   "source": [
    "votes"
   ]
  },
  {
   "cell_type": "code",
   "execution_count": 46,
   "id": "02c311f9",
   "metadata": {},
   "outputs": [
    {
     "data": {
      "text/plain": [
       "['A', 'B', 'C']"
      ]
     },
     "execution_count": 46,
     "metadata": {},
     "output_type": "execute_result"
    }
   ],
   "source": [
    "parties"
   ]
  },
  {
   "cell_type": "code",
   "execution_count": null,
   "id": "a4141a79",
   "metadata": {},
   "outputs": [],
   "source": []
  },
  {
   "cell_type": "code",
   "execution_count": 47,
   "id": "0b929214",
   "metadata": {},
   "outputs": [
    {
     "name": "stdout",
     "output_type": "stream",
     "text": [
      "A 2\n",
      "B 4\n",
      "C 1\n"
     ]
    }
   ],
   "source": [
    "for party in parties :\n",
    "    \n",
    "    print(party , votes.count( party ))"
   ]
  },
  {
   "cell_type": "code",
   "execution_count": null,
   "id": "89228543",
   "metadata": {},
   "outputs": [],
   "source": []
  },
  {
   "cell_type": "markdown",
   "id": "a1b55ea1",
   "metadata": {},
   "source": [
    "## Topic : String Manipulation\n",
    "---"
   ]
  },
  {
   "cell_type": "markdown",
   "id": "a9a4b3d1",
   "metadata": {},
   "source": [
    "Scenario : \n",
    "    you are provided with the names of Popular Scientist.\n",
    "<pre>\n",
    "scientists=\"Jagadish Chandra Bose,Birbal Sahani,Prafulla Chandra Ray,Vikram Sarabhai\"\n",
    "\n",
    "You are asked to Write an Invitation (for award ceremony) and prepare Invites\n",
    "in the Below Format.\n",
    "\n",
    "Dear Mr. Bose.J\n",
    "Dear Mr. Sahani.B\n",
    "Dear Mr. Ray.P\n",
    "Dear Mr. Sarabhai.V\n",
    "\n"
   ]
  },
  {
   "cell_type": "code",
   "execution_count": 50,
   "id": "c4679584",
   "metadata": {},
   "outputs": [],
   "source": [
    "# here is the explanation : "
   ]
  },
  {
   "cell_type": "code",
   "execution_count": 51,
   "id": "f3d33274",
   "metadata": {},
   "outputs": [],
   "source": [
    "scientists=\"Jagadish Chandra Bose,Birbal Sahani,Prafulla Chandra Ray,Vikram Sarabhai\""
   ]
  },
  {
   "cell_type": "code",
   "execution_count": 52,
   "id": "0efbbeeb",
   "metadata": {},
   "outputs": [
    {
     "data": {
      "text/plain": [
       "['Jagadish Chandra Bose',\n",
       " 'Birbal Sahani',\n",
       " 'Prafulla Chandra Ray',\n",
       " 'Vikram Sarabhai']"
      ]
     },
     "execution_count": 52,
     "metadata": {},
     "output_type": "execute_result"
    }
   ],
   "source": [
    "sciList = scientists.split(',')\n",
    "sciList"
   ]
  },
  {
   "cell_type": "code",
   "execution_count": null,
   "id": "47cb9195",
   "metadata": {},
   "outputs": [],
   "source": []
  },
  {
   "cell_type": "code",
   "execution_count": 57,
   "id": "e43827f3",
   "metadata": {},
   "outputs": [
    {
     "name": "stdout",
     "output_type": "stream",
     "text": [
      "Dear Mr. Bose.J\n",
      "Dear Mr. Sahani.B\n",
      "Dear Mr. Ray.P\n",
      "Dear Mr. Sarabhai.V\n"
     ]
    }
   ],
   "source": [
    "for fullName in sciList :\n",
    "    \n",
    "    lastName = fullName.split()[-1]\n",
    "    initial = fullName[0]\n",
    "    \n",
    "    print(f'Dear Mr. {lastName}.{initial}')"
   ]
  },
  {
   "cell_type": "code",
   "execution_count": null,
   "id": "98c7c50a",
   "metadata": {},
   "outputs": [],
   "source": []
  },
  {
   "cell_type": "code",
   "execution_count": null,
   "id": "c878f1f2",
   "metadata": {},
   "outputs": [],
   "source": [
    "# fullName.split()[-1] is LastName\n",
    "\n",
    "# fullName[0] is firstName firstCharacter"
   ]
  },
  {
   "cell_type": "code",
   "execution_count": null,
   "id": "65c538fb",
   "metadata": {},
   "outputs": [],
   "source": []
  },
  {
   "cell_type": "code",
   "execution_count": null,
   "id": "45faac4a",
   "metadata": {},
   "outputs": [],
   "source": []
  },
  {
   "cell_type": "code",
   "execution_count": null,
   "id": "a52deded",
   "metadata": {},
   "outputs": [],
   "source": []
  },
  {
   "cell_type": "code",
   "execution_count": null,
   "id": "71a78f00",
   "metadata": {},
   "outputs": [],
   "source": []
  },
  {
   "cell_type": "code",
   "execution_count": null,
   "id": "ccfc0a80",
   "metadata": {},
   "outputs": [],
   "source": []
  },
  {
   "cell_type": "code",
   "execution_count": null,
   "id": "6302a8f3",
   "metadata": {},
   "outputs": [],
   "source": []
  },
  {
   "cell_type": "code",
   "execution_count": null,
   "id": "80a4c21a",
   "metadata": {},
   "outputs": [],
   "source": []
  },
  {
   "cell_type": "code",
   "execution_count": null,
   "id": "9821c928",
   "metadata": {},
   "outputs": [],
   "source": []
  },
  {
   "cell_type": "markdown",
   "id": "3679e72f",
   "metadata": {},
   "source": [
    "## Topic Dictionary\n",
    "---"
   ]
  },
  {
   "cell_type": "markdown",
   "id": "f8c23edb",
   "metadata": {},
   "source": [
    "Scenario : \n",
    "<pre>\n",
    "    assuming D-MART Shopping\n",
    "    \n",
    "    cart = ['mango','orange','kiwi','apple']    # 1 piece for each product in CART\n",
    "    \n",
    "    # here is the price detail stored as Dictionary\n",
    "    \n",
    "    \n",
    "    price = {\n",
    "        'orange':1.5,\n",
    "        'apple': 2,\n",
    "        'kiwi' : 3.5,\n",
    "        'mango':4\n",
    "    }\n",
    "    \n",
    "    # here is the stock details stored as Dictionary\n",
    "    \n",
    "    stock ={\n",
    "        'orange':32,\n",
    "        'apple': 0,\n",
    "        'kiwi': 18,\n",
    "        'mango':22\n",
    "    }\n",
    "    \n",
    "# you are asked to find the total bill Value as per the Items in CART \n",
    "# make sure u do not bill any product which is out of stock."
   ]
  },
  {
   "cell_type": "code",
   "execution_count": 60,
   "id": "1e50beca",
   "metadata": {},
   "outputs": [],
   "source": [
    "cart = ['mango','orange','kiwi','apple']  "
   ]
  },
  {
   "cell_type": "code",
   "execution_count": 62,
   "id": "6000580d",
   "metadata": {},
   "outputs": [],
   "source": [
    "price = {\n",
    "        'orange':1.5,\n",
    "        'apple': 2,\n",
    "        'kiwi' : 3.5,\n",
    "        'mango':4\n",
    "    }\n",
    "\n",
    "    # here is the stock details stored as Dictionary\n",
    "stock ={\n",
    "        'orange':32,\n",
    "        'apple': 0,\n",
    "        'kiwi': 18,\n",
    "        'mango':22\n",
    "    }\n"
   ]
  },
  {
   "cell_type": "code",
   "execution_count": 64,
   "id": "353e393e",
   "metadata": {},
   "outputs": [
    {
     "name": "stdout",
     "output_type": "stream",
     "text": [
      "mango 4 22\n",
      "orange 1.5 32\n",
      "kiwi 3.5 18\n",
      "apple 2 0\n"
     ]
    }
   ],
   "source": [
    "for key in cart :\n",
    "    \n",
    "    print( key     ,       price[ key ]    ,       stock [ key ]  )"
   ]
  },
  {
   "cell_type": "code",
   "execution_count": 65,
   "id": "473fdb78",
   "metadata": {},
   "outputs": [
    {
     "name": "stdout",
     "output_type": "stream",
     "text": [
      "Total BILL  9.0\n"
     ]
    }
   ],
   "source": [
    "total_bill=0\n",
    "\n",
    "for key in cart :\n",
    "    \n",
    "    if stock[ key ] > 0 :\n",
    "        \n",
    "        total_bill = total_bill + price[ key ]\n",
    "        \n",
    "print('Total BILL ', total_bill)"
   ]
  },
  {
   "cell_type": "code",
   "execution_count": null,
   "id": "c245d477",
   "metadata": {},
   "outputs": [],
   "source": []
  },
  {
   "cell_type": "code",
   "execution_count": null,
   "id": "8499f03f",
   "metadata": {},
   "outputs": [],
   "source": []
  },
  {
   "cell_type": "code",
   "execution_count": null,
   "id": "7402d770",
   "metadata": {},
   "outputs": [],
   "source": []
  },
  {
   "cell_type": "code",
   "execution_count": null,
   "id": "909a3f50",
   "metadata": {},
   "outputs": [],
   "source": []
  },
  {
   "cell_type": "code",
   "execution_count": null,
   "id": "62c7cf05",
   "metadata": {},
   "outputs": [],
   "source": []
  },
  {
   "cell_type": "code",
   "execution_count": null,
   "id": "52111e69",
   "metadata": {},
   "outputs": [],
   "source": []
  },
  {
   "cell_type": "code",
   "execution_count": null,
   "id": "023a7e94",
   "metadata": {},
   "outputs": [],
   "source": []
  },
  {
   "cell_type": "code",
   "execution_count": null,
   "id": "817a2a08",
   "metadata": {},
   "outputs": [],
   "source": []
  }
 ],
 "metadata": {
  "kernelspec": {
   "display_name": "Python 3",
   "language": "python",
   "name": "python3"
  },
  "language_info": {
   "codemirror_mode": {
    "name": "ipython",
    "version": 3
   },
   "file_extension": ".py",
   "mimetype": "text/x-python",
   "name": "python",
   "nbconvert_exporter": "python",
   "pygments_lexer": "ipython3",
   "version": "3.8.8"
  }
 },
 "nbformat": 4,
 "nbformat_minor": 5
}
