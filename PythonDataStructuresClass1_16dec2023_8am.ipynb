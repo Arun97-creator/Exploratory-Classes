{
  "nbformat": 4,
  "nbformat_minor": 0,
  "metadata": {
    "colab": {
      "provenance": []
    },
    "kernelspec": {
      "name": "python3",
      "display_name": "Python 3"
    },
    "language_info": {
      "name": "python"
    }
  },
  "cells": [
    {
      "cell_type": "markdown",
      "source": [
        "We will Discuss\n",
        "1. LIST\n",
        "2. Tuple\n",
        "3. Set\n",
        "4. Dictionary."
      ],
      "metadata": {
        "id": "bIdRgCuuj7x3"
      }
    },
    {
      "cell_type": "markdown",
      "source": [
        "# LIST\n",
        "---"
      ],
      "metadata": {
        "id": "8e7m522JkLop"
      }
    },
    {
      "cell_type": "code",
      "source": [
        "grocery = [ 'milk' ,'bread',100,100,100,True,False,2.4  , [ 10,20,30] ]"
      ],
      "metadata": {
        "id": "DGDcskibkLbP"
      },
      "execution_count": null,
      "outputs": []
    },
    {
      "cell_type": "code",
      "execution_count": null,
      "metadata": {
        "colab": {
          "base_uri": "https://localhost:8080/"
        },
        "id": "xInfyhqVjsTL",
        "outputId": "456d7afa-3505-4461-e6ed-c90de6fb28e0"
      },
      "outputs": [
        {
          "output_type": "execute_result",
          "data": {
            "text/plain": [
              "list"
            ]
          },
          "metadata": {},
          "execution_count": 2
        }
      ],
      "source": [
        "# What is Grocery ?\n",
        "type(grocery)"
      ]
    },
    {
      "cell_type": "markdown",
      "source": [
        "# What are the Characteristics of LIST ?\n",
        "  - A List is represented using [ ]\n",
        "  - A List can contain Duplicates .\n",
        "  - A List can contain Elements of Multiple DataTypes.\n",
        "  - A List is a Mutable Data Structure, here Mutable means\n",
        "  you are allowed to do manipulation in elements eg. ADD/ UPDATE/ DELETE/ SORT."
      ],
      "metadata": {
        "id": "F3dLlbUekWd2"
      }
    },
    {
      "cell_type": "code",
      "source": [],
      "metadata": {
        "id": "N5RKFHy2kAqd"
      },
      "execution_count": null,
      "outputs": []
    },
    {
      "cell_type": "markdown",
      "source": [],
      "metadata": {
        "id": "ip86QumZlCjg"
      }
    },
    {
      "cell_type": "markdown",
      "source": [
        "# Let us Learn the various operations of List.\n",
        "---\n",
        "In this example we will simulate a Shopping Cart 🛒 using a LIST."
      ],
      "metadata": {
        "id": "POCebT4slC8I"
      }
    },
    {
      "cell_type": "code",
      "source": [
        "shopping_cart = []"
      ],
      "metadata": {
        "id": "fZN444F1lKsL"
      },
      "execution_count": null,
      "outputs": []
    },
    {
      "cell_type": "code",
      "source": [
        "print('Total Products in CART ' , len( shopping_cart ) )"
      ],
      "metadata": {
        "colab": {
          "base_uri": "https://localhost:8080/"
        },
        "id": "_jCwjRG0lU2c",
        "outputId": "9bbd0c35-6148-41f9-b28a-b3a715d07712"
      },
      "execution_count": null,
      "outputs": [
        {
          "output_type": "stream",
          "name": "stdout",
          "text": [
            "Total Products in CART  0\n"
          ]
        }
      ]
    },
    {
      "cell_type": "code",
      "source": [],
      "metadata": {
        "id": "jAa-Tqa6lch4"
      },
      "execution_count": null,
      "outputs": []
    },
    {
      "cell_type": "markdown",
      "source": [
        "# Adding Element in a List using .append() Method\n",
        "---\n",
        "Hey ! what is the Syntax ?\n",
        "\n",
        "            LISTName.append(  value )"
      ],
      "metadata": {
        "id": "dNGIUm6fl1H_"
      }
    },
    {
      "cell_type": "code",
      "source": [
        "shopping_cart"
      ],
      "metadata": {
        "colab": {
          "base_uri": "https://localhost:8080/"
        },
        "id": "ZKyhMefRl0XO",
        "outputId": "8b2c1f87-6186-4b06-ad19-2f5f2618ddd1"
      },
      "execution_count": null,
      "outputs": [
        {
          "output_type": "execute_result",
          "data": {
            "text/plain": [
              "[]"
            ]
          },
          "metadata": {},
          "execution_count": 5
        }
      ]
    },
    {
      "cell_type": "code",
      "source": [
        "shopping_cart.append('iPhone')"
      ],
      "metadata": {
        "id": "DXqL43Dxl_VM"
      },
      "execution_count": null,
      "outputs": []
    },
    {
      "cell_type": "code",
      "source": [
        "shopping_cart"
      ],
      "metadata": {
        "colab": {
          "base_uri": "https://localhost:8080/"
        },
        "id": "ykxqZYKkmBF4",
        "outputId": "31187990-f653-43bd-eb9e-e18b0fc68504"
      },
      "execution_count": null,
      "outputs": [
        {
          "output_type": "execute_result",
          "data": {
            "text/plain": [
              "['iPhone']"
            ]
          },
          "metadata": {},
          "execution_count": 7
        }
      ]
    },
    {
      "cell_type": "code",
      "source": [
        "# lets add few more elements\n",
        "\n",
        "shopping_cart.append('iPad')\n",
        "shopping_cart.append('airPods')\n",
        "shopping_cart.append('harman/kardon')\n",
        "shopping_cart.append('iWatch')"
      ],
      "metadata": {
        "id": "FgJbqu9smCAD"
      },
      "execution_count": null,
      "outputs": []
    },
    {
      "cell_type": "code",
      "source": [
        "shopping_cart"
      ],
      "metadata": {
        "colab": {
          "base_uri": "https://localhost:8080/"
        },
        "id": "OHX3qwkdmqY_",
        "outputId": "ed9192f9-ae73-43b1-9efa-7dbad19c50ae"
      },
      "execution_count": null,
      "outputs": [
        {
          "output_type": "execute_result",
          "data": {
            "text/plain": [
              "['iPhone', 'iPad', 'airPods', 'harman/kardon', 'iWatch']"
            ]
          },
          "metadata": {},
          "execution_count": 9
        }
      ]
    },
    {
      "cell_type": "code",
      "source": [
        "print('Total Products in CART ', len( shopping_cart ))"
      ],
      "metadata": {
        "colab": {
          "base_uri": "https://localhost:8080/"
        },
        "id": "Os45pY0qmrcV",
        "outputId": "423d71f8-6888-4da9-87f6-f78e778b73cc"
      },
      "execution_count": null,
      "outputs": [
        {
          "output_type": "stream",
          "name": "stdout",
          "text": [
            "Total Products in CART  5\n"
          ]
        }
      ]
    },
    {
      "cell_type": "code",
      "source": [],
      "metadata": {
        "id": "L3sl6JvfmtZ-"
      },
      "execution_count": null,
      "outputs": []
    },
    {
      "cell_type": "markdown",
      "source": [
        "# Adding Multiple Elements in a LIST using .extend()\n",
        "---\n",
        "What is the Syntax ?\n",
        "\n",
        "                              ListName.extend(   NewLIST )"
      ],
      "metadata": {
        "id": "VwmV29HHnCLZ"
      }
    },
    {
      "cell_type": "code",
      "source": [
        "shopping_cart"
      ],
      "metadata": {
        "colab": {
          "base_uri": "https://localhost:8080/"
        },
        "id": "R4M5eXPInS72",
        "outputId": "786856e9-2581-4516-d712-7f3866346fb4"
      },
      "execution_count": null,
      "outputs": [
        {
          "output_type": "execute_result",
          "data": {
            "text/plain": [
              "['iPhone', 'iPad', 'airPods', 'harman/kardon', 'iWatch']"
            ]
          },
          "metadata": {},
          "execution_count": 11
        }
      ]
    },
    {
      "cell_type": "code",
      "source": [
        "# here is another new list\n",
        "combo_offers  = ['bagpack','charger','ponds','lamp','datacable',]"
      ],
      "metadata": {
        "id": "juRLCwMcnUID"
      },
      "execution_count": null,
      "outputs": []
    },
    {
      "cell_type": "code",
      "source": [
        "shopping_cart.extend( combo_offers )"
      ],
      "metadata": {
        "id": "S09sdMQ-nfWC"
      },
      "execution_count": null,
      "outputs": []
    },
    {
      "cell_type": "code",
      "source": [
        "print( shopping_cart )"
      ],
      "metadata": {
        "colab": {
          "base_uri": "https://localhost:8080/"
        },
        "id": "pT8W0QjHnjKx",
        "outputId": "b04ea155-6ae4-4ae5-edb2-e7ef9bab5f61"
      },
      "execution_count": null,
      "outputs": [
        {
          "output_type": "stream",
          "name": "stdout",
          "text": [
            "['iPhone', 'iPad', 'airPods', 'harman/kardon', 'iWatch', 'bagpack', 'charger', 'ponds', 'lamp', 'datacable']\n"
          ]
        }
      ]
    },
    {
      "cell_type": "code",
      "source": [],
      "metadata": {
        "id": "SPKsT630nkXD"
      },
      "execution_count": null,
      "outputs": []
    },
    {
      "cell_type": "markdown",
      "source": [
        "# Accessing Individual Element using INDEX\n",
        "---\n"
      ],
      "metadata": {
        "id": "TjSwjLIgoFsU"
      }
    },
    {
      "cell_type": "code",
      "source": [
        "print(shopping_cart)"
      ],
      "metadata": {
        "colab": {
          "base_uri": "https://localhost:8080/"
        },
        "id": "IJiU5tE8oIYX",
        "outputId": "af3150e3-3c19-4fa4-9b11-76ec7cb4c26d"
      },
      "execution_count": null,
      "outputs": [
        {
          "output_type": "stream",
          "name": "stdout",
          "text": [
            "['iPhone', 'iPad', 'airPods', 'harman/kardon', 'iWatch', 'bagpack', 'charger', 'ponds', 'lamp', 'datacable']\n"
          ]
        }
      ]
    },
    {
      "cell_type": "code",
      "source": [
        "shopping_cart[ 0 ] # first element"
      ],
      "metadata": {
        "colab": {
          "base_uri": "https://localhost:8080/",
          "height": 35
        },
        "id": "IF6HKR_6oJ_1",
        "outputId": "f65cb8a3-140a-49bf-8773-3721c5259607"
      },
      "execution_count": null,
      "outputs": [
        {
          "output_type": "execute_result",
          "data": {
            "text/plain": [
              "'iPhone'"
            ],
            "application/vnd.google.colaboratory.intrinsic+json": {
              "type": "string"
            }
          },
          "metadata": {},
          "execution_count": 18
        }
      ]
    },
    {
      "cell_type": "code",
      "source": [
        "shopping_cart[ -1 ] # this is last element"
      ],
      "metadata": {
        "colab": {
          "base_uri": "https://localhost:8080/",
          "height": 35
        },
        "id": "tmp_GnKloidk",
        "outputId": "eafbf867-3417-4513-c590-489ba7bc11d5"
      },
      "execution_count": null,
      "outputs": [
        {
          "output_type": "execute_result",
          "data": {
            "text/plain": [
              "'datacable'"
            ],
            "application/vnd.google.colaboratory.intrinsic+json": {
              "type": "string"
            }
          },
          "metadata": {},
          "execution_count": 19
        }
      ]
    },
    {
      "cell_type": "code",
      "source": [],
      "metadata": {
        "id": "PLHJHEUGomYe"
      },
      "execution_count": null,
      "outputs": []
    },
    {
      "cell_type": "markdown",
      "source": [
        "# ✂️ Removing  Elements from List\n",
        "---"
      ],
      "metadata": {
        "id": "hxmP8t6to-Vb"
      }
    },
    {
      "cell_type": "code",
      "source": [
        "# Method 1 :       using .remove() Method"
      ],
      "metadata": {
        "id": "g3ZAUxSlpCQR"
      },
      "execution_count": null,
      "outputs": []
    },
    {
      "cell_type": "code",
      "source": [
        "print( shopping_cart)"
      ],
      "metadata": {
        "colab": {
          "base_uri": "https://localhost:8080/"
        },
        "id": "yZPc7mk7pGzq",
        "outputId": "f2ef1673-337d-4dd0-f0ad-8e2858e0613e"
      },
      "execution_count": null,
      "outputs": [
        {
          "output_type": "stream",
          "name": "stdout",
          "text": [
            "['iPhone', 'iPad', 'airPods', 'harman/kardon', 'iWatch', 'bagpack', 'charger', 'ponds', 'lamp', 'datacable']\n"
          ]
        }
      ]
    },
    {
      "cell_type": "code",
      "source": [
        " shopping_cart.remove( 'harman/kardon')"
      ],
      "metadata": {
        "id": "uKf7lyWTpIX4"
      },
      "execution_count": null,
      "outputs": []
    },
    {
      "cell_type": "code",
      "source": [
        "print(shopping_cart)"
      ],
      "metadata": {
        "colab": {
          "base_uri": "https://localhost:8080/"
        },
        "id": "XYBou55QpMf4",
        "outputId": "1080a5c1-f577-4072-dd8b-d7b11ee530ab"
      },
      "execution_count": null,
      "outputs": [
        {
          "output_type": "stream",
          "name": "stdout",
          "text": [
            "['iPhone', 'iPad', 'airPods', 'iWatch', 'bagpack', 'charger', 'ponds', 'lamp', 'datacable']\n"
          ]
        }
      ]
    },
    {
      "cell_type": "code",
      "source": [],
      "metadata": {
        "id": "L-SkpTFppN12"
      },
      "execution_count": null,
      "outputs": []
    },
    {
      "cell_type": "code",
      "source": [
        "# Method 2 :     using Del     ( note: del requires Index as INPUT )"
      ],
      "metadata": {
        "id": "iHmfVrgLpVVC"
      },
      "execution_count": null,
      "outputs": []
    },
    {
      "cell_type": "code",
      "source": [
        "print( shopping_cart )"
      ],
      "metadata": {
        "colab": {
          "base_uri": "https://localhost:8080/"
        },
        "id": "4Zri9JfppWtY",
        "outputId": "0a940c60-3314-4cf5-b35f-e9662eb89475"
      },
      "execution_count": null,
      "outputs": [
        {
          "output_type": "stream",
          "name": "stdout",
          "text": [
            "['iPhone', 'iPad', 'airPods', 'iWatch', 'bagpack', 'charger', 'ponds', 'lamp', 'datacable']\n"
          ]
        }
      ]
    },
    {
      "cell_type": "code",
      "source": [
        "del shopping_cart[ 1 ]"
      ],
      "metadata": {
        "id": "Z4uQmZLbpaNk"
      },
      "execution_count": null,
      "outputs": []
    },
    {
      "cell_type": "code",
      "source": [
        "print( shopping_cart )"
      ],
      "metadata": {
        "colab": {
          "base_uri": "https://localhost:8080/"
        },
        "id": "7_TYnFWspeCQ",
        "outputId": "69bee3a1-3fe9-4795-a5a5-3ed285709609"
      },
      "execution_count": null,
      "outputs": [
        {
          "output_type": "stream",
          "name": "stdout",
          "text": [
            "['iPhone', 'airPods', 'iWatch', 'bagpack', 'charger', 'ponds', 'lamp', 'datacable']\n"
          ]
        }
      ]
    },
    {
      "cell_type": "code",
      "source": [
        "# Did u observe !\n",
        "# .remove() requires value  as Input to Delete element\n",
        "# del requires index as Input to Delete element.\n",
        "\n",
        "# note: you can delete only 1 element a time using .remove()\n",
        "#       you can delete multiple elements using del (using slicing)"
      ],
      "metadata": {
        "id": "9Tk24NeiplZs"
      },
      "execution_count": null,
      "outputs": []
    },
    {
      "cell_type": "code",
      "source": [],
      "metadata": {
        "id": "iRNQis7-px_v"
      },
      "execution_count": null,
      "outputs": []
    },
    {
      "cell_type": "markdown",
      "source": [
        "# Method 3 : using .Pop()\n",
        "\n",
        "          -     Pop() Deletes Last Element By Default.\n",
        "          -     Pop() Works with Index Also to Delete Element.\n",
        "          -     You can Delete only 1 Element at a Time. (cannot delete multiple elements)\n",
        "          -     Pop() method RETURNS the Deleted Element, you can store deleted element by Creating a New Variable.\n"
      ],
      "metadata": {
        "id": "VzZI6oExqb2w"
      }
    },
    {
      "cell_type": "code",
      "source": [
        "print(shopping_cart)"
      ],
      "metadata": {
        "colab": {
          "base_uri": "https://localhost:8080/"
        },
        "id": "coDRomXXqQ3u",
        "outputId": "19e01839-4be5-423a-b316-090ccc043e7a"
      },
      "execution_count": null,
      "outputs": [
        {
          "output_type": "stream",
          "name": "stdout",
          "text": [
            "['iPhone', 'airPods', 'iWatch', 'bagpack', 'charger', 'ponds', 'lamp', 'datacable']\n"
          ]
        }
      ]
    },
    {
      "cell_type": "code",
      "source": [
        "cancelledProduct = shopping_cart.pop(2)"
      ],
      "metadata": {
        "id": "NWXv7KYcqRye"
      },
      "execution_count": null,
      "outputs": []
    },
    {
      "cell_type": "code",
      "source": [
        "print('Are you Sure you wish to Cancel  '  ,     cancelledProduct  )"
      ],
      "metadata": {
        "colab": {
          "base_uri": "https://localhost:8080/"
        },
        "id": "PsW2lBA_rHPd",
        "outputId": "08e0dadb-b7e3-47c9-819f-c475118124ad"
      },
      "execution_count": null,
      "outputs": [
        {
          "output_type": "stream",
          "name": "stdout",
          "text": [
            "Are you Sure you wish to Cancel   iWatch\n"
          ]
        }
      ]
    },
    {
      "cell_type": "code",
      "source": [
        "shopping_cart"
      ],
      "metadata": {
        "colab": {
          "base_uri": "https://localhost:8080/"
        },
        "id": "c-ToNPuArjLG",
        "outputId": "d377aa60-770b-46dd-d18b-5b18a8d45760"
      },
      "execution_count": null,
      "outputs": [
        {
          "output_type": "execute_result",
          "data": {
            "text/plain": [
              "['iPhone', 'airPods', 'bagpack', 'charger', 'ponds', 'lamp', 'datacable']"
            ]
          },
          "metadata": {},
          "execution_count": 34
        }
      ]
    },
    {
      "cell_type": "code",
      "source": [
        "# let us try updating element"
      ],
      "metadata": {
        "id": "ZkiKYCParnNN"
      },
      "execution_count": null,
      "outputs": []
    },
    {
      "cell_type": "code",
      "source": [
        "shopping_cart"
      ],
      "metadata": {
        "colab": {
          "base_uri": "https://localhost:8080/"
        },
        "id": "NT5JDVBGsHEP",
        "outputId": "facdc5f9-9434-47a5-d1d7-19b3df32b3ff"
      },
      "execution_count": null,
      "outputs": [
        {
          "output_type": "execute_result",
          "data": {
            "text/plain": [
              "['iPhone', 'airPods', 'bagpack', 'charger', 'ponds', 'lamp', 'datacable']"
            ]
          },
          "metadata": {},
          "execution_count": 36
        }
      ]
    },
    {
      "cell_type": "code",
      "source": [
        "shopping_cart[ 4 ] = 'eggs'"
      ],
      "metadata": {
        "id": "5CyLYy35sHGh"
      },
      "execution_count": null,
      "outputs": []
    },
    {
      "cell_type": "code",
      "source": [
        "shopping_cart"
      ],
      "metadata": {
        "colab": {
          "base_uri": "https://localhost:8080/"
        },
        "id": "LQE2Hz9zsHIm",
        "outputId": "560a7ded-3b6e-4940-97c2-4b24ed4fef2a"
      },
      "execution_count": null,
      "outputs": [
        {
          "output_type": "execute_result",
          "data": {
            "text/plain": [
              "['iPhone', 'airPods', 'bagpack', 'charger', 'eggs', 'lamp', 'datacable']"
            ]
          },
          "metadata": {},
          "execution_count": 38
        }
      ]
    },
    {
      "cell_type": "code",
      "source": [],
      "metadata": {
        "id": "rcqS5u07sHKX"
      },
      "execution_count": null,
      "outputs": []
    },
    {
      "cell_type": "code",
      "source": [
        "# let us try sorting list using .sort() Method"
      ],
      "metadata": {
        "id": "vHkGyd1PsWNY"
      },
      "execution_count": null,
      "outputs": []
    },
    {
      "cell_type": "code",
      "source": [
        "#before sort\n",
        "shopping_cart"
      ],
      "metadata": {
        "colab": {
          "base_uri": "https://localhost:8080/"
        },
        "id": "UsTCrd96sX_u",
        "outputId": "b061870c-4942-4126-e6df-a880fc46fdb2"
      },
      "execution_count": null,
      "outputs": [
        {
          "output_type": "execute_result",
          "data": {
            "text/plain": [
              "['iPhone', 'airPods', 'bagpack', 'charger', 'eggs', 'lamp', 'datacable']"
            ]
          },
          "metadata": {},
          "execution_count": 40
        }
      ]
    },
    {
      "cell_type": "code",
      "source": [
        "shopping_cart.sort()"
      ],
      "metadata": {
        "id": "nWs9AeAZsaX8"
      },
      "execution_count": null,
      "outputs": []
    },
    {
      "cell_type": "code",
      "source": [
        "# after sort\n",
        "shopping_cart"
      ],
      "metadata": {
        "colab": {
          "base_uri": "https://localhost:8080/"
        },
        "id": "uBFOPw9VsbO0",
        "outputId": "78dbf1f1-77dd-4a3e-f8f9-1f2bd5950bf9"
      },
      "execution_count": null,
      "outputs": [
        {
          "output_type": "execute_result",
          "data": {
            "text/plain": [
              "['airPods', 'bagpack', 'charger', 'datacable', 'eggs', 'iPhone', 'lamp']"
            ]
          },
          "metadata": {},
          "execution_count": 42
        }
      ]
    },
    {
      "cell_type": "code",
      "source": [],
      "metadata": {
        "id": "q7EIo3RmscY5"
      },
      "execution_count": null,
      "outputs": []
    },
    {
      "cell_type": "markdown",
      "source": [
        "![image.png](data:image/png;base64,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)"
      ],
      "metadata": {
        "id": "j9AX9txysx_R"
      }
    },
    {
      "cell_type": "code",
      "source": [
        "shopping_cart = ['iPhone', 'airPods', 'bagpack', 'charger', 'eggs', 'lamp', 'datacable']"
      ],
      "metadata": {
        "id": "HXSQk5TvsxOF"
      },
      "execution_count": null,
      "outputs": []
    },
    {
      "cell_type": "code",
      "source": [
        "# sorted() function returns a New LIST and doesn't modifies original List"
      ],
      "metadata": {
        "id": "zo-FfV2Qs1Wl"
      },
      "execution_count": null,
      "outputs": []
    },
    {
      "cell_type": "code",
      "source": [
        "newcart = sorted( shopping_cart )\n",
        "newcart"
      ],
      "metadata": {
        "colab": {
          "base_uri": "https://localhost:8080/"
        },
        "id": "o4g6AIjBs4r6",
        "outputId": "1453ffc5-ffef-425f-b148-376b3a23b7b3"
      },
      "execution_count": null,
      "outputs": [
        {
          "output_type": "execute_result",
          "data": {
            "text/plain": [
              "['airPods', 'bagpack', 'charger', 'datacable', 'eggs', 'iPhone', 'lamp']"
            ]
          },
          "metadata": {},
          "execution_count": 45
        }
      ]
    },
    {
      "cell_type": "code",
      "source": [
        "#original list\n",
        "shopping_cart"
      ],
      "metadata": {
        "colab": {
          "base_uri": "https://localhost:8080/"
        },
        "id": "UGZYXjmNs9z0",
        "outputId": "7463c4b8-4a99-4818-b16e-1f1fb481651f"
      },
      "execution_count": null,
      "outputs": [
        {
          "output_type": "execute_result",
          "data": {
            "text/plain": [
              "['iPhone', 'airPods', 'bagpack', 'charger', 'eggs', 'lamp', 'datacable']"
            ]
          },
          "metadata": {},
          "execution_count": 46
        }
      ]
    },
    {
      "cell_type": "code",
      "source": [
        "# .sort() modifies or sorts the original list"
      ],
      "metadata": {
        "id": "X5ACqYles_3u"
      },
      "execution_count": null,
      "outputs": []
    },
    {
      "cell_type": "code",
      "source": [
        "shopping_cart.sort()"
      ],
      "metadata": {
        "id": "oY1yIZS5tQR5"
      },
      "execution_count": null,
      "outputs": []
    },
    {
      "cell_type": "code",
      "source": [
        "shopping_cart"
      ],
      "metadata": {
        "colab": {
          "base_uri": "https://localhost:8080/"
        },
        "id": "tAF6BqWZtTJp",
        "outputId": "21ab9b73-bb59-461c-f4e2-bfdea490e243"
      },
      "execution_count": null,
      "outputs": [
        {
          "output_type": "execute_result",
          "data": {
            "text/plain": [
              "['airPods', 'bagpack', 'charger', 'datacable', 'eggs', 'iPhone', 'lamp']"
            ]
          },
          "metadata": {},
          "execution_count": 49
        }
      ]
    },
    {
      "cell_type": "code",
      "source": [
        "shopping_cart.sort( reverse=True)"
      ],
      "metadata": {
        "id": "Y73-ALIbtTxw"
      },
      "execution_count": null,
      "outputs": []
    },
    {
      "cell_type": "code",
      "source": [
        "shopping_cart"
      ],
      "metadata": {
        "colab": {
          "base_uri": "https://localhost:8080/"
        },
        "id": "LMa4K7bpth6I",
        "outputId": "3ead5e75-4e93-4058-a03e-27bc296c24a8"
      },
      "execution_count": null,
      "outputs": [
        {
          "output_type": "execute_result",
          "data": {
            "text/plain": [
              "['lamp', 'iPhone', 'eggs', 'datacable', 'charger', 'bagpack', 'airPods']"
            ]
          },
          "metadata": {},
          "execution_count": 51
        }
      ]
    },
    {
      "cell_type": "code",
      "source": [],
      "metadata": {
        "id": "gY-z3s42tihq"
      },
      "execution_count": null,
      "outputs": []
    },
    {
      "cell_type": "markdown",
      "source": [
        "# Tuples\n",
        "---\n",
        "\n",
        "Tuples are Known for their ReadOnly Nature , it means once a tuple is Created Elements cannot be modified in Tuple.\n",
        "\n",
        "This is Technically Called IMMUTABLE"
      ],
      "metadata": {
        "id": "_TNQH3_0ttIS"
      }
    },
    {
      "cell_type": "code",
      "source": [
        "panCards  = ('AONPC7555M' , 'IBKLQ19222' , 'MCPJNY3888')"
      ],
      "metadata": {
        "id": "UZ_iMKWut1YR"
      },
      "execution_count": null,
      "outputs": []
    },
    {
      "cell_type": "code",
      "source": [
        "panCards[0]"
      ],
      "metadata": {
        "colab": {
          "base_uri": "https://localhost:8080/",
          "height": 35
        },
        "id": "8a6Xrxmxt87L",
        "outputId": "5a730214-cc5c-4f9d-88cd-465f1f09708e"
      },
      "execution_count": null,
      "outputs": [
        {
          "output_type": "execute_result",
          "data": {
            "text/plain": [
              "'AONPC7555M'"
            ],
            "application/vnd.google.colaboratory.intrinsic+json": {
              "type": "string"
            }
          },
          "metadata": {},
          "execution_count": 53
        }
      ]
    },
    {
      "cell_type": "code",
      "source": [
        "# let us confirm the readonly nature\n",
        "del panCards[0]"
      ],
      "metadata": {
        "colab": {
          "base_uri": "https://localhost:8080/",
          "height": 193
        },
        "id": "KRfYdIEUuM9r",
        "outputId": "b929aaaa-90e9-41ad-868b-7e9d5553ddcb"
      },
      "execution_count": null,
      "outputs": [
        {
          "output_type": "error",
          "ename": "TypeError",
          "evalue": "ignored",
          "traceback": [
            "\u001b[0;31m---------------------------------------------------------------------------\u001b[0m",
            "\u001b[0;31mTypeError\u001b[0m                                 Traceback (most recent call last)",
            "\u001b[0;32m<ipython-input-54-a9a3dceb397e>\u001b[0m in \u001b[0;36m<cell line: 2>\u001b[0;34m()\u001b[0m\n\u001b[1;32m      1\u001b[0m \u001b[0;31m# let us confirm the readonly nature\u001b[0m\u001b[0;34m\u001b[0m\u001b[0;34m\u001b[0m\u001b[0m\n\u001b[0;32m----> 2\u001b[0;31m \u001b[0;32mdel\u001b[0m \u001b[0mpanCards\u001b[0m\u001b[0;34m[\u001b[0m\u001b[0;36m0\u001b[0m\u001b[0;34m]\u001b[0m\u001b[0;34m\u001b[0m\u001b[0;34m\u001b[0m\u001b[0m\n\u001b[0m",
            "\u001b[0;31mTypeError\u001b[0m: 'tuple' object doesn't support item deletion"
          ]
        }
      ]
    },
    {
      "cell_type": "code",
      "source": [
        "# Storing data in tuple vs list , provides faster performance when reading data."
      ],
      "metadata": {
        "id": "5RPwIqZguUN4"
      },
      "execution_count": null,
      "outputs": []
    },
    {
      "cell_type": "markdown",
      "source": [
        "# Unpacking\n",
        "--- it is an easy method of extracting elements from a tuple."
      ],
      "metadata": {
        "id": "6Vf2QSg7u83W"
      }
    },
    {
      "cell_type": "code",
      "source": [
        "flavors = ('chocolate','rum-raisin','strawberry')"
      ],
      "metadata": {
        "id": "7YDi5TdNvAcI"
      },
      "execution_count": null,
      "outputs": []
    },
    {
      "cell_type": "code",
      "source": [
        "f1 ,f2,f3 = flavors  # this is unpacking\n",
        "\n",
        "# this is same as\n",
        "f1=  flavors[0]\n",
        "f2= flavors[1]\n",
        "f3= flavors[2]"
      ],
      "metadata": {
        "id": "6REIp1x8vklb"
      },
      "execution_count": null,
      "outputs": []
    },
    {
      "cell_type": "code",
      "source": [
        "f1"
      ],
      "metadata": {
        "colab": {
          "base_uri": "https://localhost:8080/",
          "height": 35
        },
        "id": "LoZ9awcPvmmp",
        "outputId": "bc76a3ac-e364-40f7-b4b8-11ea9f03f741"
      },
      "execution_count": null,
      "outputs": [
        {
          "output_type": "execute_result",
          "data": {
            "text/plain": [
              "'chocolate'"
            ],
            "application/vnd.google.colaboratory.intrinsic+json": {
              "type": "string"
            }
          },
          "metadata": {},
          "execution_count": 58
        }
      ]
    },
    {
      "cell_type": "code",
      "source": [
        "f2"
      ],
      "metadata": {
        "colab": {
          "base_uri": "https://localhost:8080/",
          "height": 35
        },
        "id": "dBZZoyYLvmyV",
        "outputId": "d6c67eb2-c935-460b-da75-f2ba4f8f2e5a"
      },
      "execution_count": null,
      "outputs": [
        {
          "output_type": "execute_result",
          "data": {
            "text/plain": [
              "'rum-raisin'"
            ],
            "application/vnd.google.colaboratory.intrinsic+json": {
              "type": "string"
            }
          },
          "metadata": {},
          "execution_count": 59
        }
      ]
    },
    {
      "cell_type": "code",
      "source": [
        "f3"
      ],
      "metadata": {
        "colab": {
          "base_uri": "https://localhost:8080/",
          "height": 35
        },
        "id": "5LgR4d8Tvm8p",
        "outputId": "8a506d35-4b9f-495f-f607-d128fb31f25f"
      },
      "execution_count": null,
      "outputs": [
        {
          "output_type": "execute_result",
          "data": {
            "text/plain": [
              "'strawberry'"
            ],
            "application/vnd.google.colaboratory.intrinsic+json": {
              "type": "string"
            }
          },
          "metadata": {},
          "execution_count": 60
        }
      ]
    },
    {
      "cell_type": "code",
      "source": [
        "# here are the post ☕ Break Topics\n",
        "\n",
        "# SET\n",
        "# Dictionary\n"
      ],
      "metadata": {
        "id": "eMkC93yKvnGY"
      },
      "execution_count": null,
      "outputs": []
    },
    {
      "cell_type": "code",
      "source": [],
      "metadata": {
        "id": "aW1A3g_J1cA9"
      },
      "execution_count": null,
      "outputs": []
    },
    {
      "cell_type": "markdown",
      "source": [
        "# SET\n",
        "---\n",
        "<pre>\n",
        "Set is known for storing unique Elements Only.\n",
        "Set Eliminates duplicates Automatically.\n",
        "Set is represented using {}"
      ],
      "metadata": {
        "id": "dRdX76HY1ejJ"
      }
    },
    {
      "cell_type": "code",
      "source": [
        "colors  = { 'red', 'red','red','orange','orange','cyan','indigo','indigo'}"
      ],
      "metadata": {
        "id": "Zfz10rVk1qmx"
      },
      "execution_count": null,
      "outputs": []
    },
    {
      "cell_type": "code",
      "source": [
        "colors"
      ],
      "metadata": {
        "colab": {
          "base_uri": "https://localhost:8080/"
        },
        "id": "0uwpR8JZ1wKz",
        "outputId": "f39048c4-f9e6-45e9-df46-f46757888f1c"
      },
      "execution_count": null,
      "outputs": [
        {
          "output_type": "execute_result",
          "data": {
            "text/plain": [
              "{'cyan', 'indigo', 'orange', 'red'}"
            ]
          },
          "metadata": {},
          "execution_count": 63
        }
      ]
    },
    {
      "cell_type": "code",
      "source": [
        "for c in colors:\n",
        "  print(c)"
      ],
      "metadata": {
        "colab": {
          "base_uri": "https://localhost:8080/"
        },
        "id": "WkTjMYIh2OAr",
        "outputId": "3688a101-f49b-4444-a091-83c9ca4c8789"
      },
      "execution_count": null,
      "outputs": [
        {
          "output_type": "stream",
          "name": "stdout",
          "text": [
            "red\n",
            "cyan\n",
            "orange\n",
            "indigo\n"
          ]
        }
      ]
    },
    {
      "cell_type": "code",
      "source": [
        "# please note: set is UnOrdered Data Structure"
      ],
      "metadata": {
        "id": "4JKyUTu71weR"
      },
      "execution_count": null,
      "outputs": []
    },
    {
      "cell_type": "code",
      "source": [
        "# because set is UN ORDERED this is the reason Indexing isn't supported in SET"
      ],
      "metadata": {
        "id": "_K7DUKWJ2K5i"
      },
      "execution_count": null,
      "outputs": []
    },
    {
      "cell_type": "code",
      "source": [
        "colors[0]"
      ],
      "metadata": {
        "colab": {
          "base_uri": "https://localhost:8080/",
          "height": 176
        },
        "id": "KtaRHxRj2pXb",
        "outputId": "2c53b150-8f7d-4311-fa1b-02b8c923a81f"
      },
      "execution_count": null,
      "outputs": [
        {
          "output_type": "error",
          "ename": "TypeError",
          "evalue": "ignored",
          "traceback": [
            "\u001b[0;31m---------------------------------------------------------------------------\u001b[0m",
            "\u001b[0;31mTypeError\u001b[0m                                 Traceback (most recent call last)",
            "\u001b[0;32m<ipython-input-67-4f7c25fbc5d6>\u001b[0m in \u001b[0;36m<cell line: 1>\u001b[0;34m()\u001b[0m\n\u001b[0;32m----> 1\u001b[0;31m \u001b[0mcolors\u001b[0m\u001b[0;34m[\u001b[0m\u001b[0;36m0\u001b[0m\u001b[0;34m]\u001b[0m\u001b[0;34m\u001b[0m\u001b[0;34m\u001b[0m\u001b[0m\n\u001b[0m",
            "\u001b[0;31mTypeError\u001b[0m: 'set' object is not subscriptable"
          ]
        }
      ]
    },
    {
      "cell_type": "code",
      "source": [],
      "metadata": {
        "id": "wnFeehEq2qto"
      },
      "execution_count": null,
      "outputs": []
    },
    {
      "cell_type": "markdown",
      "source": [
        "# Adding & Deleting Element in SET\n",
        "---"
      ],
      "metadata": {
        "id": "3Fa7Qlqg26EE"
      }
    },
    {
      "cell_type": "code",
      "source": [
        "colors"
      ],
      "metadata": {
        "colab": {
          "base_uri": "https://localhost:8080/"
        },
        "id": "wiIpociG27fn",
        "outputId": "3454f92e-e68c-4537-834c-a7acf7cc923c"
      },
      "execution_count": null,
      "outputs": [
        {
          "output_type": "execute_result",
          "data": {
            "text/plain": [
              "{'cyan', 'indigo', 'orange', 'red'}"
            ]
          },
          "metadata": {},
          "execution_count": 68
        }
      ]
    },
    {
      "cell_type": "code",
      "source": [
        "colors.add('maroon')"
      ],
      "metadata": {
        "id": "8fPn2O3t28aj"
      },
      "execution_count": null,
      "outputs": []
    },
    {
      "cell_type": "code",
      "source": [
        "colors"
      ],
      "metadata": {
        "colab": {
          "base_uri": "https://localhost:8080/"
        },
        "id": "NWgSiz8B29rg",
        "outputId": "c1f0bebe-48dd-4e6f-dcdd-9b17285adb35"
      },
      "execution_count": null,
      "outputs": [
        {
          "output_type": "execute_result",
          "data": {
            "text/plain": [
              "{'cyan', 'indigo', 'maroon', 'orange', 'red'}"
            ]
          },
          "metadata": {},
          "execution_count": 70
        }
      ]
    },
    {
      "cell_type": "code",
      "source": [],
      "metadata": {
        "id": "yVwXVplT29_T"
      },
      "execution_count": null,
      "outputs": []
    },
    {
      "cell_type": "code",
      "source": [
        "colors.remove('indigo')"
      ],
      "metadata": {
        "id": "prL_E0zx2-Se"
      },
      "execution_count": null,
      "outputs": []
    },
    {
      "cell_type": "code",
      "source": [
        "colors"
      ],
      "metadata": {
        "colab": {
          "base_uri": "https://localhost:8080/"
        },
        "id": "JbUqp9DX3HNZ",
        "outputId": "f71c598b-cfb3-4594-b5f4-eff25864fa53"
      },
      "execution_count": null,
      "outputs": [
        {
          "output_type": "execute_result",
          "data": {
            "text/plain": [
              "{'cyan', 'maroon', 'orange', 'red'}"
            ]
          },
          "metadata": {},
          "execution_count": 72
        }
      ]
    },
    {
      "cell_type": "code",
      "source": [],
      "metadata": {
        "id": "T9gp9Zl23HeZ"
      },
      "execution_count": null,
      "outputs": []
    },
    {
      "cell_type": "code",
      "source": [
        "# Quick Demo\n",
        "\n",
        "# fav heroes\n",
        "survey =  ['ironman' ,'spiderman','ironman','ironman','ironman','ironman','ironman','spiderman']\n",
        "\n"
      ],
      "metadata": {
        "id": "3HG2yAsC3Ty1"
      },
      "execution_count": null,
      "outputs": []
    },
    {
      "cell_type": "code",
      "source": [
        "uniqHeroes= set( survey)\n",
        "\n",
        "uniqHeroes"
      ],
      "metadata": {
        "colab": {
          "base_uri": "https://localhost:8080/"
        },
        "id": "IMFg2tMz3kSN",
        "outputId": "5b5316d7-3794-470b-8e20-c4a959a5d77b"
      },
      "execution_count": null,
      "outputs": [
        {
          "output_type": "execute_result",
          "data": {
            "text/plain": [
              "{'ironman', 'spiderman'}"
            ]
          },
          "metadata": {},
          "execution_count": 74
        }
      ]
    },
    {
      "cell_type": "code",
      "source": [],
      "metadata": {
        "id": "xV7wO29Z3usQ"
      },
      "execution_count": null,
      "outputs": []
    },
    {
      "cell_type": "code",
      "source": [
        "heroList= list( uniqHeroes)"
      ],
      "metadata": {
        "id": "gAxquiCv3xnv"
      },
      "execution_count": null,
      "outputs": []
    },
    {
      "cell_type": "code",
      "source": [
        "heroList"
      ],
      "metadata": {
        "colab": {
          "base_uri": "https://localhost:8080/"
        },
        "id": "2ENKNyU430XR",
        "outputId": "ffacdc7d-6189-44a3-e0cc-5ab96eb3da89"
      },
      "execution_count": null,
      "outputs": [
        {
          "output_type": "execute_result",
          "data": {
            "text/plain": [
              "['spiderman', 'ironman']"
            ]
          },
          "metadata": {},
          "execution_count": 76
        }
      ]
    },
    {
      "cell_type": "code",
      "source": [],
      "metadata": {
        "id": "TtVnJh5P3014"
      },
      "execution_count": null,
      "outputs": []
    },
    {
      "cell_type": "markdown",
      "source": [
        "## Did u know you can use python Set to Implement Mathematical Set ?\n",
        "---"
      ],
      "metadata": {
        "id": "L37smtct4Hp6"
      }
    },
    {
      "cell_type": "code",
      "source": [
        "salesTeam = {'Armanta','casselyn','windy','Nicklaus','Manoj'}"
      ],
      "metadata": {
        "id": "67q4MrWl4LYa"
      },
      "execution_count": 2,
      "outputs": []
    },
    {
      "cell_type": "code",
      "source": [
        "marketingTeam = { 'Andika','Armanta','Miki','windy','zhining'}"
      ],
      "metadata": {
        "id": "YMZ7Aq1B4S0M"
      },
      "execution_count": 3,
      "outputs": []
    },
    {
      "cell_type": "code",
      "source": [],
      "metadata": {
        "id": "xWGBaL1V4cfa"
      },
      "execution_count": null,
      "outputs": []
    },
    {
      "cell_type": "code",
      "source": [
        "salesTeam"
      ],
      "metadata": {
        "colab": {
          "base_uri": "https://localhost:8080/"
        },
        "id": "QA9Rw94h4c-y",
        "outputId": "9fa77d23-cb2a-40e7-d0a4-c689e5d297fb"
      },
      "execution_count": null,
      "outputs": [
        {
          "output_type": "execute_result",
          "data": {
            "text/plain": [
              "{'Armanta', 'Manoj', 'Nicklaus', 'casselyn', 'windy'}"
            ]
          },
          "metadata": {},
          "execution_count": 79
        }
      ]
    },
    {
      "cell_type": "code",
      "source": [
        "marketingTeam"
      ],
      "metadata": {
        "colab": {
          "base_uri": "https://localhost:8080/"
        },
        "id": "Wff53oXP4h0A",
        "outputId": "dcc0661b-f4f5-4da3-d813-1fa15d35edec"
      },
      "execution_count": null,
      "outputs": [
        {
          "output_type": "execute_result",
          "data": {
            "text/plain": [
              "{'Andika', 'Armanta', 'Miki', 'windy', 'zhining'}"
            ]
          },
          "metadata": {},
          "execution_count": 80
        }
      ]
    },
    {
      "cell_type": "code",
      "source": [
        "# Who are the Employees working for sales & Marketing BOTH ?\n",
        "# answer: intersection , fetches common elements from 2 sets"
      ],
      "metadata": {
        "id": "G-PGlOEZ4io6"
      },
      "execution_count": null,
      "outputs": []
    },
    {
      "cell_type": "code",
      "source": [
        "salesTeam.intersection( marketingTeam )"
      ],
      "metadata": {
        "colab": {
          "base_uri": "https://localhost:8080/"
        },
        "id": "KhQ4JHmd4tT1",
        "outputId": "b4d93f90-1584-4615-e738-986eb8e87375"
      },
      "execution_count": null,
      "outputs": [
        {
          "output_type": "execute_result",
          "data": {
            "text/plain": [
              "{'Armanta', 'windy'}"
            ]
          },
          "metadata": {},
          "execution_count": 82
        }
      ]
    },
    {
      "cell_type": "code",
      "source": [
        "salesTeam & marketingTeam"
      ],
      "metadata": {
        "colab": {
          "base_uri": "https://localhost:8080/"
        },
        "id": "nEN6x0_l4vQD",
        "outputId": "edf71de4-5d26-498c-a2b6-e55cfdafe2b6"
      },
      "execution_count": null,
      "outputs": [
        {
          "output_type": "execute_result",
          "data": {
            "text/plain": [
              "{'Armanta', 'windy'}"
            ]
          },
          "metadata": {},
          "execution_count": 83
        }
      ]
    },
    {
      "cell_type": "code",
      "source": [],
      "metadata": {
        "id": "snWw-3Gm4xim"
      },
      "execution_count": null,
      "outputs": []
    },
    {
      "cell_type": "code",
      "source": [],
      "metadata": {
        "id": "YIKRyXHf5Cs8"
      },
      "execution_count": null,
      "outputs": []
    },
    {
      "cell_type": "code",
      "source": [
        "salesTeam"
      ],
      "metadata": {
        "colab": {
          "base_uri": "https://localhost:8080/"
        },
        "id": "Bt16EgYJ5Cvf",
        "outputId": "29582218-e211-4fee-b8ae-b865d298406d"
      },
      "execution_count": null,
      "outputs": [
        {
          "output_type": "execute_result",
          "data": {
            "text/plain": [
              "{'Armanta', 'Manoj', 'Nicklaus', 'casselyn', 'windy'}"
            ]
          },
          "metadata": {},
          "execution_count": 84
        }
      ]
    },
    {
      "cell_type": "code",
      "source": [
        "marketingTeam"
      ],
      "metadata": {
        "colab": {
          "base_uri": "https://localhost:8080/"
        },
        "id": "ipOn4LFG5Cxk",
        "outputId": "4a9865da-0d33-40de-f458-7d929f543166"
      },
      "execution_count": null,
      "outputs": [
        {
          "output_type": "execute_result",
          "data": {
            "text/plain": [
              "{'Andika', 'Armanta', 'Miki', 'windy', 'zhining'}"
            ]
          },
          "metadata": {},
          "execution_count": 85
        }
      ]
    },
    {
      "cell_type": "code",
      "source": [
        "# Find All Employees from BOTH Teams ?\n",
        "# answer: UNION : union combines elements of 2 set"
      ],
      "metadata": {
        "id": "vnGJR8Ah5Cza"
      },
      "execution_count": null,
      "outputs": []
    },
    {
      "cell_type": "code",
      "source": [
        "salesTeam.union( marketingTeam )"
      ],
      "metadata": {
        "colab": {
          "base_uri": "https://localhost:8080/"
        },
        "id": "qA3b1-I55C1E",
        "outputId": "b0f82b29-6cd5-4bd8-8c40-268b63ace5bf"
      },
      "execution_count": null,
      "outputs": [
        {
          "output_type": "execute_result",
          "data": {
            "text/plain": [
              "{'Andika',\n",
              " 'Armanta',\n",
              " 'Manoj',\n",
              " 'Miki',\n",
              " 'Nicklaus',\n",
              " 'casselyn',\n",
              " 'windy',\n",
              " 'zhining'}"
            ]
          },
          "metadata": {},
          "execution_count": 87
        }
      ]
    },
    {
      "cell_type": "code",
      "source": [
        "salesTeam | marketingTeam"
      ],
      "metadata": {
        "colab": {
          "base_uri": "https://localhost:8080/"
        },
        "id": "2isF_5V45C3L",
        "outputId": "bfdde164-1265-499d-906d-5440b793c6df"
      },
      "execution_count": null,
      "outputs": [
        {
          "output_type": "execute_result",
          "data": {
            "text/plain": [
              "{'Andika',\n",
              " 'Armanta',\n",
              " 'Manoj',\n",
              " 'Miki',\n",
              " 'Nicklaus',\n",
              " 'casselyn',\n",
              " 'windy',\n",
              " 'zhining'}"
            ]
          },
          "metadata": {},
          "execution_count": 88
        }
      ]
    },
    {
      "cell_type": "code",
      "source": [],
      "metadata": {
        "id": "LVUKUVxB5C5D"
      },
      "execution_count": null,
      "outputs": []
    },
    {
      "cell_type": "code",
      "source": [],
      "metadata": {
        "id": "Y0M6OVwy5C65"
      },
      "execution_count": null,
      "outputs": []
    },
    {
      "cell_type": "code",
      "source": [
        "salesTeam"
      ],
      "metadata": {
        "colab": {
          "base_uri": "https://localhost:8080/",
          "height": 0
        },
        "id": "MXV6K50o5C8y",
        "outputId": "465843e5-2ac7-4fe0-cd74-4e5dccfb9b82"
      },
      "execution_count": 4,
      "outputs": [
        {
          "output_type": "execute_result",
          "data": {
            "text/plain": [
              "{'Armanta', 'Manoj', 'Nicklaus', 'casselyn', 'windy'}"
            ]
          },
          "metadata": {},
          "execution_count": 4
        }
      ]
    },
    {
      "cell_type": "code",
      "source": [
        "marketingTeam"
      ],
      "metadata": {
        "colab": {
          "base_uri": "https://localhost:8080/"
        },
        "id": "PKvxo-pn5C-z",
        "outputId": "e9cf988b-480b-48fa-8a31-fe65d9f6e955"
      },
      "execution_count": null,
      "outputs": [
        {
          "output_type": "execute_result",
          "data": {
            "text/plain": [
              "{'Andika', 'Armanta', 'Miki', 'windy', 'zhining'}"
            ]
          },
          "metadata": {},
          "execution_count": 90
        }
      ]
    },
    {
      "cell_type": "code",
      "source": [
        "# you are asked to find employees of Sales Team that Work for Sales ONLY.\n",
        "# answer: difference: fetches Elements of Set A Only (excluding commons)"
      ],
      "metadata": {
        "id": "urivVNIY5DA3"
      },
      "execution_count": null,
      "outputs": []
    },
    {
      "cell_type": "code",
      "source": [
        "salesTeam - marketingTeam"
      ],
      "metadata": {
        "colab": {
          "base_uri": "https://localhost:8080/"
        },
        "id": "BGeqwIex56xq",
        "outputId": "d41657bb-caef-440f-d01c-e3ed247e3c21"
      },
      "execution_count": null,
      "outputs": [
        {
          "output_type": "execute_result",
          "data": {
            "text/plain": [
              "{'Manoj', 'Nicklaus', 'casselyn'}"
            ]
          },
          "metadata": {},
          "execution_count": 94
        }
      ]
    },
    {
      "cell_type": "code",
      "source": [
        "salesTeam.difference( marketingTeam )"
      ],
      "metadata": {
        "colab": {
          "base_uri": "https://localhost:8080/",
          "height": 0
        },
        "id": "Oz6ex2Ka5DCW",
        "outputId": "78f69bca-445e-4caa-9eac-452995afa5f0"
      },
      "execution_count": 5,
      "outputs": [
        {
          "output_type": "execute_result",
          "data": {
            "text/plain": [
              "{'Manoj', 'Nicklaus', 'casselyn'}"
            ]
          },
          "metadata": {},
          "execution_count": 5
        }
      ]
    },
    {
      "cell_type": "code",
      "source": [
        "marketingTeam - salesTeam"
      ],
      "metadata": {
        "id": "8YUXQ1eX57vO",
        "colab": {
          "base_uri": "https://localhost:8080/",
          "height": 0
        },
        "outputId": "8d897340-e31e-4b42-a438-00aafaa51983"
      },
      "execution_count": 6,
      "outputs": [
        {
          "output_type": "execute_result",
          "data": {
            "text/plain": [
              "{'Andika', 'Miki', 'zhining'}"
            ]
          },
          "metadata": {},
          "execution_count": 6
        }
      ]
    },
    {
      "cell_type": "code",
      "source": [
        "salesTeam"
      ],
      "metadata": {
        "colab": {
          "base_uri": "https://localhost:8080/"
        },
        "id": "kj9Fu4VE6Lw0",
        "outputId": "1cbd134a-505b-4842-f147-0b0bdcb9cf03"
      },
      "execution_count": null,
      "outputs": [
        {
          "output_type": "execute_result",
          "data": {
            "text/plain": [
              "{'Armanta', 'Manoj', 'Nicklaus', 'casselyn', 'windy'}"
            ]
          },
          "metadata": {},
          "execution_count": 95
        }
      ]
    },
    {
      "cell_type": "code",
      "source": [
        "marketingTeam"
      ],
      "metadata": {
        "colab": {
          "base_uri": "https://localhost:8080/"
        },
        "id": "g1q9Akow6MqC",
        "outputId": "22b49314-e349-4017-baf5-028869e81b27"
      },
      "execution_count": null,
      "outputs": [
        {
          "output_type": "execute_result",
          "data": {
            "text/plain": [
              "{'Andika', 'Armanta', 'Miki', 'windy', 'zhining'}"
            ]
          },
          "metadata": {},
          "execution_count": 96
        }
      ]
    },
    {
      "cell_type": "code",
      "source": [],
      "metadata": {
        "id": "Dz5G1Epl6OQ_"
      },
      "execution_count": null,
      "outputs": []
    },
    {
      "cell_type": "code",
      "source": [
        "# Task : you are asked to find Only Employee that are commited to their Team ONLY.\n",
        "# answer: Symmetric Difference  : All Elements from Both Sets Excluding Commons\n",
        "# Basically Unique Values from Each set (who do not operate in other teams)"
      ],
      "metadata": {
        "id": "jPsDa8Uh6PQX"
      },
      "execution_count": null,
      "outputs": []
    },
    {
      "cell_type": "code",
      "source": [
        "salesTeam.symmetric_difference( marketingTeam)"
      ],
      "metadata": {
        "colab": {
          "base_uri": "https://localhost:8080/"
        },
        "id": "e2ami-vy6SGl",
        "outputId": "0a819132-ffea-4238-be66-5f41e1742b3e"
      },
      "execution_count": null,
      "outputs": [
        {
          "output_type": "execute_result",
          "data": {
            "text/plain": [
              "{'Andika', 'Manoj', 'Miki', 'Nicklaus', 'casselyn', 'zhining'}"
            ]
          },
          "metadata": {},
          "execution_count": 100
        }
      ]
    },
    {
      "cell_type": "code",
      "source": [
        "salesTeam ^ marketingTeam"
      ],
      "metadata": {
        "colab": {
          "base_uri": "https://localhost:8080/"
        },
        "id": "5p_gzwPh6bD4",
        "outputId": "3997bda6-f5f7-4b57-8573-d45305f11cfe"
      },
      "execution_count": null,
      "outputs": [
        {
          "output_type": "execute_result",
          "data": {
            "text/plain": [
              "{'Andika', 'Manoj', 'Miki', 'Nicklaus', 'casselyn', 'zhining'}"
            ]
          },
          "metadata": {},
          "execution_count": 101
        }
      ]
    },
    {
      "cell_type": "code",
      "source": [
        "# union  : all elements from both sets including commons\n",
        "# symm.dif. : all elements from both sets excluding commons"
      ],
      "metadata": {
        "id": "GBQ10Aac6sbU"
      },
      "execution_count": null,
      "outputs": []
    },
    {
      "cell_type": "code",
      "source": [],
      "metadata": {
        "id": "kBcCa90q7D9E"
      },
      "execution_count": null,
      "outputs": []
    },
    {
      "cell_type": "code",
      "source": [],
      "metadata": {
        "id": "aJwJDtu97NEj"
      },
      "execution_count": null,
      "outputs": []
    },
    {
      "cell_type": "markdown",
      "source": [
        "# Dictionary\n",
        "---"
      ],
      "metadata": {
        "id": "oST7UAqr7Ny8"
      }
    },
    {
      "cell_type": "markdown",
      "source": [
        "# Dictionary is a Versatile Data Structure.\n",
        "---\n",
        "<pre>\n",
        "Each Element in Dictionary is a Key/value Pair.\n",
        "Syntax:\n",
        "\n",
        " { key : value , key : value , key : value }"
      ],
      "metadata": {
        "id": "hNw45MS-7UWu"
      }
    },
    {
      "cell_type": "code",
      "source": [
        "# here is an example\n",
        "\n",
        "{ 'en' : 'english' , 'hi' : 'hindi' , 'fr' : 'french' , 'es' : 'spanish' }"
      ],
      "metadata": {
        "colab": {
          "base_uri": "https://localhost:8080/"
        },
        "id": "EvMnSRjV7PA0",
        "outputId": "8032ed34-bf9a-4650-fe80-d35859151027"
      },
      "execution_count": null,
      "outputs": [
        {
          "output_type": "execute_result",
          "data": {
            "text/plain": [
              "{'en': 'english', 'hi': 'hindi', 'fr': 'french', 'es': 'spanish'}"
            ]
          },
          "metadata": {},
          "execution_count": 103
        }
      ]
    },
    {
      "cell_type": "code",
      "source": [],
      "metadata": {
        "id": "Yj1q0z6x7Pgg"
      },
      "execution_count": null,
      "outputs": []
    },
    {
      "cell_type": "code",
      "source": [
        "# word and synonyms"
      ],
      "metadata": {
        "id": "Lsa425sK8DjY"
      },
      "execution_count": null,
      "outputs": []
    },
    {
      "cell_type": "code",
      "source": [
        "synonyms = { 'water' : [ 'jal' , 'neer' , 'neelu' , 'pani' ,'h2o'] }\n",
        "\n",
        "# key: string\n",
        "# value: List containing String"
      ],
      "metadata": {
        "id": "K8HY-WJm8F-b"
      },
      "execution_count": null,
      "outputs": []
    },
    {
      "cell_type": "code",
      "source": [
        "synonyms"
      ],
      "metadata": {
        "colab": {
          "base_uri": "https://localhost:8080/"
        },
        "id": "gmtUAxro8TIM",
        "outputId": "44a332cf-3310-4e35-ebbb-fada1deeeb6d"
      },
      "execution_count": null,
      "outputs": [
        {
          "output_type": "execute_result",
          "data": {
            "text/plain": [
              "{'water': ['jal', 'neer', 'neelu', 'pani', 'h2o']}"
            ]
          },
          "metadata": {},
          "execution_count": 106
        }
      ]
    },
    {
      "cell_type": "code",
      "source": [],
      "metadata": {
        "id": "hXnVAIRl8deI"
      },
      "execution_count": null,
      "outputs": []
    },
    {
      "cell_type": "code",
      "source": [
        "# using Dictionary to represent Tabular Data"
      ],
      "metadata": {
        "id": "4mO9XkhU8jbr"
      },
      "execution_count": null,
      "outputs": []
    },
    {
      "cell_type": "markdown",
      "source": [
        "<pre>\n",
        "Id | Name | Course\n",
        "1    Andika    PHP\n",
        "2    Miki     .net\n",
        "3    nicklaus java"
      ],
      "metadata": {
        "id": "IkKDPpXs8sys"
      }
    },
    {
      "cell_type": "code",
      "source": [
        "students=[\n",
        "    {'id':1 , 'Name':'Andika','course':'PHP'},\n",
        "    {'id':2 , 'Name':'Miki','course':'.net'},\n",
        "    {'id':3 , 'Name':'Nicklaus','course':'java'}\n",
        "]"
      ],
      "metadata": {
        "id": "RmxEIPQ38zyJ"
      },
      "execution_count": null,
      "outputs": []
    },
    {
      "cell_type": "code",
      "source": [
        "students"
      ],
      "metadata": {
        "colab": {
          "base_uri": "https://localhost:8080/"
        },
        "id": "EePRaFas89_2",
        "outputId": "c44b6386-a895-46f3-ff16-fff04285d40d"
      },
      "execution_count": null,
      "outputs": [
        {
          "output_type": "execute_result",
          "data": {
            "text/plain": [
              "[{'id': 1, 'Name': 'Andika', 'course': 'PHP'},\n",
              " {'id': 2, 'Name': 'Miki', 'course': '.net'},\n",
              " {'id': 3, 'Name': 'Nicklaus', 'course': 'java'}]"
            ]
          },
          "metadata": {},
          "execution_count": 108
        }
      ]
    },
    {
      "cell_type": "code",
      "source": [
        "# above is LIST Containing 3 DICTIONARIES"
      ],
      "metadata": {
        "id": "PPpWSVYi8-Yn"
      },
      "execution_count": null,
      "outputs": []
    },
    {
      "cell_type": "code",
      "source": [],
      "metadata": {
        "id": "y2AOEjTi9ApH"
      },
      "execution_count": null,
      "outputs": []
    },
    {
      "cell_type": "markdown",
      "source": [
        "# Let us learn the various Operations of Dictionary\n",
        "---"
      ],
      "metadata": {
        "id": "a0Ty5Xa49nNQ"
      }
    },
    {
      "cell_type": "code",
      "source": [
        "# Creating an Empty Dictionary\n",
        "\n",
        "usa = {}"
      ],
      "metadata": {
        "id": "eqXa-zNR9qlb"
      },
      "execution_count": null,
      "outputs": []
    },
    {
      "cell_type": "markdown",
      "source": [
        "# Adding key/value Pair\n",
        "---\n",
        "<pre>\n",
        " Syntax:\n",
        "                dictName [ keyHere ] = Value Here"
      ],
      "metadata": {
        "id": "OKd8HHHA9wWQ"
      }
    },
    {
      "cell_type": "code",
      "source": [
        "usa[ 'Tx' ] = 'Texas'"
      ],
      "metadata": {
        "id": "6DJc7hlt9swn"
      },
      "execution_count": null,
      "outputs": []
    },
    {
      "cell_type": "code",
      "source": [
        "usa"
      ],
      "metadata": {
        "colab": {
          "base_uri": "https://localhost:8080/"
        },
        "id": "MfCPYPJe93Ci",
        "outputId": "ec77ca6b-7ad0-4cd5-829b-0496132251bd"
      },
      "execution_count": null,
      "outputs": [
        {
          "output_type": "execute_result",
          "data": {
            "text/plain": [
              "{'Tx': 'Texas'}"
            ]
          },
          "metadata": {},
          "execution_count": 113
        }
      ]
    },
    {
      "cell_type": "code",
      "source": [
        "usa['Ny'] ='NewYork'"
      ],
      "metadata": {
        "id": "EqThfVxv93Oy"
      },
      "execution_count": null,
      "outputs": []
    },
    {
      "cell_type": "code",
      "source": [
        "usa['Al'] = 'Alabama'"
      ],
      "metadata": {
        "id": "1sSDzgkD-U4y"
      },
      "execution_count": null,
      "outputs": []
    },
    {
      "cell_type": "code",
      "source": [
        "usa['Ar'] ='Arkansas'"
      ],
      "metadata": {
        "id": "yTRFEpjD-WBt"
      },
      "execution_count": null,
      "outputs": []
    },
    {
      "cell_type": "code",
      "source": [
        "usa"
      ],
      "metadata": {
        "colab": {
          "base_uri": "https://localhost:8080/"
        },
        "id": "K248iT9H-XUF",
        "outputId": "0980413d-de6d-4ff8-d81c-1cdd9937cc28"
      },
      "execution_count": null,
      "outputs": [
        {
          "output_type": "execute_result",
          "data": {
            "text/plain": [
              "{'Tx': 'Texas', 'Ny': 'NewYork', 'Al': 'Alabama', 'Ar': 'Arkansas'}"
            ]
          },
          "metadata": {},
          "execution_count": 117
        }
      ]
    },
    {
      "cell_type": "code",
      "source": [
        "# keys cannot be repeat in dictionary ⚡"
      ],
      "metadata": {
        "id": "xzUXyGFQ-Xs3"
      },
      "execution_count": null,
      "outputs": []
    },
    {
      "cell_type": "code",
      "source": [
        "# see what happens when u repeat key\n",
        "usa['Al'] ='Alaska'"
      ],
      "metadata": {
        "id": "AZxonBH6-gQn"
      },
      "execution_count": null,
      "outputs": []
    },
    {
      "cell_type": "code",
      "source": [
        "usa"
      ],
      "metadata": {
        "colab": {
          "base_uri": "https://localhost:8080/"
        },
        "id": "oPUVAAo6-jzV",
        "outputId": "8a6b3aae-6358-4742-e05d-f72639712c37"
      },
      "execution_count": null,
      "outputs": [
        {
          "output_type": "execute_result",
          "data": {
            "text/plain": [
              "{'Tx': 'Texas', 'Ny': 'NewYork', 'Al': 'Alaska', 'Ar': 'Arkansas'}"
            ]
          },
          "metadata": {},
          "execution_count": 120
        }
      ]
    },
    {
      "cell_type": "code",
      "source": [],
      "metadata": {
        "id": "jkhbd4-U-kFJ"
      },
      "execution_count": null,
      "outputs": []
    },
    {
      "cell_type": "code",
      "source": [],
      "metadata": {
        "id": "9AyI-Dir-zj6"
      },
      "execution_count": null,
      "outputs": []
    },
    {
      "cell_type": "markdown",
      "source": [
        "# Get Value using a  Key"
      ],
      "metadata": {
        "id": "mwdVVaqz-z98"
      }
    },
    {
      "cell_type": "code",
      "source": [
        "usa"
      ],
      "metadata": {
        "colab": {
          "base_uri": "https://localhost:8080/"
        },
        "id": "R372tAaf-09m",
        "outputId": "da943c71-d770-4904-fdd7-34193c619a86"
      },
      "execution_count": null,
      "outputs": [
        {
          "output_type": "execute_result",
          "data": {
            "text/plain": [
              "{'Tx': 'Texas', 'Ny': 'NewYork', 'Al': 'Alaska', 'Ar': 'Arkansas'}"
            ]
          },
          "metadata": {},
          "execution_count": 121
        }
      ]
    },
    {
      "cell_type": "code",
      "source": [
        "# method 1\n",
        "usa[ 'Tx' ]"
      ],
      "metadata": {
        "colab": {
          "base_uri": "https://localhost:8080/",
          "height": 35
        },
        "id": "vz7lTv1I-1e8",
        "outputId": "76d38896-9415-48cd-b135-2cc9456e546a"
      },
      "execution_count": null,
      "outputs": [
        {
          "output_type": "execute_result",
          "data": {
            "text/plain": [
              "'Texas'"
            ],
            "application/vnd.google.colaboratory.intrinsic+json": {
              "type": "string"
            }
          },
          "metadata": {},
          "execution_count": 122
        }
      ]
    },
    {
      "cell_type": "code",
      "source": [],
      "metadata": {
        "id": "Gnou_85h-3eT"
      },
      "execution_count": null,
      "outputs": []
    },
    {
      "cell_type": "code",
      "source": [
        "# Method 2\n",
        "\n",
        "usa.get('Tx')"
      ],
      "metadata": {
        "colab": {
          "base_uri": "https://localhost:8080/",
          "height": 35
        },
        "id": "Ta55SUok-3_p",
        "outputId": "42d5fe95-db6f-4b38-ab8d-df1295433c1c"
      },
      "execution_count": null,
      "outputs": [
        {
          "output_type": "execute_result",
          "data": {
            "text/plain": [
              "'Texas'"
            ],
            "application/vnd.google.colaboratory.intrinsic+json": {
              "type": "string"
            }
          },
          "metadata": {},
          "execution_count": 123
        }
      ]
    },
    {
      "cell_type": "code",
      "source": [],
      "metadata": {
        "id": "-YKvFBYL-5We"
      },
      "execution_count": null,
      "outputs": []
    },
    {
      "cell_type": "code",
      "source": [
        "# here is the difference  (xoxo  is a key that doesn't exists) , no error in get method"
      ],
      "metadata": {
        "id": "jL9L8Fos_GHy"
      },
      "execution_count": null,
      "outputs": []
    },
    {
      "cell_type": "code",
      "source": [
        "usa.get('xoxo')"
      ],
      "metadata": {
        "id": "qAgUPdqk_H02"
      },
      "execution_count": null,
      "outputs": []
    },
    {
      "cell_type": "code",
      "source": [
        "usa['xoxo']"
      ],
      "metadata": {
        "colab": {
          "base_uri": "https://localhost:8080/",
          "height": 176
        },
        "id": "P_3C_r7O_KFX",
        "outputId": "5702c0a0-769a-4797-ca6c-5edb187d7121"
      },
      "execution_count": null,
      "outputs": [
        {
          "output_type": "error",
          "ename": "KeyError",
          "evalue": "ignored",
          "traceback": [
            "\u001b[0;31m---------------------------------------------------------------------------\u001b[0m",
            "\u001b[0;31mKeyError\u001b[0m                                  Traceback (most recent call last)",
            "\u001b[0;32m<ipython-input-126-481bdf5a558d>\u001b[0m in \u001b[0;36m<cell line: 1>\u001b[0;34m()\u001b[0m\n\u001b[0;32m----> 1\u001b[0;31m \u001b[0musa\u001b[0m\u001b[0;34m[\u001b[0m\u001b[0;34m'xoxo'\u001b[0m\u001b[0;34m]\u001b[0m\u001b[0;34m\u001b[0m\u001b[0;34m\u001b[0m\u001b[0m\n\u001b[0m",
            "\u001b[0;31mKeyError\u001b[0m: 'xoxo'"
          ]
        }
      ]
    },
    {
      "cell_type": "code",
      "source": [],
      "metadata": {
        "id": "QNO_kKsq_LMW"
      },
      "execution_count": null,
      "outputs": []
    },
    {
      "cell_type": "code",
      "source": [
        "usa.get( 'key here' , 'default value here ')"
      ],
      "metadata": {
        "id": "43Q-6Y2V_Yfh"
      },
      "execution_count": null,
      "outputs": []
    },
    {
      "cell_type": "code",
      "source": [
        "usa.get('Tx' , 'Ouch! 😡 Key Not Found ')"
      ],
      "metadata": {
        "colab": {
          "base_uri": "https://localhost:8080/",
          "height": 35
        },
        "id": "UaDfyWQr_bTf",
        "outputId": "9fe16a79-5d38-48e0-f360-a435e630436a"
      },
      "execution_count": null,
      "outputs": [
        {
          "output_type": "execute_result",
          "data": {
            "text/plain": [
              "'Texas'"
            ],
            "application/vnd.google.colaboratory.intrinsic+json": {
              "type": "string"
            }
          },
          "metadata": {},
          "execution_count": 127
        }
      ]
    },
    {
      "cell_type": "code",
      "source": [
        "#Just because it recognises TX, hence next time Ouch is also taken into context"
      ],
      "metadata": {
        "id": "pBJvt_Qm_iRh"
      },
      "execution_count": null,
      "outputs": []
    },
    {
      "cell_type": "code",
      "source": [
        "usa.get('xoxo' , 'Ouch! 😡 Key Not Found ')"
      ],
      "metadata": {
        "colab": {
          "base_uri": "https://localhost:8080/",
          "height": 35
        },
        "id": "PwJX0gE6_i8T",
        "outputId": "ec38dbe0-f597-4058-b687-a40e4267167a"
      },
      "execution_count": null,
      "outputs": [
        {
          "output_type": "execute_result",
          "data": {
            "text/plain": [
              "'Ouch! 😡 Key Not Found '"
            ],
            "application/vnd.google.colaboratory.intrinsic+json": {
              "type": "string"
            }
          },
          "metadata": {},
          "execution_count": 128
        }
      ]
    },
    {
      "cell_type": "code",
      "source": [],
      "metadata": {
        "id": "8LpL_9pW_kBl"
      },
      "execution_count": null,
      "outputs": []
    },
    {
      "cell_type": "code",
      "source": [],
      "metadata": {
        "id": "jcIbqTdj_3LH"
      },
      "execution_count": null,
      "outputs": []
    },
    {
      "cell_type": "markdown",
      "source": [
        "### here are some useful dictionary methods"
      ],
      "metadata": {
        "id": "7HbQlM_4_3uf"
      }
    },
    {
      "cell_type": "code",
      "source": [
        "# .update() : used for adding multiple key/value pairs"
      ],
      "metadata": {
        "id": "MIKS9aUH_5Sc"
      },
      "execution_count": null,
      "outputs": []
    },
    {
      "cell_type": "code",
      "source": [
        "usa"
      ],
      "metadata": {
        "colab": {
          "base_uri": "https://localhost:8080/"
        },
        "id": "p_R81rlM_86Y",
        "outputId": "86b0b2fe-c71f-4919-d4f5-c4fb0431ebde"
      },
      "execution_count": null,
      "outputs": [
        {
          "output_type": "execute_result",
          "data": {
            "text/plain": [
              "{'Tx': 'Texas', 'Ny': 'NewYork', 'Al': 'Alaska', 'Ar': 'Arkansas'}"
            ]
          },
          "metadata": {},
          "execution_count": 130
        }
      ]
    },
    {
      "cell_type": "code",
      "source": [
        "usa.update( {'Il':'illinois' , 'Alr': 'Alabama' , 'KY':'Kentucky' })"
      ],
      "metadata": {
        "id": "r4v6Ai23_9Ta"
      },
      "execution_count": null,
      "outputs": []
    },
    {
      "cell_type": "code",
      "source": [
        "usa"
      ],
      "metadata": {
        "colab": {
          "base_uri": "https://localhost:8080/"
        },
        "id": "S4Xo270kAGH2",
        "outputId": "ca7c57b7-7a55-4667-cd81-e865653e8510"
      },
      "execution_count": null,
      "outputs": [
        {
          "output_type": "execute_result",
          "data": {
            "text/plain": [
              "{'Tx': 'Texas',\n",
              " 'Ny': 'NewYork',\n",
              " 'Al': 'Alaska',\n",
              " 'Ar': 'Arkansas',\n",
              " 'Il': 'illinois',\n",
              " 'Alr': 'Alabama',\n",
              " 'KY': 'Kentucky'}"
            ]
          },
          "metadata": {},
          "execution_count": 133
        }
      ]
    },
    {
      "cell_type": "code",
      "source": [],
      "metadata": {
        "id": "Skd9_ic_AGZH"
      },
      "execution_count": null,
      "outputs": []
    },
    {
      "cell_type": "code",
      "source": [
        "# .keys()  : this method returns only keys\n",
        "usa.keys()"
      ],
      "metadata": {
        "colab": {
          "base_uri": "https://localhost:8080/"
        },
        "id": "wNBtESgWAQBZ",
        "outputId": "a1ec74f4-bb86-4732-f2b7-204deda820fe"
      },
      "execution_count": null,
      "outputs": [
        {
          "output_type": "execute_result",
          "data": {
            "text/plain": [
              "dict_keys(['Tx', 'Ny', 'Al', 'Ar', 'Il', 'Alr', 'KY'])"
            ]
          },
          "metadata": {},
          "execution_count": 134
        }
      ]
    },
    {
      "cell_type": "code",
      "source": [],
      "metadata": {
        "id": "ETjcCFadATf5"
      },
      "execution_count": null,
      "outputs": []
    },
    {
      "cell_type": "code",
      "source": [
        "# .values(): this method returns only values\n",
        "usa.values()"
      ],
      "metadata": {
        "colab": {
          "base_uri": "https://localhost:8080/"
        },
        "id": "7JgU-ZSOAUOi",
        "outputId": "43f4ece9-464c-4e85-af4e-24611bb2fc06"
      },
      "execution_count": null,
      "outputs": [
        {
          "output_type": "execute_result",
          "data": {
            "text/plain": [
              "dict_values(['Texas', 'NewYork', 'Alaska', 'Arkansas', 'illinois', 'Alabama', 'Kentucky'])"
            ]
          },
          "metadata": {},
          "execution_count": 135
        }
      ]
    },
    {
      "cell_type": "code",
      "source": [],
      "metadata": {
        "id": "khlAM7izAWGJ"
      },
      "execution_count": null,
      "outputs": []
    },
    {
      "cell_type": "code",
      "source": [
        "# .items() (important): this metho returns Key/Value Pair in a Tuple"
      ],
      "metadata": {
        "id": "97Zi7W1mAWyT"
      },
      "execution_count": null,
      "outputs": []
    },
    {
      "cell_type": "code",
      "source": [
        "usa.items()"
      ],
      "metadata": {
        "colab": {
          "base_uri": "https://localhost:8080/"
        },
        "id": "ZLvSZrBpAb4L",
        "outputId": "5bea5e9e-54d2-4804-9f2a-976d14165ff0"
      },
      "execution_count": null,
      "outputs": [
        {
          "output_type": "execute_result",
          "data": {
            "text/plain": [
              "dict_items([('Tx', 'Texas'), ('Ny', 'NewYork'), ('Al', 'Alaska'), ('Ar', 'Arkansas'), ('Il', 'illinois'), ('Alr', 'Alabama'), ('KY', 'Kentucky')])"
            ]
          },
          "metadata": {},
          "execution_count": 137
        }
      ]
    },
    {
      "cell_type": "code",
      "source": [],
      "metadata": {
        "id": "JL9P0zwxAcZC"
      },
      "execution_count": null,
      "outputs": []
    },
    {
      "cell_type": "code",
      "source": [
        "dir(str) # dir will return all properties and functions of given OBject."
      ],
      "metadata": {
        "id": "bNMyx0eoAfgt"
      },
      "execution_count": null,
      "outputs": []
    },
    {
      "cell_type": "code",
      "source": [
        "# list within list\n",
        "\n",
        "scores=[\n",
        "    [10,20,30],\n",
        "    [40,50,60],\n",
        "    [70,80,90]\n",
        "]"
      ],
      "metadata": {
        "id": "z7TBHiE5AkdG"
      },
      "execution_count": null,
      "outputs": []
    },
    {
      "cell_type": "code",
      "source": [
        "scores"
      ],
      "metadata": {
        "colab": {
          "base_uri": "https://localhost:8080/"
        },
        "id": "QJSUkeI_BUs6",
        "outputId": "f0b07e96-cefb-459a-f728-a45500776a69"
      },
      "execution_count": null,
      "outputs": [
        {
          "output_type": "execute_result",
          "data": {
            "text/plain": [
              "[[10, 20, 30], [40, 50, 60], [70, 80, 90]]"
            ]
          },
          "metadata": {},
          "execution_count": 141
        }
      ]
    },
    {
      "cell_type": "code",
      "source": [
        "scores[0] # each index is representing sublist"
      ],
      "metadata": {
        "colab": {
          "base_uri": "https://localhost:8080/"
        },
        "id": "xUWmGXYJBU_k",
        "outputId": "d52c1849-51ed-4a8f-cf5e-9bcd3cc291f3"
      },
      "execution_count": null,
      "outputs": [
        {
          "output_type": "execute_result",
          "data": {
            "text/plain": [
              "[10, 20, 30]"
            ]
          },
          "metadata": {},
          "execution_count": 142
        }
      ]
    },
    {
      "cell_type": "code",
      "source": [
        "scores[0][0] # 2nd index representing index of sublist"
      ],
      "metadata": {
        "colab": {
          "base_uri": "https://localhost:8080/"
        },
        "id": "O8V9JQmeBZcR",
        "outputId": "95509e03-0a93-4c41-cf68-4274e4c203c2"
      },
      "execution_count": null,
      "outputs": [
        {
          "output_type": "execute_result",
          "data": {
            "text/plain": [
              "10"
            ]
          },
          "metadata": {},
          "execution_count": 143
        }
      ]
    },
    {
      "cell_type": "code",
      "source": [],
      "metadata": {
        "id": "qI5DMDpLBgP3"
      },
      "execution_count": null,
      "outputs": []
    }
  ]
}