{
  "nbformat": 4,
  "nbformat_minor": 0,
  "metadata": {
    "colab": {
      "provenance": []
    },
    "kernelspec": {
      "name": "python3",
      "display_name": "Python 3"
    },
    "language_info": {
      "name": "python"
    }
  },
  "cells": [
    {
      "cell_type": "markdown",
      "source": [
        "# ⚡ Art of Working with Strings\n",
        "---"
      ],
      "metadata": {
        "id": "3xbUAbqOpmJ2"
      }
    },
    {
      "cell_type": "code",
      "execution_count": null,
      "metadata": {
        "id": "BWm7HkS_pjid"
      },
      "outputs": [],
      "source": [
        "msg = \"croCoDILE\" # 🐊"
      ]
    },
    {
      "cell_type": "markdown",
      "source": [
        "# Indexing in String\n",
        "---\n",
        "<pre>\n",
        "[0] represents first character\n",
        "[-1] represents Last Character"
      ],
      "metadata": {
        "id": "6s0XvZ6VqZlp"
      }
    },
    {
      "cell_type": "code",
      "source": [
        "msg[0]"
      ],
      "metadata": {
        "colab": {
          "base_uri": "https://localhost:8080/",
          "height": 35
        },
        "id": "nJt63SwdqH0v",
        "outputId": "1486416a-dd45-4f6c-9f79-325a9d597b92"
      },
      "execution_count": null,
      "outputs": [
        {
          "output_type": "execute_result",
          "data": {
            "text/plain": [
              "'c'"
            ],
            "application/vnd.google.colaboratory.intrinsic+json": {
              "type": "string"
            }
          },
          "metadata": {},
          "execution_count": 3
        }
      ]
    },
    {
      "cell_type": "code",
      "source": [
        "msg[1]"
      ],
      "metadata": {
        "colab": {
          "base_uri": "https://localhost:8080/",
          "height": 35
        },
        "id": "xQ1Ch0MPqfQ1",
        "outputId": "b40ab2bf-ac19-4ca1-f72c-405fa68ea875"
      },
      "execution_count": null,
      "outputs": [
        {
          "output_type": "execute_result",
          "data": {
            "text/plain": [
              "'r'"
            ],
            "application/vnd.google.colaboratory.intrinsic+json": {
              "type": "string"
            }
          },
          "metadata": {},
          "execution_count": 4
        }
      ]
    },
    {
      "cell_type": "code",
      "source": [
        "msg[-1]"
      ],
      "metadata": {
        "colab": {
          "base_uri": "https://localhost:8080/",
          "height": 35
        },
        "id": "Vr6ZWnShqf_j",
        "outputId": "4543f22d-a56f-4bd6-e0fd-06c7f353e56d"
      },
      "execution_count": null,
      "outputs": [
        {
          "output_type": "execute_result",
          "data": {
            "text/plain": [
              "'E'"
            ],
            "application/vnd.google.colaboratory.intrinsic+json": {
              "type": "string"
            }
          },
          "metadata": {},
          "execution_count": 5
        }
      ]
    },
    {
      "cell_type": "code",
      "source": [
        "msg[-2]"
      ],
      "metadata": {
        "colab": {
          "base_uri": "https://localhost:8080/",
          "height": 35
        },
        "id": "0ffjOQgcqhK3",
        "outputId": "9f106f14-b60e-42fd-aa35-6a44964774a1"
      },
      "execution_count": null,
      "outputs": [
        {
          "output_type": "execute_result",
          "data": {
            "text/plain": [
              "'L'"
            ],
            "application/vnd.google.colaboratory.intrinsic+json": {
              "type": "string"
            }
          },
          "metadata": {},
          "execution_count": 6
        }
      ]
    },
    {
      "cell_type": "markdown",
      "source": [
        "# Here are some  Imporant String Function i belive u must KNOW 👍🏾\n",
        "---"
      ],
      "metadata": {
        "id": "UqWBHk2Fqr4J"
      }
    },
    {
      "cell_type": "code",
      "source": [
        "msg"
      ],
      "metadata": {
        "colab": {
          "base_uri": "https://localhost:8080/",
          "height": 35
        },
        "id": "f_ElbYCfqiAh",
        "outputId": "7e166b4b-5c0a-474e-9cd4-84e79130e656"
      },
      "execution_count": null,
      "outputs": [
        {
          "output_type": "execute_result",
          "data": {
            "text/plain": [
              "'croCoDILE'"
            ],
            "application/vnd.google.colaboratory.intrinsic+json": {
              "type": "string"
            }
          },
          "metadata": {},
          "execution_count": 7
        }
      ]
    },
    {
      "cell_type": "code",
      "source": [
        "# upper\n",
        "msg.upper()"
      ],
      "metadata": {
        "colab": {
          "base_uri": "https://localhost:8080/",
          "height": 35
        },
        "id": "htjFYcD_q1Q6",
        "outputId": "e2fee643-b2cd-4c79-8143-00a374b591cb"
      },
      "execution_count": null,
      "outputs": [
        {
          "output_type": "execute_result",
          "data": {
            "text/plain": [
              "'CROCODILE'"
            ],
            "application/vnd.google.colaboratory.intrinsic+json": {
              "type": "string"
            }
          },
          "metadata": {},
          "execution_count": 8
        }
      ]
    },
    {
      "cell_type": "code",
      "source": [
        "# lower\n",
        "msg.lower()"
      ],
      "metadata": {
        "colab": {
          "base_uri": "https://localhost:8080/",
          "height": 35
        },
        "id": "-CR_miS9q3VU",
        "outputId": "9b365ce6-77da-4e05-ed72-b972e56367ae"
      },
      "execution_count": null,
      "outputs": [
        {
          "output_type": "execute_result",
          "data": {
            "text/plain": [
              "'crocodile'"
            ],
            "application/vnd.google.colaboratory.intrinsic+json": {
              "type": "string"
            }
          },
          "metadata": {},
          "execution_count": 9
        }
      ]
    },
    {
      "cell_type": "code",
      "source": [
        "# capitalize()\n",
        "msg.capitalize()"
      ],
      "metadata": {
        "colab": {
          "base_uri": "https://localhost:8080/",
          "height": 35
        },
        "id": "Q8mmyz8qq47b",
        "outputId": "5eceb976-4f7e-45da-f485-3375937d1676"
      },
      "execution_count": null,
      "outputs": [
        {
          "output_type": "execute_result",
          "data": {
            "text/plain": [
              "'Crocodile'"
            ],
            "application/vnd.google.colaboratory.intrinsic+json": {
              "type": "string"
            }
          },
          "metadata": {},
          "execution_count": 10
        }
      ]
    },
    {
      "cell_type": "code",
      "source": [
        "# index\n",
        "msg.index('r')  # returns index of given character"
      ],
      "metadata": {
        "colab": {
          "base_uri": "https://localhost:8080/"
        },
        "id": "ZImmIMFyq7Fx",
        "outputId": "398d71e0-26b1-4d79-b65c-890146832a9a"
      },
      "execution_count": null,
      "outputs": [
        {
          "output_type": "execute_result",
          "data": {
            "text/plain": [
              "1"
            ]
          },
          "metadata": {},
          "execution_count": 11
        }
      ]
    },
    {
      "cell_type": "markdown",
      "source": [
        "![image.png](data:image/png;base64,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)"
      ],
      "metadata": {
        "id": "nW4qXZ34rSys"
      }
    },
    {
      "cell_type": "code",
      "source": [
        "msg=\"to be or not to be\""
      ],
      "metadata": {
        "id": "RvJTHirYq-wC"
      },
      "execution_count": null,
      "outputs": []
    },
    {
      "cell_type": "code",
      "source": [
        "msg.title()"
      ],
      "metadata": {
        "colab": {
          "base_uri": "https://localhost:8080/",
          "height": 35
        },
        "id": "TKuH0LugrUoJ",
        "outputId": "d779232c-5569-49bf-bc70-3d395155b870"
      },
      "execution_count": null,
      "outputs": [
        {
          "output_type": "execute_result",
          "data": {
            "text/plain": [
              "'To Be Or Not To Be'"
            ],
            "application/vnd.google.colaboratory.intrinsic+json": {
              "type": "string"
            }
          },
          "metadata": {},
          "execution_count": 13
        }
      ]
    },
    {
      "cell_type": "code",
      "source": [
        "msg.capitalize()"
      ],
      "metadata": {
        "colab": {
          "base_uri": "https://localhost:8080/",
          "height": 35
        },
        "id": "b_aRn4G8rVC5",
        "outputId": "0f918ebb-839d-4c41-9644-58ecba17d285"
      },
      "execution_count": null,
      "outputs": [
        {
          "output_type": "execute_result",
          "data": {
            "text/plain": [
              "'To be or not to be'"
            ],
            "application/vnd.google.colaboratory.intrinsic+json": {
              "type": "string"
            }
          },
          "metadata": {},
          "execution_count": 14
        }
      ]
    },
    {
      "cell_type": "code",
      "source": [],
      "metadata": {
        "id": "fQp1iAJfrVt0"
      },
      "execution_count": null,
      "outputs": []
    },
    {
      "cell_type": "code",
      "source": [
        "price=\"204\""
      ],
      "metadata": {
        "id": "WSNWcDLVrgB7"
      },
      "execution_count": null,
      "outputs": []
    },
    {
      "cell_type": "code",
      "source": [
        "price.isdigit() # this function is used to determine if variable contains number or not"
      ],
      "metadata": {
        "colab": {
          "base_uri": "https://localhost:8080/"
        },
        "id": "Vq_BMZ6iriIi",
        "outputId": "b5027731-05cc-40f2-d81b-713fb8f2be1d"
      },
      "execution_count": null,
      "outputs": [
        {
          "output_type": "execute_result",
          "data": {
            "text/plain": [
              "True"
            ]
          },
          "metadata": {},
          "execution_count": 16
        }
      ]
    },
    {
      "cell_type": "code",
      "source": [
        "price=\"20 4\""
      ],
      "metadata": {
        "id": "l6cQGQc3rov5"
      },
      "execution_count": null,
      "outputs": []
    },
    {
      "cell_type": "code",
      "source": [
        "price.isdigit()"
      ],
      "metadata": {
        "colab": {
          "base_uri": "https://localhost:8080/"
        },
        "id": "jOqNesSjrqyU",
        "outputId": "b675c632-186a-4ec5-d1e4-a80fca167f8f"
      },
      "execution_count": null,
      "outputs": [
        {
          "output_type": "execute_result",
          "data": {
            "text/plain": [
              "False"
            ]
          },
          "metadata": {},
          "execution_count": 18
        }
      ]
    },
    {
      "cell_type": "code",
      "source": [
        "msg"
      ],
      "metadata": {
        "colab": {
          "base_uri": "https://localhost:8080/",
          "height": 35
        },
        "id": "VSAKmtFQrr5B",
        "outputId": "7b2f1160-f090-4522-9820-370b1f5cf505"
      },
      "execution_count": null,
      "outputs": [
        {
          "output_type": "execute_result",
          "data": {
            "text/plain": [
              "'to be or not to be'"
            ],
            "application/vnd.google.colaboratory.intrinsic+json": {
              "type": "string"
            }
          },
          "metadata": {},
          "execution_count": 19
        }
      ]
    },
    {
      "cell_type": "code",
      "source": [
        "msg.startswith('t')"
      ],
      "metadata": {
        "colab": {
          "base_uri": "https://localhost:8080/"
        },
        "id": "LjB2sopwsPJ7",
        "outputId": "b5b34e2d-8ab9-496a-ca41-8b4fdd154e5a"
      },
      "execution_count": null,
      "outputs": [
        {
          "output_type": "execute_result",
          "data": {
            "text/plain": [
              "True"
            ]
          },
          "metadata": {},
          "execution_count": 20
        }
      ]
    },
    {
      "cell_type": "code",
      "source": [
        "msg.startswith('T')"
      ],
      "metadata": {
        "colab": {
          "base_uri": "https://localhost:8080/"
        },
        "id": "7wB2gOwUsQnG",
        "outputId": "357e2740-7485-40f1-d791-eff72248af49"
      },
      "execution_count": null,
      "outputs": [
        {
          "output_type": "execute_result",
          "data": {
            "text/plain": [
              "False"
            ]
          },
          "metadata": {},
          "execution_count": 21
        }
      ]
    },
    {
      "cell_type": "code",
      "source": [
        "price"
      ],
      "metadata": {
        "colab": {
          "base_uri": "https://localhost:8080/",
          "height": 35
        },
        "id": "wLMwUQHhsRhR",
        "outputId": "8810c3da-9c8c-4d0c-b194-16f3a01d72ee"
      },
      "execution_count": null,
      "outputs": [
        {
          "output_type": "execute_result",
          "data": {
            "text/plain": [
              "'20 4'"
            ],
            "application/vnd.google.colaboratory.intrinsic+json": {
              "type": "string"
            }
          },
          "metadata": {},
          "execution_count": 22
        }
      ]
    },
    {
      "cell_type": "code",
      "source": [
        "price.isdigit()"
      ],
      "metadata": {
        "colab": {
          "base_uri": "https://localhost:8080/"
        },
        "id": "eBMoCixqsdfo",
        "outputId": "01e1bc53-edc6-469c-f16e-05064b4f72b3"
      },
      "execution_count": null,
      "outputs": [
        {
          "output_type": "execute_result",
          "data": {
            "text/plain": [
              "False"
            ]
          },
          "metadata": {},
          "execution_count": 23
        }
      ]
    },
    {
      "cell_type": "code",
      "source": [
        "lottery=\"59\""
      ],
      "metadata": {
        "id": "FXIhMs3SsgSr"
      },
      "execution_count": null,
      "outputs": []
    },
    {
      "cell_type": "code",
      "source": [
        "lottery.isdigit()"
      ],
      "metadata": {
        "colab": {
          "base_uri": "https://localhost:8080/"
        },
        "id": "ozYmBHnIsir0",
        "outputId": "20100c08-8b89-4df1-aac6-fe95f428cba5"
      },
      "execution_count": null,
      "outputs": [
        {
          "output_type": "execute_result",
          "data": {
            "text/plain": [
              "True"
            ]
          },
          "metadata": {},
          "execution_count": 25
        }
      ]
    },
    {
      "cell_type": "code",
      "source": [
        "int(lottery)"
      ],
      "metadata": {
        "colab": {
          "base_uri": "https://localhost:8080/"
        },
        "id": "rMg6b-FHskBy",
        "outputId": "9b0e65e3-fa55-486c-d0d9-c37ed0ac041a"
      },
      "execution_count": null,
      "outputs": [
        {
          "output_type": "execute_result",
          "data": {
            "text/plain": [
              "59"
            ]
          },
          "metadata": {},
          "execution_count": 26
        }
      ]
    },
    {
      "cell_type": "code",
      "source": [
        "int(price)"
      ],
      "metadata": {
        "colab": {
          "base_uri": "https://localhost:8080/",
          "height": 176
        },
        "id": "ZaYFHcrzsm-L",
        "outputId": "513accbe-3f1b-49b7-af30-0622871d6cbc"
      },
      "execution_count": null,
      "outputs": [
        {
          "output_type": "error",
          "ename": "ValueError",
          "evalue": "ignored",
          "traceback": [
            "\u001b[0;31m---------------------------------------------------------------------------\u001b[0m",
            "\u001b[0;31mValueError\u001b[0m                                Traceback (most recent call last)",
            "\u001b[0;32m<ipython-input-27-42ba99a07096>\u001b[0m in \u001b[0;36m<cell line: 1>\u001b[0;34m()\u001b[0m\n\u001b[0;32m----> 1\u001b[0;31m \u001b[0mint\u001b[0m\u001b[0;34m(\u001b[0m\u001b[0mprice\u001b[0m\u001b[0;34m)\u001b[0m\u001b[0;34m\u001b[0m\u001b[0;34m\u001b[0m\u001b[0m\n\u001b[0m",
            "\u001b[0;31mValueError\u001b[0m: invalid literal for int() with base 10: '20 4'"
          ]
        }
      ]
    },
    {
      "cell_type": "code",
      "source": [],
      "metadata": {
        "id": "D7GNTbtAsoXt"
      },
      "execution_count": null,
      "outputs": []
    },
    {
      "cell_type": "markdown",
      "source": [
        "![image.png](data:image/png;base64,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)"
      ],
      "metadata": {
        "id": "U4yjsm2tsyx6"
      }
    },
    {
      "cell_type": "code",
      "source": [
        "msg"
      ],
      "metadata": {
        "colab": {
          "base_uri": "https://localhost:8080/",
          "height": 35
        },
        "id": "wOCVAT-8sy9u",
        "outputId": "32ad1782-3947-4cd0-abb6-b7d7e56f0712"
      },
      "execution_count": null,
      "outputs": [
        {
          "output_type": "execute_result",
          "data": {
            "text/plain": [
              "'to be or not to be'"
            ],
            "application/vnd.google.colaboratory.intrinsic+json": {
              "type": "string"
            }
          },
          "metadata": {},
          "execution_count": 28
        }
      ]
    },
    {
      "cell_type": "code",
      "source": [
        "msg.startswith('t')"
      ],
      "metadata": {
        "colab": {
          "base_uri": "https://localhost:8080/"
        },
        "id": "HOFn2SJRszxI",
        "outputId": "e69c115c-49c2-4862-bc5b-313ef0e4e804"
      },
      "execution_count": null,
      "outputs": [
        {
          "output_type": "execute_result",
          "data": {
            "text/plain": [
              "True"
            ]
          },
          "metadata": {},
          "execution_count": 29
        }
      ]
    },
    {
      "cell_type": "code",
      "source": [
        "msg.startswith('x')"
      ],
      "metadata": {
        "colab": {
          "base_uri": "https://localhost:8080/"
        },
        "id": "L2IszpChs299",
        "outputId": "2c03fe9e-2ce4-4f10-fcca-22e5c317e1bf"
      },
      "execution_count": null,
      "outputs": [
        {
          "output_type": "execute_result",
          "data": {
            "text/plain": [
              "False"
            ]
          },
          "metadata": {},
          "execution_count": 30
        }
      ]
    },
    {
      "cell_type": "code",
      "source": [],
      "metadata": {
        "id": "fi2pQeShs8P0"
      },
      "execution_count": null,
      "outputs": []
    },
    {
      "cell_type": "markdown",
      "source": [
        "# 😺 Important | Converting String to LIST\n",
        "---"
      ],
      "metadata": {
        "id": "HN2ewLFDtBxQ"
      }
    },
    {
      "cell_type": "code",
      "source": [
        "msg=\"One Day i'll make Onion🧅 CRY\""
      ],
      "metadata": {
        "id": "GxOGr2p3tN0N"
      },
      "execution_count": null,
      "outputs": []
    },
    {
      "cell_type": "code",
      "source": [
        "# objective: to separate each WORD"
      ],
      "metadata": {
        "id": "baHuPzvEtOry"
      },
      "execution_count": null,
      "outputs": []
    },
    {
      "cell_type": "code",
      "source": [
        "msg.split()"
      ],
      "metadata": {
        "colab": {
          "base_uri": "https://localhost:8080/"
        },
        "id": "X_2S-VY8tOt2",
        "outputId": "0964dc8c-dcfc-4d8a-ce40-c3b4a19055c0"
      },
      "execution_count": null,
      "outputs": [
        {
          "output_type": "execute_result",
          "data": {
            "text/plain": [
              "['One', 'Day', \"i'll\", 'make', 'Onion🧅', 'CRY']"
            ]
          },
          "metadata": {},
          "execution_count": 33
        }
      ]
    },
    {
      "cell_type": "code",
      "source": [],
      "metadata": {
        "id": "0Fh9Z2bRtqxj"
      },
      "execution_count": null,
      "outputs": []
    },
    {
      "cell_type": "code",
      "source": [
        "heros =\"ironman,hulk,thanos,antman,spiderman,deadpool\""
      ],
      "metadata": {
        "id": "ZLSQsPXHt6p0"
      },
      "execution_count": null,
      "outputs": []
    },
    {
      "cell_type": "code",
      "source": [
        "heroList = heros.split(',')"
      ],
      "metadata": {
        "id": "up6HQ9niuBaY"
      },
      "execution_count": null,
      "outputs": []
    },
    {
      "cell_type": "code",
      "source": [
        "heroList"
      ],
      "metadata": {
        "colab": {
          "base_uri": "https://localhost:8080/"
        },
        "id": "O87Xc853uImC",
        "outputId": "5fae6d00-8cb9-4b1b-bcec-2cf8be0d0b47"
      },
      "execution_count": null,
      "outputs": [
        {
          "output_type": "execute_result",
          "data": {
            "text/plain": [
              "['ironman', 'hulk', 'thanos', 'antman', 'spiderman', 'deadpool']"
            ]
          },
          "metadata": {},
          "execution_count": 37
        }
      ]
    },
    {
      "cell_type": "code",
      "source": [
        "# here are some fancy stunts 🕺🏾"
      ],
      "metadata": {
        "id": "iNFlGaqfuNf6"
      },
      "execution_count": null,
      "outputs": []
    },
    {
      "cell_type": "code",
      "source": [
        "del heroList[2]"
      ],
      "metadata": {
        "id": "VFzvFCsTulV0"
      },
      "execution_count": null,
      "outputs": []
    },
    {
      "cell_type": "code",
      "source": [
        "heroList"
      ],
      "metadata": {
        "colab": {
          "base_uri": "https://localhost:8080/"
        },
        "id": "QB8Ux6_LuuQa",
        "outputId": "8aff05b3-13e8-4c35-cdb7-f2465b6aa10d"
      },
      "execution_count": null,
      "outputs": [
        {
          "output_type": "execute_result",
          "data": {
            "text/plain": [
              "['ironman', 'hulk', 'antman', 'spiderman', 'deadpool']"
            ]
          },
          "metadata": {},
          "execution_count": 40
        }
      ]
    },
    {
      "cell_type": "code",
      "source": [
        "# let us ask avengers to assemble"
      ],
      "metadata": {
        "id": "CqMT5lsNuu0m"
      },
      "execution_count": null,
      "outputs": []
    },
    {
      "cell_type": "code",
      "source": [
        "heroList.sort()"
      ],
      "metadata": {
        "id": "utAemr3Luzyj"
      },
      "execution_count": null,
      "outputs": []
    },
    {
      "cell_type": "code",
      "source": [
        "heroList"
      ],
      "metadata": {
        "colab": {
          "base_uri": "https://localhost:8080/"
        },
        "id": "ZlHSarj9u0h5",
        "outputId": "049bcc54-bc98-4060-ec13-15b7f89773fb"
      },
      "execution_count": null,
      "outputs": [
        {
          "output_type": "execute_result",
          "data": {
            "text/plain": [
              "['antman', 'deadpool', 'hulk', 'ironman', 'spiderman']"
            ]
          },
          "metadata": {},
          "execution_count": 43
        }
      ]
    },
    {
      "cell_type": "markdown",
      "source": [
        "# Converting List to String using .join()\n",
        "---"
      ],
      "metadata": {
        "id": "MKTPI51du8eU"
      }
    },
    {
      "cell_type": "code",
      "source": [
        "' '.join( heroList )"
      ],
      "metadata": {
        "colab": {
          "base_uri": "https://localhost:8080/",
          "height": 35
        },
        "id": "HmAYGqWxu8SC",
        "outputId": "baddd7c0-b823-4bcd-fb5c-a28bf8c440fa"
      },
      "execution_count": null,
      "outputs": [
        {
          "output_type": "execute_result",
          "data": {
            "text/plain": [
              "'antman deadpool hulk ironman spiderman'"
            ],
            "application/vnd.google.colaboratory.intrinsic+json": {
              "type": "string"
            }
          },
          "metadata": {},
          "execution_count": 44
        }
      ]
    },
    {
      "cell_type": "code",
      "source": [
        "ans='🐭'.join( heroList )"
      ],
      "metadata": {
        "id": "J5v98-Q8u1Jr"
      },
      "execution_count": null,
      "outputs": []
    },
    {
      "cell_type": "code",
      "source": [
        "ans"
      ],
      "metadata": {
        "colab": {
          "base_uri": "https://localhost:8080/",
          "height": 35
        },
        "id": "c0TcIrifvNkE",
        "outputId": "5f46e2a5-6c77-47b2-fcab-01fe06c5520d"
      },
      "execution_count": null,
      "outputs": [
        {
          "output_type": "execute_result",
          "data": {
            "text/plain": [
              "'antman🐭deadpool🐭hulk🐭ironman🐭spiderman'"
            ],
            "application/vnd.google.colaboratory.intrinsic+json": {
              "type": "string"
            }
          },
          "metadata": {},
          "execution_count": 47
        }
      ]
    },
    {
      "cell_type": "code",
      "source": [
        "# string to list then list to string"
      ],
      "metadata": {
        "id": "grUc6q_evXr0"
      },
      "execution_count": null,
      "outputs": []
    },
    {
      "cell_type": "code",
      "source": [],
      "metadata": {
        "id": "g7pzDNgrvcSY"
      },
      "execution_count": null,
      "outputs": []
    },
    {
      "cell_type": "code",
      "source": [],
      "metadata": {
        "id": "y8qRz8fBwLZo"
      },
      "execution_count": null,
      "outputs": []
    },
    {
      "cell_type": "markdown",
      "source": [
        "# ✂️ String Slicing (Important)\n",
        "---"
      ],
      "metadata": {
        "id": "ObowIxHawMD0"
      }
    },
    {
      "cell_type": "code",
      "source": [
        "msg=\"ABCDEFGH\""
      ],
      "metadata": {
        "id": "XWKJJYeNwLbw"
      },
      "execution_count": 1,
      "outputs": []
    },
    {
      "cell_type": "code",
      "source": [
        "enumerate(msg)"
      ],
      "metadata": {
        "id": "LKZOa8n6Frhy",
        "outputId": "b4324867-06be-408d-f8dd-fee84837f06b",
        "colab": {
          "base_uri": "https://localhost:8080/"
        }
      },
      "execution_count": 2,
      "outputs": [
        {
          "output_type": "execute_result",
          "data": {
            "text/plain": [
              "<enumerate at 0x7e0b2b161f80>"
            ]
          },
          "metadata": {},
          "execution_count": 2
        }
      ]
    },
    {
      "cell_type": "code",
      "source": [
        "# here i  am showing u indexes of each character\n",
        "\n",
        "for c in enumerate(msg):\n",
        "  print(c[1],'[',c[0],']',end=' ⚡')"
      ],
      "metadata": {
        "colab": {
          "base_uri": "https://localhost:8080/"
        },
        "id": "hkCUbMnpwLf8",
        "outputId": "61ce9bfb-51c2-4619-d16e-51795dd77a64"
      },
      "execution_count": null,
      "outputs": [
        {
          "output_type": "stream",
          "name": "stdout",
          "text": [
            "A [ 0 ] ⚡B [ 1 ] ⚡C [ 2 ] ⚡D [ 3 ] ⚡E [ 4 ] ⚡F [ 5 ] ⚡G [ 6 ] ⚡H [ 7 ] ⚡"
          ]
        }
      ]
    },
    {
      "cell_type": "code",
      "source": [
        "# Syntax: variable[ Start : END : STEP ]\n",
        "\n",
        "# this includes index from start Index till END - 1 Index and pics  every Step position Character\n",
        "\n",
        "msg[  1 : 6  : 2 ]\n",
        "\n",
        "# start from 1 Index till 5th Index i.e (6-1) and Pick every 2nd Position Character"
      ],
      "metadata": {
        "colab": {
          "base_uri": "https://localhost:8080/",
          "height": 35
        },
        "id": "nN3086iJzHnc",
        "outputId": "7e133ed5-7e92-47a5-e129-81a20401948a"
      },
      "execution_count": null,
      "outputs": [
        {
          "output_type": "execute_result",
          "data": {
            "text/plain": [
              "'BDF'"
            ],
            "application/vnd.google.colaboratory.intrinsic+json": {
              "type": "string"
            }
          },
          "metadata": {},
          "execution_count": 60
        }
      ]
    },
    {
      "cell_type": "code",
      "source": [],
      "metadata": {
        "id": "cAuOKGNszHtf"
      },
      "execution_count": null,
      "outputs": []
    },
    {
      "cell_type": "code",
      "source": [
        "# Syntax: Variable[ Start : ]     # this includes Index from Start Index till Last (i.e length-1 index)\n",
        "\n",
        "msg[ 4 : ]        # from 4th index till last (length-1) index"
      ],
      "metadata": {
        "colab": {
          "base_uri": "https://localhost:8080/",
          "height": 35
        },
        "id": "NbHBiknLywYf",
        "outputId": "16294afc-350d-4625-e1e9-6117ae275614"
      },
      "execution_count": null,
      "outputs": [
        {
          "output_type": "execute_result",
          "data": {
            "text/plain": [
              "'EFGH'"
            ],
            "application/vnd.google.colaboratory.intrinsic+json": {
              "type": "string"
            }
          },
          "metadata": {},
          "execution_count": 59
        }
      ]
    },
    {
      "cell_type": "code",
      "source": [],
      "metadata": {
        "id": "s2HxjThNywiJ"
      },
      "execution_count": null,
      "outputs": []
    },
    {
      "cell_type": "code",
      "source": [
        "# Syntax:  Variable[ Start : END ] # this includes index from Start Index to END-1 Index\n",
        "\n",
        "msg[ 1 : 5 ]     # this includes index from 1 till (5-1) 4 Index"
      ],
      "metadata": {
        "colab": {
          "base_uri": "https://localhost:8080/",
          "height": 35
        },
        "id": "f765s9Ybx43W",
        "outputId": "a10a3d42-8e5b-488f-9a32-341849007113"
      },
      "execution_count": null,
      "outputs": [
        {
          "output_type": "execute_result",
          "data": {
            "text/plain": [
              "'BCDE'"
            ],
            "application/vnd.google.colaboratory.intrinsic+json": {
              "type": "string"
            }
          },
          "metadata": {},
          "execution_count": 57
        }
      ]
    },
    {
      "cell_type": "code",
      "source": [],
      "metadata": {
        "id": "MjSemirox49b"
      },
      "execution_count": null,
      "outputs": []
    },
    {
      "cell_type": "code",
      "source": [
        "# Syntax :     Variable [    :   End ]   #  this includes Index from 0 (default) to END - 1 Index\n",
        "\n",
        "msg[ : 5 ]        # from 0 to (5-1) i.e 4 Index"
      ],
      "metadata": {
        "colab": {
          "base_uri": "https://localhost:8080/",
          "height": 35
        },
        "id": "7IJmKyTxxRDv",
        "outputId": "75e88208-1f26-4988-bba3-75e50d851ce4"
      },
      "execution_count": null,
      "outputs": [
        {
          "output_type": "execute_result",
          "data": {
            "text/plain": [
              "'ABCDE'"
            ],
            "application/vnd.google.colaboratory.intrinsic+json": {
              "type": "string"
            }
          },
          "metadata": {},
          "execution_count": 55
        }
      ]
    },
    {
      "cell_type": "code",
      "source": [],
      "metadata": {
        "id": "ZsKb3fzMxRQT"
      },
      "execution_count": null,
      "outputs": []
    },
    {
      "cell_type": "code",
      "source": [
        "# Syntax:          Variable[ : ]    # this includes All Indexes\n",
        "\n",
        "msg[ : ]"
      ],
      "metadata": {
        "colab": {
          "base_uri": "https://localhost:8080/",
          "height": 35
        },
        "id": "APjB0Yj6wLh8",
        "outputId": "f7d44176-30aa-4f5e-8870-f5be5e3cbecb"
      },
      "execution_count": null,
      "outputs": [
        {
          "output_type": "execute_result",
          "data": {
            "text/plain": [
              "'ABCDEFGH'"
            ],
            "application/vnd.google.colaboratory.intrinsic+json": {
              "type": "string"
            }
          },
          "metadata": {},
          "execution_count": 54
        }
      ]
    },
    {
      "cell_type": "code",
      "source": [],
      "metadata": {
        "id": "Mgrj7ErlwLj4"
      },
      "execution_count": null,
      "outputs": []
    },
    {
      "cell_type": "code",
      "source": [
        "msg=\"crocodile\""
      ],
      "metadata": {
        "id": "ZL5uimEC0KFh"
      },
      "execution_count": null,
      "outputs": []
    },
    {
      "cell_type": "code",
      "source": [
        "# here i  am showing u indexes of each character\n",
        "\n",
        "for c in enumerate(msg):\n",
        "  print(c[1],'[',c[0],']',end=' ⚡')"
      ],
      "metadata": {
        "colab": {
          "base_uri": "https://localhost:8080/"
        },
        "id": "e9c4QhNxwLl6",
        "outputId": "0b624657-a186-4a75-8016-7ff6adfc9226"
      },
      "execution_count": null,
      "outputs": [
        {
          "output_type": "stream",
          "name": "stdout",
          "text": [
            "c [ 0 ] ⚡r [ 1 ] ⚡o [ 2 ] ⚡c [ 3 ] ⚡o [ 4 ] ⚡d [ 5 ] ⚡i [ 6 ] ⚡l [ 7 ] ⚡e [ 8 ] ⚡"
          ]
        }
      ]
    },
    {
      "cell_type": "code",
      "source": [],
      "metadata": {
        "id": "oJAlfmwlwLn9"
      },
      "execution_count": null,
      "outputs": []
    },
    {
      "cell_type": "code",
      "source": [
        "msg[ 1 : 8 : 3 ]"
      ],
      "metadata": {
        "colab": {
          "base_uri": "https://localhost:8080/",
          "height": 35
        },
        "id": "nC8bCEpC0L3k",
        "outputId": "0356a65e-e978-4e5d-c0b0-c998f8925a42"
      },
      "execution_count": null,
      "outputs": [
        {
          "output_type": "execute_result",
          "data": {
            "text/plain": [
              "'rol'"
            ],
            "application/vnd.google.colaboratory.intrinsic+json": {
              "type": "string"
            }
          },
          "metadata": {},
          "execution_count": 63
        }
      ]
    },
    {
      "cell_type": "code",
      "source": [],
      "metadata": {
        "id": "gxoYYL7E0NSy"
      },
      "execution_count": null,
      "outputs": []
    },
    {
      "cell_type": "code",
      "source": [],
      "metadata": {
        "id": "EViEnc-A1NFl"
      },
      "execution_count": null,
      "outputs": []
    },
    {
      "cell_type": "markdown",
      "source": [
        "# 🐲 Problem Solving using Python Data Structures"
      ],
      "metadata": {
        "id": "44yEKMTm1NWX"
      }
    },
    {
      "cell_type": "code",
      "source": [
        "marks =\"english 86 science 54 maths 78\""
      ],
      "metadata": {
        "id": "sak8w4yq1S9o"
      },
      "execution_count": null,
      "outputs": []
    },
    {
      "cell_type": "code",
      "source": [
        "# objective: you are asked to find\n",
        "# total marks\n",
        "# average marks"
      ],
      "metadata": {
        "id": "BV2TGQH11gL_"
      },
      "execution_count": null,
      "outputs": []
    },
    {
      "cell_type": "code",
      "source": [
        "# step 1 : first we will separte each word using .split() function\n",
        "\n",
        "mlist = marks.split()\n",
        "mlist"
      ],
      "metadata": {
        "colab": {
          "base_uri": "https://localhost:8080/"
        },
        "id": "6Qr_NhKB1h9F",
        "outputId": "5f1200eb-ea7b-4235-bd50-6189bd7b2cfc"
      },
      "execution_count": null,
      "outputs": [
        {
          "output_type": "execute_result",
          "data": {
            "text/plain": [
              "['english', '86', 'science', '54', 'maths', '78']"
            ]
          },
          "metadata": {},
          "execution_count": 69
        }
      ]
    },
    {
      "cell_type": "code",
      "source": [],
      "metadata": {
        "id": "XiKCnRlK1w_Z"
      },
      "execution_count": null,
      "outputs": []
    },
    {
      "cell_type": "code",
      "source": [
        "# step2 : we wil write a for loop to access each element 1 by 1 into a variable say word\n",
        "\n",
        "for word in mlist :\n",
        "\n",
        "  print(  word )"
      ],
      "metadata": {
        "colab": {
          "base_uri": "https://localhost:8080/"
        },
        "id": "xGuo4Y5q2BGa",
        "outputId": "d75fe507-967b-486e-acd5-67e6fc817ea5"
      },
      "execution_count": null,
      "outputs": [
        {
          "output_type": "stream",
          "name": "stdout",
          "text": [
            "english\n",
            "86\n",
            "science\n",
            "54\n",
            "maths\n",
            "78\n"
          ]
        }
      ]
    },
    {
      "cell_type": "markdown",
      "source": [
        "# 🤔 Which function help us determine if a variable contains a Number ?\n",
        "---"
      ],
      "metadata": {
        "id": "O1a6XneI2evE"
      }
    },
    {
      "cell_type": "code",
      "source": [
        "# step2 : we wil write a for loop to access each element 1 by 1 into a variable say word\n",
        "\n",
        "for word in mlist :\n",
        "\n",
        "  print(  word  ,         word.isdigit() )"
      ],
      "metadata": {
        "colab": {
          "base_uri": "https://localhost:8080/"
        },
        "id": "IYtPIiMu2d8Y",
        "outputId": "aa4bbe48-f83c-48d6-c570-c5e471dc62fc"
      },
      "execution_count": null,
      "outputs": [
        {
          "output_type": "stream",
          "name": "stdout",
          "text": [
            "english False\n",
            "86 True\n",
            "science False\n",
            "54 True\n",
            "maths False\n",
            "78 True\n"
          ]
        }
      ]
    },
    {
      "cell_type": "code",
      "source": [],
      "metadata": {
        "id": "4uIhkVn02kNu"
      },
      "execution_count": null,
      "outputs": []
    },
    {
      "cell_type": "code",
      "source": [
        "# Step 3 : now we will add If Condition to Filter Number\n",
        "\n",
        "for word in mlist :\n",
        "\n",
        "  if word.isdigit() :\n",
        "\n",
        "    print(  word )"
      ],
      "metadata": {
        "colab": {
          "base_uri": "https://localhost:8080/"
        },
        "id": "kAcKtlG_290j",
        "outputId": "2ea9a4fe-5c1f-4ac6-ce1d-2dada7389460"
      },
      "execution_count": null,
      "outputs": [
        {
          "output_type": "stream",
          "name": "stdout",
          "text": [
            "86\n",
            "54\n",
            "78\n"
          ]
        }
      ]
    },
    {
      "cell_type": "code",
      "source": [],
      "metadata": {
        "id": "xTrjn8PJ3DAa"
      },
      "execution_count": null,
      "outputs": []
    },
    {
      "cell_type": "code",
      "source": [
        "# Step 4 : Now we will Create an EMPTY List later using .append() we will Add Numbers into newly Created List\n",
        "\n",
        "scores = []       # here is empty list\n",
        "\n",
        "for word in mlist :\n",
        "\n",
        "  if word.isdigit() :\n",
        "\n",
        "    scores.append( int( word ) )\n",
        "\n",
        "print( scores )"
      ],
      "metadata": {
        "colab": {
          "base_uri": "https://localhost:8080/"
        },
        "id": "WCOf6SV03Up-",
        "outputId": "936da022-25d4-4c2a-cdbe-7d0fd47c5830"
      },
      "execution_count": null,
      "outputs": [
        {
          "output_type": "stream",
          "name": "stdout",
          "text": [
            "[86, 54, 78]\n"
          ]
        }
      ]
    },
    {
      "cell_type": "code",
      "source": [
        "print('Total Score '  , sum( scores ))"
      ],
      "metadata": {
        "colab": {
          "base_uri": "https://localhost:8080/"
        },
        "id": "t2U1lJdp3dxD",
        "outputId": "d0f2b454-a4f8-4cf2-8fed-fc85f4292875"
      },
      "execution_count": null,
      "outputs": [
        {
          "output_type": "stream",
          "name": "stdout",
          "text": [
            "Total Score  218\n"
          ]
        }
      ]
    },
    {
      "cell_type": "code",
      "source": [
        "print('Average')\n",
        "\n",
        "print( sum(scores) / len(scores) )"
      ],
      "metadata": {
        "colab": {
          "base_uri": "https://localhost:8080/"
        },
        "id": "QvWltZVT5Roj",
        "outputId": "8ad7c8cb-c8bf-43bd-eb8b-e3474dd7520b"
      },
      "execution_count": null,
      "outputs": [
        {
          "output_type": "stream",
          "name": "stdout",
          "text": [
            "Average\n",
            "72.66666666666667\n"
          ]
        }
      ]
    },
    {
      "cell_type": "code",
      "source": [
        "mlist"
      ],
      "metadata": {
        "colab": {
          "base_uri": "https://localhost:8080/"
        },
        "id": "jRgBqIh26LGD",
        "outputId": "f184549d-279e-4b99-c153-901e2a5b46ff"
      },
      "execution_count": null,
      "outputs": [
        {
          "output_type": "execute_result",
          "data": {
            "text/plain": [
              "['english', '86', 'science', '54', 'maths', '78']"
            ]
          },
          "metadata": {},
          "execution_count": 82
        }
      ]
    },
    {
      "cell_type": "code",
      "source": [
        "for word in mlist :\n",
        "\n",
        "  print( word )"
      ],
      "metadata": {
        "colab": {
          "base_uri": "https://localhost:8080/"
        },
        "id": "GF6pzoIU6L1m",
        "outputId": "91e774d0-4ed0-4503-b561-6df39053a450"
      },
      "execution_count": null,
      "outputs": [
        {
          "output_type": "stream",
          "name": "stdout",
          "text": [
            "english\n",
            "86\n",
            "science\n",
            "54\n",
            "maths\n",
            "78\n"
          ]
        }
      ]
    },
    {
      "cell_type": "code",
      "source": [],
      "metadata": {
        "id": "gvVAv-1p6NZj"
      },
      "execution_count": null,
      "outputs": []
    },
    {
      "cell_type": "code",
      "source": [
        "# Step 4 : Now we will Create an EMPTY List later using .append() we will Add Numbers into newly Created List\n",
        "\n",
        "scores = []       # here is empty list\n",
        "\n",
        "for word in mlist :\n",
        "\n",
        "  if word.isdigit() :\n",
        "\n",
        "    scores.append( int( word ) )\n",
        "\n",
        "print( scores )"
      ],
      "metadata": {
        "colab": {
          "base_uri": "https://localhost:8080/"
        },
        "id": "yBX9tioV63cn",
        "outputId": "dd2f3e8e-4e99-4eb2-d235-a79078d20007"
      },
      "execution_count": null,
      "outputs": [
        {
          "output_type": "stream",
          "name": "stdout",
          "text": [
            "[86, 54, 78]\n"
          ]
        }
      ]
    },
    {
      "cell_type": "code",
      "source": [],
      "metadata": {
        "id": "z8ryIrW-7HOX"
      },
      "execution_count": null,
      "outputs": []
    },
    {
      "cell_type": "code",
      "source": [
        "# Here is a Quick Activity for Participants !!\n"
      ],
      "metadata": {
        "id": "j5GFd1b5ACFi"
      },
      "execution_count": null,
      "outputs": []
    },
    {
      "cell_type": "code",
      "source": [
        "nbaPositions=\"\"\"\n",
        "PG\n",
        "SF\n",
        "SG\n",
        "PF\n",
        "C\n",
        "PG\n",
        "PG\n",
        "C\n",
        "PG\n",
        "SG\n",
        "SG\n",
        "C\n",
        "SG\n",
        "SG\n",
        "SG\n",
        "\"\"\""
      ],
      "metadata": {
        "id": "ELJn6135ACgS"
      },
      "execution_count": null,
      "outputs": []
    },
    {
      "cell_type": "code",
      "source": [
        "nbaPositions"
      ],
      "metadata": {
        "colab": {
          "base_uri": "https://localhost:8080/",
          "height": 35
        },
        "id": "8KTsX2S9ACiI",
        "outputId": "b8e1d4a4-103e-48cf-d5df-f1043dccc0af"
      },
      "execution_count": null,
      "outputs": [
        {
          "output_type": "execute_result",
          "data": {
            "text/plain": [
              "'\\nPG\\nSF\\nSG\\nPF\\nC\\nPG\\nPG\\nC\\nPG\\nSG\\nSG\\nC\\nSG\\nSG\\nSG\\n'"
            ],
            "application/vnd.google.colaboratory.intrinsic+json": {
              "type": "string"
            }
          },
          "metadata": {},
          "execution_count": 89
        }
      ]
    },
    {
      "cell_type": "code",
      "source": [
        "# Objective: find frequency of each Position\n",
        "# eg. PG  10\n",
        "#     SF  5"
      ],
      "metadata": {
        "id": "lOxfdj_6ACkT"
      },
      "execution_count": null,
      "outputs": []
    },
    {
      "cell_type": "code",
      "source": [
        "nbaPositions.count('PG')"
      ],
      "metadata": {
        "colab": {
          "base_uri": "https://localhost:8080/"
        },
        "id": "68yBy1R3ACmc",
        "outputId": "412cf71d-a6e8-4280-fbfc-3bafeec1e3e7"
      },
      "execution_count": null,
      "outputs": [
        {
          "output_type": "execute_result",
          "data": {
            "text/plain": [
              "4"
            ]
          },
          "metadata": {},
          "execution_count": 92
        }
      ]
    },
    {
      "cell_type": "code",
      "source": [],
      "metadata": {
        "id": "Q0PeKPbjACn-"
      },
      "execution_count": null,
      "outputs": []
    },
    {
      "cell_type": "code",
      "source": [
        "nbaPositions"
      ],
      "metadata": {
        "colab": {
          "base_uri": "https://localhost:8080/",
          "height": 35
        },
        "id": "Gw3npJQ9ACp3",
        "outputId": "a39421b3-fdee-431b-ec09-9ba9c4aef990"
      },
      "execution_count": null,
      "outputs": [
        {
          "output_type": "execute_result",
          "data": {
            "text/plain": [
              "'\\nPG\\nSF\\nSG\\nPF\\nC\\nPG\\nPG\\nC\\nPG\\nSG\\nSG\\nC\\nSG\\nSG\\nSG\\n'"
            ],
            "application/vnd.google.colaboratory.intrinsic+json": {
              "type": "string"
            }
          },
          "metadata": {},
          "execution_count": 93
        }
      ]
    },
    {
      "cell_type": "code",
      "source": [
        "nbaList = nbaPositions.split('\\n')"
      ],
      "metadata": {
        "id": "6So0vXtMACxl"
      },
      "execution_count": null,
      "outputs": []
    },
    {
      "cell_type": "code",
      "source": [
        "print(nbaList)"
      ],
      "metadata": {
        "colab": {
          "base_uri": "https://localhost:8080/"
        },
        "id": "fVjlnhtVCmTD",
        "outputId": "04537c43-06a4-44f8-b8ae-6dc7ceb6068d"
      },
      "execution_count": null,
      "outputs": [
        {
          "output_type": "stream",
          "name": "stdout",
          "text": [
            "['', 'PG', 'SF', 'SG', 'PF', 'C', 'PG', 'PG', 'C', 'PG', 'SG', 'SG', 'C', 'SG', 'SG', 'SG', '']\n"
          ]
        }
      ]
    },
    {
      "cell_type": "code",
      "source": [
        "del nbaList[0]\n",
        "del nbaList[-1]"
      ],
      "metadata": {
        "id": "OoDWULIgCnox"
      },
      "execution_count": null,
      "outputs": []
    },
    {
      "cell_type": "code",
      "source": [
        "print(nbaList)"
      ],
      "metadata": {
        "colab": {
          "base_uri": "https://localhost:8080/"
        },
        "id": "SuR5C-YACwMd",
        "outputId": "6247e7f8-dc34-4323-8606-f80f653119e1"
      },
      "execution_count": null,
      "outputs": [
        {
          "output_type": "stream",
          "name": "stdout",
          "text": [
            "['PG', 'SF', 'SG', 'PF', 'C', 'PG', 'PG', 'C', 'PG', 'SG', 'SG', 'C', 'SG', 'SG', 'SG']\n"
          ]
        }
      ]
    },
    {
      "cell_type": "code",
      "source": [
        "uniqPos = set(nbaList)\n",
        "uniqPos"
      ],
      "metadata": {
        "colab": {
          "base_uri": "https://localhost:8080/"
        },
        "id": "ceTUL_FwCw5A",
        "outputId": "0db3ef0f-4f8a-446f-cfea-3b059193194b"
      },
      "execution_count": null,
      "outputs": [
        {
          "output_type": "execute_result",
          "data": {
            "text/plain": [
              "{'C', 'PF', 'PG', 'SF', 'SG'}"
            ]
          },
          "metadata": {},
          "execution_count": 99
        }
      ]
    },
    {
      "cell_type": "code",
      "source": [],
      "metadata": {
        "id": "j1ipEyb6C2DL"
      },
      "execution_count": null,
      "outputs": []
    },
    {
      "cell_type": "code",
      "source": [
        "for pos in uniqPos :\n",
        "\n",
        "  print(pos ,      nbaList.count( pos ))"
      ],
      "metadata": {
        "colab": {
          "base_uri": "https://localhost:8080/"
        },
        "id": "URQ-aG97DFXh",
        "outputId": "9e65f075-9f65-45d6-da01-b9ab9cc9b954"
      },
      "execution_count": null,
      "outputs": [
        {
          "output_type": "stream",
          "name": "stdout",
          "text": [
            "PF 1\n",
            "SF 1\n",
            "SG 6\n",
            "C 3\n",
            "PG 4\n"
          ]
        }
      ]
    },
    {
      "cell_type": "code",
      "source": [
        "nbaList = nbaPositions.split('\\n')\n"
      ],
      "metadata": {
        "id": "wX6pyaZzDHJY"
      },
      "execution_count": null,
      "outputs": []
    },
    {
      "cell_type": "code",
      "source": [
        "nbaList"
      ],
      "metadata": {
        "colab": {
          "base_uri": "https://localhost:8080/"
        },
        "id": "6XOdbankDxbJ",
        "outputId": "b5cf38a3-c3ec-49e0-a055-5d466260cf33"
      },
      "execution_count": null,
      "outputs": [
        {
          "output_type": "execute_result",
          "data": {
            "text/plain": [
              "['',\n",
              " 'PG',\n",
              " 'SF',\n",
              " 'SG',\n",
              " 'PF',\n",
              " 'C',\n",
              " 'PG',\n",
              " 'PG',\n",
              " 'C',\n",
              " 'PG',\n",
              " 'SG',\n",
              " 'SG',\n",
              " 'C',\n",
              " 'SG',\n",
              " 'SG',\n",
              " 'SG',\n",
              " '']"
            ]
          },
          "metadata": {},
          "execution_count": 103
        }
      ]
    },
    {
      "cell_type": "code",
      "source": [
        "nbaList.remove('')"
      ],
      "metadata": {
        "id": "itMdhav9DyZ-"
      },
      "execution_count": null,
      "outputs": []
    },
    {
      "cell_type": "code",
      "source": [
        "nbaList"
      ],
      "metadata": {
        "colab": {
          "base_uri": "https://localhost:8080/"
        },
        "id": "YA3b6xaXDz6P",
        "outputId": "b207025c-2b71-4612-ca2a-ca6b8cd5232e"
      },
      "execution_count": null,
      "outputs": [
        {
          "output_type": "execute_result",
          "data": {
            "text/plain": [
              "['PG',\n",
              " 'SF',\n",
              " 'SG',\n",
              " 'PF',\n",
              " 'C',\n",
              " 'PG',\n",
              " 'PG',\n",
              " 'C',\n",
              " 'PG',\n",
              " 'SG',\n",
              " 'SG',\n",
              " 'C',\n",
              " 'SG',\n",
              " 'SG',\n",
              " 'SG']"
            ]
          },
          "metadata": {},
          "execution_count": 107
        }
      ]
    },
    {
      "cell_type": "code",
      "source": [],
      "metadata": {
        "id": "xoG93K0pD0vE"
      },
      "execution_count": null,
      "outputs": []
    },
    {
      "cell_type": "code",
      "source": [],
      "metadata": {
        "id": "5RzxXWN1EETx"
      },
      "execution_count": null,
      "outputs": []
    },
    {
      "cell_type": "markdown",
      "source": [
        "# Dictionary\n",
        "---"
      ],
      "metadata": {
        "id": "uLrDTxfQEFaD"
      }
    },
    {
      "cell_type": "code",
      "source": [
        "mydict = {}"
      ],
      "metadata": {
        "id": "lNH-nHphEGXF"
      },
      "execution_count": null,
      "outputs": []
    },
    {
      "cell_type": "code",
      "source": [
        "mydict['AR']  = 'Arkansas'"
      ],
      "metadata": {
        "id": "fhe46jnoEIcP"
      },
      "execution_count": null,
      "outputs": []
    },
    {
      "cell_type": "code",
      "source": [
        "mydict"
      ],
      "metadata": {
        "colab": {
          "base_uri": "https://localhost:8080/"
        },
        "id": "5ORhicoYEL_I",
        "outputId": "60b12b21-4fd5-4f26-924e-d39367430bf3"
      },
      "execution_count": null,
      "outputs": [
        {
          "output_type": "execute_result",
          "data": {
            "text/plain": [
              "{'AR': 'Arkansas'}"
            ]
          },
          "metadata": {},
          "execution_count": 110
        }
      ]
    },
    {
      "cell_type": "code",
      "source": [
        "mydict['AR']"
      ],
      "metadata": {
        "colab": {
          "base_uri": "https://localhost:8080/",
          "height": 35
        },
        "id": "92iaihTKEMX5",
        "outputId": "122651fe-236d-4674-9641-b26c2bd676fd"
      },
      "execution_count": null,
      "outputs": [
        {
          "output_type": "execute_result",
          "data": {
            "text/plain": [
              "'Arkansas'"
            ],
            "application/vnd.google.colaboratory.intrinsic+json": {
              "type": "string"
            }
          },
          "metadata": {},
          "execution_count": 111
        }
      ]
    },
    {
      "cell_type": "code",
      "source": [
        "mydict.get('AR')"
      ],
      "metadata": {
        "colab": {
          "base_uri": "https://localhost:8080/",
          "height": 35
        },
        "id": "BYM4xOGWEN3P",
        "outputId": "344b0f9e-b7bc-438f-858d-38aa30467e01"
      },
      "execution_count": null,
      "outputs": [
        {
          "output_type": "execute_result",
          "data": {
            "text/plain": [
              "'Arkansas'"
            ],
            "application/vnd.google.colaboratory.intrinsic+json": {
              "type": "string"
            }
          },
          "metadata": {},
          "execution_count": 112
        }
      ]
    },
    {
      "cell_type": "code",
      "source": [
        "myset = set()"
      ],
      "metadata": {
        "id": "NQkryPjeEPPs"
      },
      "execution_count": null,
      "outputs": []
    },
    {
      "cell_type": "code",
      "source": [],
      "metadata": {
        "id": "udzry0QnEmiq"
      },
      "execution_count": null,
      "outputs": []
    },
    {
      "cell_type": "code",
      "source": [
        "# ASCII CODES"
      ],
      "metadata": {
        "id": "5SxPPf0vEoZM"
      },
      "execution_count": null,
      "outputs": []
    },
    {
      "cell_type": "code",
      "source": [
        "ord('A')"
      ],
      "metadata": {
        "colab": {
          "base_uri": "https://localhost:8080/"
        },
        "id": "qjYRHBtDErBv",
        "outputId": "8f261d09-7e5e-46c8-cbed-e3d46175848f"
      },
      "execution_count": null,
      "outputs": [
        {
          "output_type": "execute_result",
          "data": {
            "text/plain": [
              "65"
            ]
          },
          "metadata": {},
          "execution_count": 115
        }
      ]
    },
    {
      "cell_type": "code",
      "source": [
        "ord('B')"
      ],
      "metadata": {
        "colab": {
          "base_uri": "https://localhost:8080/"
        },
        "id": "8mxLZ0AaEw0S",
        "outputId": "ef94863f-b450-4af0-e41f-1e783ad78ad2"
      },
      "execution_count": null,
      "outputs": [
        {
          "output_type": "execute_result",
          "data": {
            "text/plain": [
              "66"
            ]
          },
          "metadata": {},
          "execution_count": 116
        }
      ]
    },
    {
      "cell_type": "code",
      "source": [
        "ord('Z')"
      ],
      "metadata": {
        "colab": {
          "base_uri": "https://localhost:8080/"
        },
        "id": "M6S1I7efEymV",
        "outputId": "98da074c-06eb-453b-9d68-ad74a47c8e49"
      },
      "execution_count": null,
      "outputs": [
        {
          "output_type": "execute_result",
          "data": {
            "text/plain": [
              "90"
            ]
          },
          "metadata": {},
          "execution_count": 117
        }
      ]
    },
    {
      "cell_type": "code",
      "source": [
        "65-90"
      ],
      "metadata": {
        "id": "ytRm39VoE676"
      },
      "execution_count": null,
      "outputs": []
    },
    {
      "cell_type": "code",
      "source": [
        "ord('a')"
      ],
      "metadata": {
        "colab": {
          "base_uri": "https://localhost:8080/"
        },
        "id": "9FSfE5FPE9JB",
        "outputId": "62a719e3-2240-4da6-c222-e466ee2684dc"
      },
      "execution_count": null,
      "outputs": [
        {
          "output_type": "execute_result",
          "data": {
            "text/plain": [
              "97"
            ]
          },
          "metadata": {},
          "execution_count": 118
        }
      ]
    },
    {
      "cell_type": "code",
      "source": [
        "ord('b')"
      ],
      "metadata": {
        "colab": {
          "base_uri": "https://localhost:8080/"
        },
        "id": "SzpQKwKkE_9W",
        "outputId": "5b6b0b52-7c0c-4833-82b6-5c256410ee77"
      },
      "execution_count": null,
      "outputs": [
        {
          "output_type": "execute_result",
          "data": {
            "text/plain": [
              "98"
            ]
          },
          "metadata": {},
          "execution_count": 119
        }
      ]
    },
    {
      "cell_type": "code",
      "source": [
        "ord('z')"
      ],
      "metadata": {
        "colab": {
          "base_uri": "https://localhost:8080/"
        },
        "id": "07K4yCqnFCGr",
        "outputId": "fe06b8be-5a1a-478f-8de1-580a3ad98271"
      },
      "execution_count": null,
      "outputs": [
        {
          "output_type": "execute_result",
          "data": {
            "text/plain": [
              "122"
            ]
          },
          "metadata": {},
          "execution_count": 120
        }
      ]
    },
    {
      "cell_type": "code",
      "source": [
        "97-122"
      ],
      "metadata": {
        "id": "2sCiE0iXFF-M"
      },
      "execution_count": null,
      "outputs": []
    },
    {
      "cell_type": "code",
      "source": [],
      "metadata": {
        "id": "IGd1GcRkFJQO"
      },
      "execution_count": null,
      "outputs": []
    },
    {
      "cell_type": "code",
      "source": [
        "chr( 65 )"
      ],
      "metadata": {
        "colab": {
          "base_uri": "https://localhost:8080/",
          "height": 35
        },
        "id": "GYd9kt8mFNEU",
        "outputId": "cec8bc19-32c3-42e2-ef9b-472efc5c555b"
      },
      "execution_count": null,
      "outputs": [
        {
          "output_type": "execute_result",
          "data": {
            "text/plain": [
              "'A'"
            ],
            "application/vnd.google.colaboratory.intrinsic+json": {
              "type": "string"
            }
          },
          "metadata": {},
          "execution_count": 121
        }
      ]
    },
    {
      "cell_type": "code",
      "source": [
        "chr(120)"
      ],
      "metadata": {
        "colab": {
          "base_uri": "https://localhost:8080/",
          "height": 35
        },
        "id": "gvJJwEoaFPjj",
        "outputId": "c4ee6a73-c2d1-4856-d7fa-725b45c1f492"
      },
      "execution_count": null,
      "outputs": [
        {
          "output_type": "execute_result",
          "data": {
            "text/plain": [
              "'x'"
            ],
            "application/vnd.google.colaboratory.intrinsic+json": {
              "type": "string"
            }
          },
          "metadata": {},
          "execution_count": 122
        }
      ]
    },
    {
      "cell_type": "code",
      "source": [],
      "metadata": {
        "id": "gHWjPVDRFS66"
      },
      "execution_count": null,
      "outputs": []
    },
    {
      "cell_type": "code",
      "source": [
        "for code in range( 65 , 91 ):\n",
        "\n",
        "  print(chr( code ) , code ,   end=' ⚡ ')"
      ],
      "metadata": {
        "colab": {
          "base_uri": "https://localhost:8080/"
        },
        "id": "VXxbXizrFfVw",
        "outputId": "9cf57532-7257-4701-ae6e-58a9068219d9"
      },
      "execution_count": null,
      "outputs": [
        {
          "output_type": "stream",
          "name": "stdout",
          "text": [
            "A 65 ⚡ B 66 ⚡ C 67 ⚡ D 68 ⚡ E 69 ⚡ F 70 ⚡ G 71 ⚡ H 72 ⚡ I 73 ⚡ J 74 ⚡ K 75 ⚡ L 76 ⚡ M 77 ⚡ N 78 ⚡ O 79 ⚡ P 80 ⚡ Q 81 ⚡ R 82 ⚡ S 83 ⚡ T 84 ⚡ U 85 ⚡ V 86 ⚡ W 87 ⚡ X 88 ⚡ Y 89 ⚡ Z 90 ⚡ "
          ]
        }
      ]
    },
    {
      "cell_type": "code",
      "source": [],
      "metadata": {
        "id": "ZpHF9myqFjLK"
      },
      "execution_count": null,
      "outputs": []
    },
    {
      "cell_type": "code",
      "source": [
        "mydict= {}\n",
        "\n",
        "for code in range( 65 , 91 ):\n",
        "\n",
        "#               key                    value\n",
        "\n",
        "  mydict[    chr( code ) ]      =      code"
      ],
      "metadata": {
        "id": "T-rST9ihF58u"
      },
      "execution_count": null,
      "outputs": []
    },
    {
      "cell_type": "code",
      "source": [
        "mydict"
      ],
      "metadata": {
        "colab": {
          "base_uri": "https://localhost:8080/"
        },
        "id": "48mh4zOOGAQT",
        "outputId": "4f02b16e-1576-4211-e436-d164a4bf4cd6"
      },
      "execution_count": null,
      "outputs": [
        {
          "output_type": "execute_result",
          "data": {
            "text/plain": [
              "{'A': 65,\n",
              " 'B': 66,\n",
              " 'C': 67,\n",
              " 'D': 68,\n",
              " 'E': 69,\n",
              " 'F': 70,\n",
              " 'G': 71,\n",
              " 'H': 72,\n",
              " 'I': 73,\n",
              " 'J': 74,\n",
              " 'K': 75,\n",
              " 'L': 76,\n",
              " 'M': 77,\n",
              " 'N': 78,\n",
              " 'O': 79,\n",
              " 'P': 80,\n",
              " 'Q': 81,\n",
              " 'R': 82,\n",
              " 'S': 83,\n",
              " 'T': 84,\n",
              " 'U': 85,\n",
              " 'V': 86,\n",
              " 'W': 87,\n",
              " 'X': 88,\n",
              " 'Y': 89,\n",
              " 'Z': 90}"
            ]
          },
          "metadata": {},
          "execution_count": 128
        }
      ]
    },
    {
      "cell_type": "code",
      "source": [
        "# here is a small activity that builds confidence"
      ],
      "metadata": {
        "id": "bnRkCRjNGA28"
      },
      "execution_count": null,
      "outputs": []
    },
    {
      "cell_type": "code",
      "source": [
        "playerWeights= [ 110, 220 , 180 , 156 , 140  ]          # weight in pounds\n",
        "\n",
        "\n",
        "# key  : weight in pounds\n",
        "# value : weight in kg"
      ],
      "metadata": {
        "id": "2x05V7yvGmhz"
      },
      "execution_count": null,
      "outputs": []
    },
    {
      "cell_type": "code",
      "source": [
        "pwDict = {}"
      ],
      "metadata": {
        "id": "F2d6BmBXGuU0"
      },
      "execution_count": null,
      "outputs": []
    },
    {
      "cell_type": "code",
      "source": [
        "for    w     in playerWeights :\n",
        "\n",
        "  pwDict[    w  ]     =      w * 0.45\n",
        "\n",
        "print( pwDict )"
      ],
      "metadata": {
        "colab": {
          "base_uri": "https://localhost:8080/"
        },
        "id": "SCni8PbOH1U6",
        "outputId": "7ea32883-bf67-47f1-d966-4d15aca0b23e"
      },
      "execution_count": null,
      "outputs": [
        {
          "output_type": "stream",
          "name": "stdout",
          "text": [
            "{110: 49.5, 220: 99.0, 180: 81.0, 156: 70.2, 140: 63.0}\n"
          ]
        }
      ]
    },
    {
      "cell_type": "code",
      "source": [],
      "metadata": {
        "id": "ToBlkMZ5H-Xw"
      },
      "execution_count": null,
      "outputs": []
    },
    {
      "cell_type": "code",
      "source": [
        "marks= [ 54 , 29 , 56 , 31 , 38 , 68 ]"
      ],
      "metadata": {
        "id": "kpseM4-5IDYS"
      },
      "execution_count": null,
      "outputs": []
    },
    {
      "cell_type": "code",
      "source": [
        "# create a dictionary where\n",
        "\n",
        "# key : score\n",
        "\n",
        "# value : 'Pass' or 'Fail'\n",
        "\n",
        "# note : any score> 45 is Pass otherwise Fail"
      ],
      "metadata": {
        "id": "6LYk916rIHsC"
      },
      "execution_count": null,
      "outputs": []
    },
    {
      "cell_type": "code",
      "source": [
        "mydict = {}"
      ],
      "metadata": {
        "id": "vrJ2r4GAJajz"
      },
      "execution_count": null,
      "outputs": []
    },
    {
      "cell_type": "code",
      "source": [
        "for score in marks :\n",
        "\n",
        "  if score > 45 :\n",
        "\n",
        "    mydict [ score ] = '😀'\n",
        "\n",
        "  else:\n",
        "\n",
        "    mydict[ score ] = '😭'\n",
        "\n",
        "\n",
        "print( mydict )"
      ],
      "metadata": {
        "colab": {
          "base_uri": "https://localhost:8080/"
        },
        "id": "ucnFjl8VJgIf",
        "outputId": "2a156614-10f8-4a6e-931a-cfbc27e54dd2"
      },
      "execution_count": null,
      "outputs": [
        {
          "output_type": "stream",
          "name": "stdout",
          "text": [
            "{54: '😀', 29: '😭', 56: '😀', 31: '😭', 38: '😭', 68: '😀'}\n"
          ]
        }
      ]
    },
    {
      "cell_type": "code",
      "source": [],
      "metadata": {
        "id": "PGOenXPCJqZu"
      },
      "execution_count": null,
      "outputs": []
    },
    {
      "cell_type": "code",
      "source": [
        "# here is another activity"
      ],
      "metadata": {
        "id": "KSvWDJ3zJwOb"
      },
      "execution_count": null,
      "outputs": []
    },
    {
      "cell_type": "code",
      "source": [
        "# below is the prescription\n",
        "\n",
        "days = ['sun','mon','tue','wed']\n",
        "\n",
        "fruits= ['apple','kiwi','papaya','grapes']"
      ],
      "metadata": {
        "id": "ZiB0jWYrJxze"
      },
      "execution_count": null,
      "outputs": []
    },
    {
      "cell_type": "code",
      "source": [
        "# objective: produce a dictionary where\n",
        "\n",
        "# key : day\n",
        "# value : fruit\n",
        "\n",
        "# eg. {'sun' :'apple'....}\n",
        "\n",
        "# hint : zip() function"
      ],
      "metadata": {
        "id": "vYBnjqkRJ5J4"
      },
      "execution_count": null,
      "outputs": []
    },
    {
      "cell_type": "code",
      "source": [
        "# below is the prescription\n",
        "\n",
        "days = ['sun','mon','tue','wed']\n",
        "\n",
        "fruits= ['apple','kiwi','papaya','grapes']"
      ],
      "metadata": {
        "id": "OHRSWuWKKA87"
      },
      "execution_count": null,
      "outputs": []
    },
    {
      "cell_type": "code",
      "source": [
        "mydict={}\n",
        "\n",
        "\n",
        "for d , f           in zip( days, fruits ):\n",
        "\n",
        "  mydict[ d ] = f"
      ],
      "metadata": {
        "id": "bcM2mcSoLEOR"
      },
      "execution_count": null,
      "outputs": []
    },
    {
      "cell_type": "code",
      "source": [
        "mydict"
      ],
      "metadata": {
        "colab": {
          "base_uri": "https://localhost:8080/"
        },
        "id": "mGqCjv64LHcP",
        "outputId": "929ef74e-078e-4643-e661-5f93d83144ac"
      },
      "execution_count": null,
      "outputs": [
        {
          "output_type": "execute_result",
          "data": {
            "text/plain": [
              "{'sun': 'apple', 'mon': 'kiwi', 'tue': 'papaya', 'wed': 'grapes'}"
            ]
          },
          "metadata": {},
          "execution_count": 143
        }
      ]
    },
    {
      "cell_type": "code",
      "source": [],
      "metadata": {
        "id": "rPJOf6c1LWjW"
      },
      "execution_count": null,
      "outputs": []
    }
  ]
}